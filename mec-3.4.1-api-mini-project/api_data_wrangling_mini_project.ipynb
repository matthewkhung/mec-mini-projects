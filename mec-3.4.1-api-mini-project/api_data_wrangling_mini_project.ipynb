{
 "cells": [
  {
   "cell_type": "markdown",
   "source": [
    "This exercise will require you to pull some data from https://data.nasdaq.com/ (formerly Quandl API)."
   ],
   "metadata": {
    "pycharm": {
     "name": "#%% md\n"
    }
   }
  },
  {
   "cell_type": "markdown",
   "source": [
    "As a first step, you will need to register a free account on the https://data.nasdaq.com/ website."
   ],
   "metadata": {
    "pycharm": {
     "name": "#%% md\n"
    }
   }
  },
  {
   "cell_type": "markdown",
   "source": [
    "After you register, you will be provided with a unique API key, that you should store:\n",
    "\n",
    "*Note*: Use a `.env` file and put your key in there and `python-dotenv` to access it in this notebook. \n",
    "\n",
    "The code below uses a key that was used when generating this project but has since been deleted. Never submit your keys to source control. There is a `.env-example` file in this repository to illusrtate what you need. Copy that to a file called `.env` and use your own api key in that `.env` file. Make sure you also have a `.gitignore` file with a line for `.env` added to it. \n",
    "\n",
    "The standard Python gitignore is [here](https://github.com/github/gitignore/blob/master/Python.gitignore) you can just copy that. "
   ],
   "metadata": {
    "pycharm": {
     "name": "#%% md\n"
    }
   }
  },
  {
   "cell_type": "code",
   "execution_count": 2,
   "source": [
    "# get api key from your .env file\n",
    "import os\n",
    "from dotenv import load_dotenv  # if missing this module, simply run `pip install python-dotenv`\n",
    "\n",
    "load_dotenv()\n",
    "API_KEY = os.getenv('NASDAQ_API_KEY')\n",
    "\n",
    "print(API_KEY)"
   ],
   "outputs": [
    {
     "name": "stdout",
     "output_type": "stream",
     "text": [
      "dL7YWhFXv-QyqpN_Drjh\n"
     ]
    }
   ],
   "metadata": {
    "pycharm": {
     "name": "#%%\n"
    }
   }
  },
  {
   "cell_type": "markdown",
   "source": [
    "Nasdaq Data has a large number of data sources, but, unfortunately, most of them require a Premium subscription. Still, there are also a good number of free datasets."
   ],
   "metadata": {
    "pycharm": {
     "name": "#%% md\n"
    }
   }
  },
  {
   "cell_type": "markdown",
   "source": [
    "For this mini project, we will focus on equities data from the Frankfurt Stock Exhange (FSE), which is available for free. We'll try and analyze the stock prices of a company called Carl Zeiss Meditec, which manufactures tools for eye examinations, as well as medical lasers for laser eye surgery: https://www.zeiss.com/meditec/int/home.html. The company is listed under the stock ticker AFX_X."
   ],
   "metadata": {
    "pycharm": {
     "name": "#%% md\n"
    }
   }
  },
  {
   "cell_type": "markdown",
   "source": [
    "You can find the detailed Nasdaq Data API instructions here: https://docs.data.nasdaq.com/docs/in-depth-usage"
   ],
   "metadata": {
    "pycharm": {
     "name": "#%% md\n"
    }
   }
  },
  {
   "cell_type": "markdown",
   "source": [
    "While there is a dedicated Python package for connecting to the Nasdaq API, we would prefer that you use the *requests* package, which can be easily downloaded using *pip* or *conda*. You can find the documentation for the package here: http://docs.python-requests.org/en/master/ "
   ],
   "metadata": {
    "pycharm": {
     "name": "#%% md\n"
    }
   }
  },
  {
   "cell_type": "markdown",
   "source": [
    "Finally, apart from the *requests* package, you are encouraged to not use any third party Python packages, such as *pandas*, and instead focus on what's available in the Python Standard Library (the *collections* module might come in handy: https://pymotw.com/3/collections/).\n",
    "Also, since you won't have access to DataFrames, you are encouraged to us Python's native data structures - preferably dictionaries, though some questions can also be answered using lists.\n",
    "You can read more on these data structures here: https://docs.python.org/3/tutorial/datastructures.html"
   ],
   "metadata": {
    "pycharm": {
     "name": "#%% md\n"
    }
   }
  },
  {
   "cell_type": "markdown",
   "source": [
    "Keep in mind that the JSON responses you will be getting from the API map almost one-to-one to Python's dictionaries. Unfortunately, they can be very nested, so make sure you read up on indexing dictionaries in the documentation provided above."
   ],
   "metadata": {
    "pycharm": {
     "name": "#%% md\n"
    }
   }
  },
  {
   "cell_type": "code",
   "execution_count": 3,
   "source": [
    "# First, import the relevant modules\n",
    "import requests"
   ],
   "outputs": [],
   "metadata": {
    "pycharm": {
     "name": "#%%\n"
    }
   }
  },
  {
   "cell_type": "markdown",
   "source": [
    "Note: API's can change a bit with each version, for this exercise it is reccomended to use the nasdaq api at `https://data.nasdaq.com/api/v3/`. This is the same api as what used to be quandl so `https://www.quandl.com/api/v3/` should work too.\n",
    "\n",
    "Hint: We are looking for the `AFX_X` data on the `datasets/FSE/` dataset."
   ],
   "metadata": {
    "pycharm": {
     "name": "#%% md\n"
    }
   }
  },
  {
   "cell_type": "code",
   "execution_count": 36,
   "outputs": [
    {
     "name": "stdout",
     "output_type": "stream",
     "text": [
      "https://data.nasdaq.com/api/v3/datasets/FSE/AFX_X/data.json?api_key=dL7YWhFXv-QyqpN_Drjh&start_date=2020-11-29\n",
      "status: 200\n"
     ]
    }
   ],
   "source": [
    "# Now, call the Nasdaq API and pull out a small sample of the data (only one day) to get a glimpse\n",
    "# into the JSON structure that will be returned\n",
    "dataset_params = {'database_code': 'FSE',\n",
    "                  'dataset_code': 'AFX_X',\n",
    "                  'return_format': 'json'}\n",
    "\n",
    "url = 'https://data.nasdaq.com/api/v3/datasets/{database_code}/{dataset_code}/data.{return_format}'.format(**dataset_params)\n",
    "# note, cannot grab data past 2020-12-01\n",
    "r = requests.get(url, params={'api_key': API_KEY, 'start_date':'2020-11-29'})\n",
    "print(r.url)\n",
    "print('status: %i' %r.status_code)"
   ],
   "metadata": {
    "collapsed": false,
    "pycharm": {
     "name": "#%%\n"
    }
   }
  },
  {
   "cell_type": "code",
   "execution_count": 38,
   "source": [
    "# Inspect the JSON structure of the object you created, and take note of how nested it is,\n",
    "# as well as the overall structure\n",
    "print(r.text)"
   ],
   "outputs": [
    {
     "name": "stdout",
     "output_type": "stream",
     "text": [
      "{\"dataset_data\":{\"limit\":null,\"transform\":null,\"column_index\":null,\"column_names\":[\"Date\",\"Open\",\"High\",\"Low\",\"Close\",\"Change\",\"Traded Volume\",\"Turnover\",\"Last Price of the Day\",\"Daily Traded Units\",\"Daily Turnover\"],\"start_date\":\"2020-11-29\",\"end_date\":\"2020-12-01\",\"frequency\":\"daily\",\"data\":[[\"2020-12-01\",112.2,112.2,111.5,112.0,null,51.0,5703.0,null,null,null],[\"2020-11-30\",111.0,113.6,111.0,112.1,null,315.0,35111.5,null,null,null]],\"collapse\":null,\"order\":null}}\n"
     ]
    }
   ],
   "metadata": {
    "pycharm": {
     "name": "#%%\n"
    }
   }
  },
  {
   "cell_type": "markdown",
   "source": [
    "These are your tasks for this mini project:\n",
    "\n",
    "1. Collect data from the Franfurt Stock Exchange, for the ticker AFX_X, for the whole year 2017 (keep in mind that the date format is YYYY-MM-DD).\n",
    "2. Convert the returned JSON object into a Python dictionary.\n",
    "3. Calculate what the highest and lowest opening prices were for the stock in this period.\n",
    "4. What was the largest change in any one day (based on High and Low price)?\n",
    "5. What was the largest change between any two days (based on Closing Price)?\n",
    "6. What was the average daily trading volume during this year?\n",
    "7. (Optional) What was the median trading volume during this year. (Note: you may need to implement your own function for calculating the median.)"
   ],
   "metadata": {
    "pycharm": {
     "name": "#%% md\n"
    }
   }
  },
  {
   "cell_type": "code",
   "execution_count": 81,
   "source": [
    "#1. Collect data from the Franfurt Stock Exchange, for the ticker AFX_X, for the whole year 2017 (keep in mind that the date format is YYYY-MM-DD).\n",
    "# build url with exchange, ticker, format\n",
    "dataset_params = {'database_code': 'FSE',\n",
    "                  'dataset_code': 'AFX_X',\n",
    "                  'return_format': 'json'}\n",
    "url = 'https://data.nasdaq.com/api/v3/datasets/{database_code}/{dataset_code}/data.{return_format}'.format(**dataset_params)\n",
    "\n",
    "# request data for year of 2017\n",
    "request_params = {\n",
    "    'api_key'       : API_KEY,\n",
    "    'start_date'    : '2017-01-01',\n",
    "    'end_date'      : '2017-12-31'\n",
    "}\n",
    "r = requests.get(url, params=request_params)\n",
    "print(r.url)\n",
    "print('status: %i' %r.status_code)"
   ],
   "outputs": [
    {
     "name": "stdout",
     "output_type": "stream",
     "text": [
      "https://data.nasdaq.com/api/v3/datasets/FSE/AFX_X/data.json?api_key=dL7YWhFXv-QyqpN_Drjh&start_date=2017-01-01&end_date=2017-12-31\n",
      "status: 200\n"
     ]
    }
   ],
   "metadata": {
    "pycharm": {
     "name": "#%%\n"
    }
   }
  },
  {
   "cell_type": "code",
   "execution_count": 131,
   "outputs": [
    {
     "name": "stdout",
     "output_type": "stream",
     "text": [
      "Column Names:['Date', 'Open', 'High', 'Low', 'Close', 'Change', 'Traded Volume', 'Turnover', 'Last Price of the Day', 'Daily Traded Units', 'Daily Turnover']\n",
      "[['2017-12-29', 51.76, 51.94, 51.45, 51.76, None, 34640.0, 1792304.0, None, None, None], ['2017-12-28', 51.65, 51.82, 51.43, 51.6, None, 40660.0, 2099024.0, None, None, None], ['2017-12-27', 51.45, 51.89, 50.76, 51.82, None, 57452.0, 2957018.0, None, None, None], ['2017-12-22', 51.05, 51.5, 50.92, 51.32, None, 71165.0, 3641949.0, None, None, None], ['2017-12-21', 51.16, 51.52, 50.9, 51.4, None, 120649.0, 6179433.0, None, None, None], ['2017-12-20', 51.88, 52.04, 51.2, 51.27, None, 50587.0, 2610258.0, None, None, None], ['2017-12-19', 52.73, 52.73, 51.07, 51.66, None, 137313.0, 7102361.0, None, None, None], ['2017-12-18', 52.37, 52.75, 51.61, 52.62, None, 129733.0, 6770499.0, None, None, None], ['2017-12-15', 52.7, 52.7, 51.64, 52.01, None, 204080.0, 10596319.0, None, None, None], ['2017-12-14', 53.11, 53.54, 52.15, 52.67, None, 132981.0, 7016953.0, None, None, None]]\n"
     ]
    }
   ],
   "source": [
    "#2. Convert the returned JSON object into a Python dictionary.\n",
    "# jsonify results\n",
    "ticker_json = r.json()\n",
    "ticker_header = ticker_json.get('dataset_data').get('column_names')\n",
    "# extract column names\n",
    "print('Column Names:%s' %(str(ticker_header)) )\n",
    "\n",
    "# build dataset as 2D list\n",
    "ticker_data = ticker_json.get('dataset_data').get('data')\n",
    "print(ticker_data[0:10])\n",
    "\n",
    "# extract useful indices\n",
    "idx_date = ticker_header.index('Date')\n",
    "idx_open = ticker_header.index('Open')\n",
    "idx_high = ticker_header.index('High')\n",
    "idx_low = ticker_header.index('Low')\n",
    "idx_close = ticker_header.index('Close')\n",
    "idx_volume = ticker_header.index('Traded Volume')"
   ],
   "metadata": {
    "collapsed": false,
    "pycharm": {
     "name": "#%%\n"
    }
   }
  },
  {
   "cell_type": "code",
   "execution_count": 117,
   "outputs": [
    {
     "name": "stdout",
     "output_type": "stream",
     "text": [
      "Highest open was $53.11 on 2017-12-14\n",
      "Lowest open was $34.00 on 2017-01-24\n"
     ]
    }
   ],
   "source": [
    "#3. Calculate what the highest and lowest opening prices were for the stock in this period.\n",
    "# vectorize open prices\n",
    "ticker_open = [x[idx_open] for x in ticker_data]\n",
    "# create a second vector to clean Nones (first will be used for index)\n",
    "ticker_open_clean = [x[idx_open] for x in ticker_data if x[idx_open] is not None]\n",
    "# get max and date\n",
    "open_max = max(ticker_open_clean)\n",
    "open_max_date = ticker_data[ticker_open.index(open_max)][idx_date]\n",
    "# get min and date\n",
    "open_min = min(ticker_open_clean)\n",
    "open_min_date = ticker_data[ticker_open.index(open_min)][idx_date]\n",
    "print(\"Highest open was $%0.2f on %s\" %(open_max, open_max_date))\n",
    "print(\"Lowest open was $%0.2f on %s\" %(open_min, open_min_date))"
   ],
   "metadata": {
    "collapsed": false,
    "pycharm": {
     "name": "#%%\n"
    }
   }
  },
  {
   "cell_type": "code",
   "execution_count": 130,
   "outputs": [
    {
     "name": "stdout",
     "output_type": "stream",
     "text": [
      "The greatest change was $2.81 on 2017-05-11\n"
     ]
    }
   ],
   "source": [
    "#4. What was the largest change in any one day (based on High and Low price)?\n",
    "# compute absolute delta\n",
    "abs_delta = [abs(x[idx_high]-x[idx_low]) for x in ticker_data]\n",
    "# get max delta and date\n",
    "abs_delta_max = max(abs_delta)\n",
    "abs_delta_max_date = ticker_data[abs_delta.index(abs_delta_max)][idx_date]\n",
    "print('The greatest change was $%0.2f on %s' %(abs_delta_max, abs_delta_max_date))"
   ],
   "metadata": {
    "collapsed": false,
    "pycharm": {
     "name": "#%%\n"
    }
   }
  },
  {
   "cell_type": "code",
   "execution_count": 150,
   "outputs": [
    {
     "name": "stdout",
     "output_type": "stream",
     "text": [
      "The greatest daily change was $2.81 between 2017-08-08 and 2017-08-09\n"
     ]
    }
   ],
   "source": [
    "# 5. What was the largest change between any two days (based on Closing Price)?\n",
    "# vectorize closing prices\n",
    "t0_closing = [x[idx_close] for x in ticker_data]\n",
    "# copy and shift array\n",
    "t1_closing = t0_closing.copy()\n",
    "t1_closing.pop(0)\n",
    "# calculate daily delta\n",
    "daily_delta_abs = []\n",
    "for idx in range(0,len(t1_closing)):\n",
    "    daily_delta_abs.append( abs( round((t1_closing[idx] - t0_closing[idx]), 2) ) )\n",
    "# find max daily change and date\n",
    "daily_delta_abs_max = max(daily_delta_abs)\n",
    "abs_delta_max_date_t0 = ticker_data[daily_delta_abs.index(daily_delta_abs_max)][idx_date]\n",
    "abs_delta_max_date_t1 = ticker_data[daily_delta_abs.index(daily_delta_abs_max)+1][idx_date]\n",
    "print('The greatest daily change was $%0.2f between %s and %s' %(abs_delta_max, abs_delta_max_date_t1, abs_delta_max_date_t0))"
   ],
   "metadata": {
    "collapsed": false,
    "pycharm": {
     "name": "#%%\n"
    }
   }
  },
  {
   "cell_type": "code",
   "execution_count": 166,
   "outputs": [
    {
     "name": "stdout",
     "output_type": "stream",
     "text": [
      "The greatest Volume was 670349 on 2017-03-22\n"
     ]
    }
   ],
   "source": [
    "# 6. What was the average daily trading volume during this year?\n",
    "# vectorize ticker_volume\n",
    "ticker_volume = [x[idx_volume] for x in ticker_data]\n",
    "# find max volume and date\n",
    "volume_max = max(ticker_volume)\n",
    "volume_max_date = ticker_data[ticker_volume.index(volume_max)][idx_date]\n",
    "print('The greatest Volume was %0.f on %s' %(volume_max, volume_max_date))"
   ],
   "metadata": {
    "collapsed": false,
    "pycharm": {
     "name": "#%%\n"
    }
   }
  },
  {
   "cell_type": "code",
   "execution_count": 169,
   "outputs": [
    {
     "name": "stdout",
     "output_type": "stream",
     "text": [
      "The median ticker volume is 76286\n"
     ]
    }
   ],
   "source": [
    "# 7. (Optional) What was the median trading volume during this year. (Note: you may need to implement your own function for calculating the median.)\n",
    "# sort\n",
    "ticker_volume.sort()\n",
    "# determine if list is even and find median\n",
    "if len(ticker_volume)%2:\n",
    "    # take middle number of sorted list for odd numbered list\n",
    "    idx_median = int(len(ticker_volume)/2 + 0.5 - 1)\n",
    "    median = ticker_volume[idx_median]\n",
    "else:\n",
    "    # average numbers left and right of the middle\n",
    "    idx_median = int(len(ticker_volume)/2 - 1)\n",
    "    median = (ticker_volume[idx_median] + ticker_volume[idx_median+1] ) / 2\n",
    "print('The median ticker volume is %0.f' %median)"
   ],
   "metadata": {
    "collapsed": false,
    "pycharm": {
     "name": "#%%\n"
    }
   }
  }
 ],
 "metadata": {
  "kernelspec": {
   "name": "python3",
   "display_name": "Python 3.7.9 64-bit ('springboard': conda)"
  },
  "language_info": {
   "codemirror_mode": {
    "name": "ipython",
    "version": 3
   },
   "file_extension": ".py",
   "mimetype": "text/x-python",
   "name": "python",
   "nbconvert_exporter": "python",
   "pygments_lexer": "ipython3",
   "version": "3.7.9"
  },
  "interpreter": {
   "hash": "4885f37acae9217c235118400878352aafa7b76e66df698a1f601374f86939a7"
  }
 },
 "nbformat": 4,
 "nbformat_minor": 4
}