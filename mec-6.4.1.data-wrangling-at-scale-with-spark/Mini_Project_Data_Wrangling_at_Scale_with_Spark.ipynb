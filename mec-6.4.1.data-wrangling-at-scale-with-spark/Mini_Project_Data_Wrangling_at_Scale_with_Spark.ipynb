{
 "cells": [
  {
   "cell_type": "markdown",
   "source": [
    "# Analyzing Web Server Logs with Apache Spark\n",
    "\n",
    "Apache Spark is an excellent and ideal framework for wrangling, analyzing and modeling on structured and unstructured data - at scale! In this mini-project, we will be focusing on one of the most popular use-cases in the industry - log analytics.\n",
    "\n",
    "Typically, server logs are a very common data source in enterprises and often contain a gold mine of actionable insights and information. Log data comes from many sources in an enterprise, such as the web, client and compute servers, applications, user-generated content, flat files. They can be used for monitoring servers, improving business and customer intelligence, building recommendation systems, fraud detection, and much more.\n",
    "\n",
    "Spark allows you to dump and store your logs in files on disk cheaply, while still providing rich APIs to perform data analysis at scale. This mini-project will show you how to use Apache Spark on real-world production logs from NASA.\n",
    "You will complete the extract, transform, and load (ETL) process in this Apache Spark enviroment. During this process, you will learn why the ETL process is so crucial to the quality of the machine learning work we will be doing later on.\n",
    "\n",
    "\n",
    "There is a total of 15 questions for you to solve along with some interactive examples which will help you learn aspects of leveraging spark for analyzing over 3 million logs at scale.\n",
    "\n",
    "Remember to focus on the __`# TODO: Replace <FILL IN> with appropriate code`__ sections to fill them up with necessary code to solve the desired questions in the notebook"
   ],
   "metadata": {
    "colab_type": "text",
    "id": "q0ap-hmpXu-s",
    "application/vnd.databricks.v1+cell": {
     "showTitle": false,
     "cellMetadata": {},
     "nuid": "2fbb81f4-6582-4925-8d87-fe532d930e00",
     "inputWidgets": {},
     "title": ""
    }
   }
  },
  {
   "cell_type": "markdown",
   "source": [
    "# Data extraction:"
   ],
   "metadata": {
    "colab_type": "text",
    "id": "6IkR5OAXYBVV",
    "application/vnd.databricks.v1+cell": {
     "showTitle": false,
     "cellMetadata": {},
     "nuid": "d6137540-61cb-4169-9037-81988670e4b0",
     "inputWidgets": {},
     "title": ""
    }
   }
  },
  {
   "cell_type": "markdown",
   "source": [
    "# Step 1 - Loading up Dependencies"
   ],
   "metadata": {
    "colab_type": "text",
    "id": "W4XXOPlzXu-7",
    "application/vnd.databricks.v1+cell": {
     "showTitle": false,
     "cellMetadata": {},
     "nuid": "6a5cc72d-3136-4a34-a707-ed6dad4bac45",
     "inputWidgets": {},
     "title": ""
    }
   }
  },
  {
   "cell_type": "code",
   "source": [
    "spark"
   ],
   "metadata": {
    "colab_type": "code",
    "id": "zYGRL15uXu--",
    "application/vnd.databricks.v1+cell": {
     "showTitle": false,
     "cellMetadata": {},
     "nuid": "61a21b60-c164-47dd-ab89-2f4be75b655f",
     "inputWidgets": {},
     "title": ""
    },
    "colab": {},
    "outputId": "34c065c7-f451-4543-dde3-5ddbbcada8c6"
   },
   "outputs": [
    {
     "output_type": "display_data",
     "metadata": {
      "application/vnd.databricks.v1+output": {
       "datasetInfos": [],
       "data": "\n            <div>\n                <p><b>SparkSession - hive</b></p>\n                \n        <div>\n            <p><b>SparkContext</b></p>\n\n            <p><a href=\"/?o=5367707435342941#setting/sparkui/1223-052324-ihcqaqh2/driver-5540971522526818904\">Spark UI</a></p>\n\n            <dl>\n              <dt>Version</dt>\n                <dd><code>v3.2.1</code></dd>\n              <dt>Master</dt>\n                <dd><code>local[8]</code></dd>\n              <dt>AppName</dt>\n                <dd><code>Databricks Shell</code></dd>\n            </dl>\n        </div>\n        \n            </div>\n        ",
       "textData": null,
       "removedWidgets": [],
       "addedWidgets": {},
       "metadata": {},
       "type": "htmlSandbox",
       "arguments": {}
      }
     },
     "data": {
      "text/html": [
       "\n            <div>\n                <p><b>SparkSession - hive</b></p>\n                \n        <div>\n            <p><b>SparkContext</b></p>\n\n            <p><a href=\"/?o=5367707435342941#setting/sparkui/1223-052324-ihcqaqh2/driver-5540971522526818904\">Spark UI</a></p>\n\n            <dl>\n              <dt>Version</dt>\n                <dd><code>v3.2.1</code></dd>\n              <dt>Master</dt>\n                <dd><code>local[8]</code></dd>\n              <dt>AppName</dt>\n                <dd><code>Databricks Shell</code></dd>\n            </dl>\n        </div>\n        \n            </div>\n        "
      ]
     }
    }
   ],
   "execution_count": 0
  },
  {
   "cell_type": "code",
   "source": [
    "sqlContext"
   ],
   "metadata": {
    "colab_type": "code",
    "id": "TQ9VOjOGXu_N",
    "application/vnd.databricks.v1+cell": {
     "showTitle": false,
     "cellMetadata": {},
     "nuid": "36176b33-3bc0-49ad-8268-ea1a7a0f461a",
     "inputWidgets": {},
     "title": ""
    },
    "colab": {},
    "outputId": "8c2ee3dc-5d83-475e-c77a-3b83e98cff42"
   },
   "outputs": [
    {
     "output_type": "display_data",
     "metadata": {
      "application/vnd.databricks.v1+output": {
       "datasetInfos": [],
       "data": "Out[3]: <pyspark.sql.context.SQLContext at 0x7f2021140520>",
       "removedWidgets": [],
       "addedWidgets": {},
       "metadata": {},
       "type": "ansi",
       "arguments": {}
      }
     },
     "data": {
      "text/plain": [
       "Out[3]: <pyspark.sql.context.SQLContext at 0x7f2021140520>"
      ]
     }
    }
   ],
   "execution_count": 0
  },
  {
   "cell_type": "code",
   "source": [
    "if 'sc' not in locals():\n",
    "    from pyspark.context import SparkContext\n",
    "    from pyspark.sql.context import SQLContext\n",
    "    from pyspark.sql.session import SparkSession\n",
    "    \n",
    "    sc = SparkContext()\n",
    "    sqlContext = SQLContext(sc)\n",
    "    spark = SparkSession(sc)"
   ],
   "metadata": {
    "colab_type": "code",
    "id": "IM6ajIMVXu_V",
    "application/vnd.databricks.v1+cell": {
     "showTitle": false,
     "cellMetadata": {},
     "nuid": "e86639b6-1e07-4971-b7b7-f482f23e97ad",
     "inputWidgets": {},
     "title": ""
    },
    "colab": {},
    "outputId": "d49062e6-607c-42bf-e2de-5019dee77ce0"
   },
   "outputs": [],
   "execution_count": 0
  },
  {
   "cell_type": "code",
   "source": [
    "import re\n",
    "import pandas as pd"
   ],
   "metadata": {
    "colab_type": "code",
    "id": "r3E2N5WCXu_b",
    "application/vnd.databricks.v1+cell": {
     "showTitle": false,
     "cellMetadata": {},
     "nuid": "f930ab8d-2816-45f5-b237-9d806eadecae",
     "inputWidgets": {},
     "title": ""
    },
    "colab": {},
    "outputId": "cb9f5a8a-06b5-407a-c634-a703b3e5b92b"
   },
   "outputs": [],
   "execution_count": 0
  },
  {
   "cell_type": "code",
   "source": [
    "m = re.finditer(r'.*?(spark).*?', \"I'm searching for a spark in PySpark\", re.I)\n",
    "for match in m:\n",
    "    print(match)"
   ],
   "metadata": {
    "colab_type": "code",
    "id": "UupCPIruXu_i",
    "application/vnd.databricks.v1+cell": {
     "showTitle": false,
     "cellMetadata": {},
     "nuid": "de272af0-3494-4732-8a10-c2a1bb4c553d",
     "inputWidgets": {},
     "title": ""
    },
    "colab": {},
    "outputId": "ae83b30e-9b7e-458f-fd16-94d9d738e589"
   },
   "outputs": [
    {
     "output_type": "display_data",
     "metadata": {
      "application/vnd.databricks.v1+output": {
       "datasetInfos": [],
       "data": "<re.Match object; span=(0, 25), match=\"I'm searching for a spark\">\n<re.Match object; span=(25, 36), match=' in PySpark'>\n",
       "removedWidgets": [],
       "addedWidgets": {},
       "metadata": {},
       "type": "ansi",
       "arguments": {}
      }
     },
     "data": {
      "text/plain": [
       "<re.Match object; span=(0, 25), match=\"I'm searching for a spark\">\n<re.Match object; span=(25, 36), match=' in PySpark'>\n"
      ]
     }
    }
   ],
   "execution_count": 0
  },
  {
   "cell_type": "markdown",
   "source": [
    "For this mini-project, we will analyze datasets from NASA Kennedy Space Center web server in Florida. The full data set is freely available for download [__here__](http://ita.ee.lbl.gov/html/contrib/NASA-HTTP.html).\n",
    "\n",
    "These two traces contain two month's worth of all HTTP requests to the NASA Kennedy Space Center WWW server in Florida. You can head over to the [__website__](http://ita.ee.lbl.gov/html/contrib/NASA-HTTP.html) and download the following files if needed OR just upload the files we have already provided for you into Domino's Cloud Platform (unless you plan to use Spark locally).\n",
    "\n",
    "- Jul 01 to Jul 31, ASCII format, 20.7 MB gzip compressed, 205.2 MB uncompressed: [ftp://ita.ee.lbl.gov/traces/NASA_access_log_Jul95.gz](ftp://ita.ee.lbl.gov/traces/NASA_access_log_Jul95.gz)\n",
    "- Aug 04 to Aug 31, ASCII format, 21.8 MB gzip compressed, 167.8 MB uncompressed: [ftp://ita.ee.lbl.gov/traces/NASA_access_log_Aug95.gz](ftp://ita.ee.lbl.gov/traces/NASA_access_log_Aug95.gz)\n",
    "\n",
    "Make sure both the data files have been uploaded to Databricks under **\"Data\" > \"DBFS\" > \"Tables\"** as a **.txt** file\n",
    "\n",
    "\n",
    "![DBFS](https://drive.google.com/uc?id=1eE9_CgnUW7psBs_Nlk9qrdD2dXh1sU9A)"
   ],
   "metadata": {
    "colab_type": "text",
    "id": "Pln9za4iXu_n",
    "application/vnd.databricks.v1+cell": {
     "showTitle": false,
     "cellMetadata": {},
     "nuid": "11128d92-72fc-4692-abe9-115019b8899b",
     "inputWidgets": {},
     "title": ""
    }
   }
  },
  {
   "cell_type": "markdown",
   "source": [
    "# Step 2 - Loading and Viewing the Log Dataset\n",
    "\n",
    "Given that our data is stored in the following mentioned path, let's load it into a DataFrame. We'll do this in steps. First, we'll use `sqlContext.read.text()` or `spark.read.text()` to read the text file. This will produce a DataFrame with a single string column called `value`."
   ],
   "metadata": {
    "colab_type": "text",
    "id": "KESqVXmAXu_p",
    "application/vnd.databricks.v1+cell": {
     "showTitle": false,
     "cellMetadata": {},
     "nuid": "d25a3ebf-1a96-4b42-a811-36bb2be926a9",
     "inputWidgets": {},
     "title": ""
    }
   }
  },
  {
   "cell_type": "markdown",
   "source": [
    "### Taking a look at the metadata of our dataframe"
   ],
   "metadata": {
    "colab_type": "text",
    "id": "pis2_lWcXu_u",
    "application/vnd.databricks.v1+cell": {
     "showTitle": false,
     "cellMetadata": {},
     "nuid": "eecc6c25-d01d-476b-831d-1679c00520f8",
     "inputWidgets": {},
     "title": ""
    }
   }
  },
  {
   "cell_type": "code",
   "source": [
    "# make sure you have upload NASA_access_log_Aug95.txt and NASA_access_log_Jul95.txt onto Spark before you run the following code\n",
    "\n",
    "base_df = spark.read.text('dbfs:/FileStore/tables/*.txt')\n",
    "base_df.printSchema()"
   ],
   "metadata": {
    "colab_type": "code",
    "id": "f4-znXsmXu_w",
    "application/vnd.databricks.v1+cell": {
     "showTitle": false,
     "cellMetadata": {},
     "nuid": "4959709a-ed34-4834-a0df-c3fcdb051556",
     "inputWidgets": {},
     "title": ""
    },
    "colab": {},
    "outputId": "5c326d84-2124-47c4-c63f-e70665bfb820"
   },
   "outputs": [
    {
     "output_type": "display_data",
     "metadata": {
      "application/vnd.databricks.v1+output": {
       "datasetInfos": [],
       "data": "root\n |-- value: string (nullable = true)\n\n",
       "removedWidgets": [],
       "addedWidgets": {},
       "metadata": {},
       "type": "ansi",
       "arguments": {}
      }
     },
     "data": {
      "text/plain": [
       "root\n |-- value: string (nullable = true)\n\n"
      ]
     }
    }
   ],
   "execution_count": 0
  },
  {
   "cell_type": "code",
   "source": [
    "type(base_df)"
   ],
   "metadata": {
    "colab_type": "code",
    "id": "IBHQ8QQkXu_0",
    "application/vnd.databricks.v1+cell": {
     "showTitle": false,
     "cellMetadata": {},
     "nuid": "e131861d-a5a3-489b-89f2-c7283ce2ce0d",
     "inputWidgets": {},
     "title": ""
    },
    "colab": {},
    "outputId": "14c57eda-586c-4a28-9e1c-df9364bf0ff8"
   },
   "outputs": [
    {
     "output_type": "display_data",
     "metadata": {
      "application/vnd.databricks.v1+output": {
       "datasetInfos": [],
       "data": "Out[8]: pyspark.sql.dataframe.DataFrame",
       "removedWidgets": [],
       "addedWidgets": {},
       "metadata": {},
       "type": "ansi",
       "arguments": {}
      }
     },
     "data": {
      "text/plain": [
       "Out[8]: pyspark.sql.dataframe.DataFrame"
      ]
     }
    }
   ],
   "execution_count": 0
  },
  {
   "cell_type": "markdown",
   "source": [
    "You can also convert a dataframe to an RDD if needed"
   ],
   "metadata": {
    "colab_type": "text",
    "id": "gOKkUBQvXu_5",
    "application/vnd.databricks.v1+cell": {
     "showTitle": false,
     "cellMetadata": {},
     "nuid": "54ff6676-d4fa-47af-8f26-fb750e074e1c",
     "inputWidgets": {},
     "title": ""
    }
   }
  },
  {
   "cell_type": "code",
   "source": [
    "base_df_rdd = base_df.rdd\n",
    "type(base_df_rdd)"
   ],
   "metadata": {
    "colab_type": "code",
    "id": "hMByB80sXu_6",
    "application/vnd.databricks.v1+cell": {
     "showTitle": false,
     "cellMetadata": {},
     "nuid": "29a70b30-f308-4400-b85f-d7cd34865576",
     "inputWidgets": {},
     "title": ""
    },
    "colab": {},
    "outputId": "29f8e5c6-aecf-4f81-d1e8-40a5ef92eb18"
   },
   "outputs": [
    {
     "output_type": "display_data",
     "metadata": {
      "application/vnd.databricks.v1+output": {
       "datasetInfos": [],
       "data": "Out[9]: pyspark.rdd.RDD",
       "removedWidgets": [],
       "addedWidgets": {},
       "metadata": {},
       "type": "ansi",
       "arguments": {}
      }
     },
     "data": {
      "text/plain": [
       "Out[9]: pyspark.rdd.RDD"
      ]
     }
    }
   ],
   "execution_count": 0
  },
  {
   "cell_type": "markdown",
   "source": [
    "### Viewing sample data in our dataframe\n",
    "Looks like it needs to be wrangled and parsed!"
   ],
   "metadata": {
    "colab_type": "text",
    "id": "oi1QtXBhXvAB",
    "application/vnd.databricks.v1+cell": {
     "showTitle": false,
     "cellMetadata": {},
     "nuid": "9a6a5517-ba17-4cd1-a182-d67ce244656f",
     "inputWidgets": {},
     "title": ""
    }
   }
  },
  {
   "cell_type": "code",
   "source": [
    "base_df.show(10, truncate=False)"
   ],
   "metadata": {
    "colab_type": "code",
    "id": "iertYldRXvAD",
    "application/vnd.databricks.v1+cell": {
     "showTitle": false,
     "cellMetadata": {},
     "nuid": "9bb7d6df-b05e-4627-94b9-de069fb74f9c",
     "inputWidgets": {},
     "title": ""
    },
    "colab": {},
    "outputId": "cf7a1843-1287-455e-a32c-e67a498a89c0"
   },
   "outputs": [
    {
     "output_type": "display_data",
     "metadata": {
      "application/vnd.databricks.v1+output": {
       "datasetInfos": [],
       "data": "+--------------------------------------------------------------------------------------------------------------------------+\n|value                                                                                                                     |\n+--------------------------------------------------------------------------------------------------------------------------+\n|in24.inetnebr.com - - [01/Aug/1995:00:00:01 -0400] \"GET /shuttle/missions/sts-68/news/sts-68-mcc-05.txt HTTP/1.0\" 200 1839|\n|uplherc.upl.com - - [01/Aug/1995:00:00:07 -0400] \"GET / HTTP/1.0\" 304 0                                                   |\n|uplherc.upl.com - - [01/Aug/1995:00:00:08 -0400] \"GET /images/ksclogo-medium.gif HTTP/1.0\" 304 0                          |\n|uplherc.upl.com - - [01/Aug/1995:00:00:08 -0400] \"GET /images/MOSAIC-logosmall.gif HTTP/1.0\" 304 0                        |\n|uplherc.upl.com - - [01/Aug/1995:00:00:08 -0400] \"GET /images/USA-logosmall.gif HTTP/1.0\" 304 0                           |\n|ix-esc-ca2-07.ix.netcom.com - - [01/Aug/1995:00:00:09 -0400] \"GET /images/launch-logo.gif HTTP/1.0\" 200 1713              |\n|uplherc.upl.com - - [01/Aug/1995:00:00:10 -0400] \"GET /images/WORLD-logosmall.gif HTTP/1.0\" 304 0                         |\n|slppp6.intermind.net - - [01/Aug/1995:00:00:10 -0400] \"GET /history/skylab/skylab.html HTTP/1.0\" 200 1687                 |\n|piweba4y.prodigy.com - - [01/Aug/1995:00:00:10 -0400] \"GET /images/launchmedium.gif HTTP/1.0\" 200 11853                   |\n|slppp6.intermind.net - - [01/Aug/1995:00:00:11 -0400] \"GET /history/skylab/skylab-small.gif HTTP/1.0\" 200 9202            |\n+--------------------------------------------------------------------------------------------------------------------------+\nonly showing top 10 rows\n\n",
       "removedWidgets": [],
       "addedWidgets": {},
       "metadata": {},
       "type": "ansi",
       "arguments": {}
      }
     },
     "data": {
      "text/plain": [
       "+--------------------------------------------------------------------------------------------------------------------------+\n|value                                                                                                                     |\n+--------------------------------------------------------------------------------------------------------------------------+\n|in24.inetnebr.com - - [01/Aug/1995:00:00:01 -0400] \"GET /shuttle/missions/sts-68/news/sts-68-mcc-05.txt HTTP/1.0\" 200 1839|\n|uplherc.upl.com - - [01/Aug/1995:00:00:07 -0400] \"GET / HTTP/1.0\" 304 0                                                   |\n|uplherc.upl.com - - [01/Aug/1995:00:00:08 -0400] \"GET /images/ksclogo-medium.gif HTTP/1.0\" 304 0                          |\n|uplherc.upl.com - - [01/Aug/1995:00:00:08 -0400] \"GET /images/MOSAIC-logosmall.gif HTTP/1.0\" 304 0                        |\n|uplherc.upl.com - - [01/Aug/1995:00:00:08 -0400] \"GET /images/USA-logosmall.gif HTTP/1.0\" 304 0                           |\n|ix-esc-ca2-07.ix.netcom.com - - [01/Aug/1995:00:00:09 -0400] \"GET /images/launch-logo.gif HTTP/1.0\" 200 1713              |\n|uplherc.upl.com - - [01/Aug/1995:00:00:10 -0400] \"GET /images/WORLD-logosmall.gif HTTP/1.0\" 304 0                         |\n|slppp6.intermind.net - - [01/Aug/1995:00:00:10 -0400] \"GET /history/skylab/skylab.html HTTP/1.0\" 200 1687                 |\n|piweba4y.prodigy.com - - [01/Aug/1995:00:00:10 -0400] \"GET /images/launchmedium.gif HTTP/1.0\" 200 11853                   |\n|slppp6.intermind.net - - [01/Aug/1995:00:00:11 -0400] \"GET /history/skylab/skylab-small.gif HTTP/1.0\" 200 9202            |\n+--------------------------------------------------------------------------------------------------------------------------+\nonly showing top 10 rows\n\n"
      ]
     }
    }
   ],
   "execution_count": 0
  },
  {
   "cell_type": "markdown",
   "source": [
    "Getting data from an RDD is slightly different. You can see how the data representation is different in the following RDD"
   ],
   "metadata": {
    "colab_type": "text",
    "id": "T9aeiekzXvAJ",
    "application/vnd.databricks.v1+cell": {
     "showTitle": false,
     "cellMetadata": {},
     "nuid": "7f0ab66c-1d7d-47e7-975e-2969c2344b11",
     "inputWidgets": {},
     "title": ""
    }
   }
  },
  {
   "cell_type": "code",
   "source": [
    "base_df_rdd.take(10)"
   ],
   "metadata": {
    "colab_type": "code",
    "id": "PCdKKlCeXvAK",
    "application/vnd.databricks.v1+cell": {
     "showTitle": false,
     "cellMetadata": {},
     "nuid": "7fe52ddf-32d7-4d26-8657-2758692fa4f8",
     "inputWidgets": {},
     "title": ""
    },
    "colab": {},
    "outputId": "58876be0-2960-4df1-cefa-75daa1462dbd"
   },
   "outputs": [
    {
     "output_type": "display_data",
     "metadata": {
      "application/vnd.databricks.v1+output": {
       "datasetInfos": [],
       "data": "Out[11]: [Row(value='in24.inetnebr.com - - [01/Aug/1995:00:00:01 -0400] \"GET /shuttle/missions/sts-68/news/sts-68-mcc-05.txt HTTP/1.0\" 200 1839'),\n Row(value='uplherc.upl.com - - [01/Aug/1995:00:00:07 -0400] \"GET / HTTP/1.0\" 304 0'),\n Row(value='uplherc.upl.com - - [01/Aug/1995:00:00:08 -0400] \"GET /images/ksclogo-medium.gif HTTP/1.0\" 304 0'),\n Row(value='uplherc.upl.com - - [01/Aug/1995:00:00:08 -0400] \"GET /images/MOSAIC-logosmall.gif HTTP/1.0\" 304 0'),\n Row(value='uplherc.upl.com - - [01/Aug/1995:00:00:08 -0400] \"GET /images/USA-logosmall.gif HTTP/1.0\" 304 0'),\n Row(value='ix-esc-ca2-07.ix.netcom.com - - [01/Aug/1995:00:00:09 -0400] \"GET /images/launch-logo.gif HTTP/1.0\" 200 1713'),\n Row(value='uplherc.upl.com - - [01/Aug/1995:00:00:10 -0400] \"GET /images/WORLD-logosmall.gif HTTP/1.0\" 304 0'),\n Row(value='slppp6.intermind.net - - [01/Aug/1995:00:00:10 -0400] \"GET /history/skylab/skylab.html HTTP/1.0\" 200 1687'),\n Row(value='piweba4y.prodigy.com - - [01/Aug/1995:00:00:10 -0400] \"GET /images/launchmedium.gif HTTP/1.0\" 200 11853'),\n Row(value='slppp6.intermind.net - - [01/Aug/1995:00:00:11 -0400] \"GET /history/skylab/skylab-small.gif HTTP/1.0\" 200 9202')]",
       "removedWidgets": [],
       "addedWidgets": {},
       "metadata": {},
       "type": "ansi",
       "arguments": {}
      }
     },
     "data": {
      "text/plain": [
       "Out[11]: [Row(value='in24.inetnebr.com - - [01/Aug/1995:00:00:01 -0400] \"GET /shuttle/missions/sts-68/news/sts-68-mcc-05.txt HTTP/1.0\" 200 1839'),\n Row(value='uplherc.upl.com - - [01/Aug/1995:00:00:07 -0400] \"GET / HTTP/1.0\" 304 0'),\n Row(value='uplherc.upl.com - - [01/Aug/1995:00:00:08 -0400] \"GET /images/ksclogo-medium.gif HTTP/1.0\" 304 0'),\n Row(value='uplherc.upl.com - - [01/Aug/1995:00:00:08 -0400] \"GET /images/MOSAIC-logosmall.gif HTTP/1.0\" 304 0'),\n Row(value='uplherc.upl.com - - [01/Aug/1995:00:00:08 -0400] \"GET /images/USA-logosmall.gif HTTP/1.0\" 304 0'),\n Row(value='ix-esc-ca2-07.ix.netcom.com - - [01/Aug/1995:00:00:09 -0400] \"GET /images/launch-logo.gif HTTP/1.0\" 200 1713'),\n Row(value='uplherc.upl.com - - [01/Aug/1995:00:00:10 -0400] \"GET /images/WORLD-logosmall.gif HTTP/1.0\" 304 0'),\n Row(value='slppp6.intermind.net - - [01/Aug/1995:00:00:10 -0400] \"GET /history/skylab/skylab.html HTTP/1.0\" 200 1687'),\n Row(value='piweba4y.prodigy.com - - [01/Aug/1995:00:00:10 -0400] \"GET /images/launchmedium.gif HTTP/1.0\" 200 11853'),\n Row(value='slppp6.intermind.net - - [01/Aug/1995:00:00:11 -0400] \"GET /history/skylab/skylab-small.gif HTTP/1.0\" 200 9202')]"
      ]
     }
    }
   ],
   "execution_count": 0
  },
  {
   "cell_type": "markdown",
   "source": [
    "# Data transformation"
   ],
   "metadata": {
    "colab_type": "text",
    "id": "asaanbGIYfR8",
    "application/vnd.databricks.v1+cell": {
     "showTitle": false,
     "cellMetadata": {},
     "nuid": "08bd21a5-f99f-49da-82db-2f54ea708f54",
     "inputWidgets": {},
     "title": ""
    }
   }
  },
  {
   "cell_type": "markdown",
   "source": [
    "# Step 1 - Data Wrangling\n",
    "\n",
    "In this section, we will try and clean and parse our log dataset to really extract structured attributes with meaningful information from each log message.\n",
    "\n",
    "### Data understanding\n",
    "If you're familiar with web server logs, you'll recognize that the above displayed data is in [Common Log Format](https://www.w3.org/Daemon/User/Config/Logging.html#common-logfile-format). \n",
    "\n",
    "The fields are:\n",
    "__`remotehost rfc931 authuser [date] \"request\" status bytes`__\n",
    "\n",
    "\n",
    "| field         | meaning                                                                |\n",
    "| ------------- | ---------------------------------------------------------------------- |\n",
    "| _remotehost_  | Remote hostname (or IP number if DNS hostname is not available or if [DNSLookup](https://www.w3.org/Daemon/User/Config/General.html#DNSLookup) is off).       |\n",
    "| _rfc931_      | The remote logname of the user if at all it is present. |\n",
    "| _authuser_    | The username of the remote user after authentication by the HTTP server.  |\n",
    "| _[date]_      | Date and time of the request.                                      |\n",
    "| _\"request\"_   | The request, exactly as it came from the browser or client.            |\n",
    "| _status_      | The [HTTP status code](https://en.wikipedia.org/wiki/List_of_HTTP_status_codes) the server sent back to the client.               |\n",
    "| _bytes_       | The number of bytes (`Content-Length`) transferred to the client.      |\n",
    "\n",
    "We will need to use some specific techniques to parse, match and extract these attributes from the log data"
   ],
   "metadata": {
    "colab_type": "text",
    "id": "yv5kCt3xXvAP",
    "application/vnd.databricks.v1+cell": {
     "showTitle": false,
     "cellMetadata": {},
     "nuid": "8930d34f-8436-42dc-9352-6a858d13d698",
     "inputWidgets": {},
     "title": ""
    }
   }
  },
  {
   "cell_type": "markdown",
   "source": [
    "## Data Parsing and Extraction with Regular Expressions\n",
    "\n",
    "Next, we have to parse it into individual columns. We'll use the special built-in [regexp\\_extract()](http://spark.apache.org/docs/latest/api/python/pyspark.sql.html#pyspark.sql.functions.regexp_extract)\n",
    "function to do the parsing. This function matches a column against a regular expression with one or more [capture groups](http://regexone.com/lesson/capturing_groups) and allows you to extract one of the matched groups. We'll use one regular expression for each field we wish to extract.\n",
    "\n",
    "You must have heard or used a fair bit of regular expressions by now. If you find regular expressions confusing (and they certainly _can_ be), and you want to learn more about them, we recommend checking out the\n",
    "[RegexOne web site](http://regexone.com/). You might also find [_Regular Expressions Cookbook_](http://shop.oreilly.com/product/0636920023630.do), by Goyvaerts and Levithan, to be useful as a reference."
   ],
   "metadata": {
    "colab_type": "text",
    "id": "9aCEcwBLXvAQ",
    "application/vnd.databricks.v1+cell": {
     "showTitle": false,
     "cellMetadata": {},
     "nuid": "63025d9c-4d44-4614-b593-320b70bbdc41",
     "inputWidgets": {},
     "title": ""
    }
   }
  },
  {
   "cell_type": "markdown",
   "source": [
    "#### Let's take a look at our dataset dimensions"
   ],
   "metadata": {
    "colab_type": "text",
    "id": "a3TFNjb1XvAS",
    "application/vnd.databricks.v1+cell": {
     "showTitle": false,
     "cellMetadata": {},
     "nuid": "0d358c5d-e867-455c-8e32-367af221fc69",
     "inputWidgets": {},
     "title": ""
    }
   }
  },
  {
   "cell_type": "code",
   "source": [
    "print((base_df.count(), len(base_df.columns)))"
   ],
   "metadata": {
    "colab_type": "code",
    "id": "ncbKGPMJXvAT",
    "application/vnd.databricks.v1+cell": {
     "showTitle": false,
     "cellMetadata": {},
     "nuid": "06aebf92-4293-4cc2-84fa-f652e9599234",
     "inputWidgets": {},
     "title": ""
    },
    "colab": {},
    "outputId": "2d0a17f7-5bd7-444a-9a65-f547bf601f09"
   },
   "outputs": [
    {
     "output_type": "display_data",
     "metadata": {
      "application/vnd.databricks.v1+output": {
       "datasetInfos": [],
       "data": "(3461613, 1)\n",
       "removedWidgets": [],
       "addedWidgets": {},
       "metadata": {},
       "type": "ansi",
       "arguments": {}
      }
     },
     "data": {
      "text/plain": [
       "(3461613, 1)\n"
      ]
     }
    }
   ],
   "execution_count": 0
  },
  {
   "cell_type": "markdown",
   "source": [
    "Let's extract and take a look at some sample log messages"
   ],
   "metadata": {
    "colab_type": "text",
    "id": "dtZOfHsVXvAZ",
    "application/vnd.databricks.v1+cell": {
     "showTitle": false,
     "cellMetadata": {},
     "nuid": "0c2548e8-a4b0-46a7-8a24-ed0b12cdd188",
     "inputWidgets": {},
     "title": ""
    }
   }
  },
  {
   "cell_type": "code",
   "source": [
    "sample_logs = [item['value'] for item in base_df.take(15)]\n",
    "sample_logs"
   ],
   "metadata": {
    "colab_type": "code",
    "id": "-3sfUy4NXvAa",
    "application/vnd.databricks.v1+cell": {
     "showTitle": false,
     "cellMetadata": {},
     "nuid": "4997841c-29a5-4900-b0f6-50137130c09a",
     "inputWidgets": {},
     "title": ""
    },
    "colab": {},
    "outputId": "056e2311-d4be-4c1b-e507-a4c6f1868ace"
   },
   "outputs": [
    {
     "output_type": "display_data",
     "metadata": {
      "application/vnd.databricks.v1+output": {
       "datasetInfos": [],
       "data": "Out[13]: ['in24.inetnebr.com - - [01/Aug/1995:00:00:01 -0400] \"GET /shuttle/missions/sts-68/news/sts-68-mcc-05.txt HTTP/1.0\" 200 1839',\n 'uplherc.upl.com - - [01/Aug/1995:00:00:07 -0400] \"GET / HTTP/1.0\" 304 0',\n 'uplherc.upl.com - - [01/Aug/1995:00:00:08 -0400] \"GET /images/ksclogo-medium.gif HTTP/1.0\" 304 0',\n 'uplherc.upl.com - - [01/Aug/1995:00:00:08 -0400] \"GET /images/MOSAIC-logosmall.gif HTTP/1.0\" 304 0',\n 'uplherc.upl.com - - [01/Aug/1995:00:00:08 -0400] \"GET /images/USA-logosmall.gif HTTP/1.0\" 304 0',\n 'ix-esc-ca2-07.ix.netcom.com - - [01/Aug/1995:00:00:09 -0400] \"GET /images/launch-logo.gif HTTP/1.0\" 200 1713',\n 'uplherc.upl.com - - [01/Aug/1995:00:00:10 -0400] \"GET /images/WORLD-logosmall.gif HTTP/1.0\" 304 0',\n 'slppp6.intermind.net - - [01/Aug/1995:00:00:10 -0400] \"GET /history/skylab/skylab.html HTTP/1.0\" 200 1687',\n 'piweba4y.prodigy.com - - [01/Aug/1995:00:00:10 -0400] \"GET /images/launchmedium.gif HTTP/1.0\" 200 11853',\n 'slppp6.intermind.net - - [01/Aug/1995:00:00:11 -0400] \"GET /history/skylab/skylab-small.gif HTTP/1.0\" 200 9202',\n 'slppp6.intermind.net - - [01/Aug/1995:00:00:12 -0400] \"GET /images/ksclogosmall.gif HTTP/1.0\" 200 3635',\n 'ix-esc-ca2-07.ix.netcom.com - - [01/Aug/1995:00:00:12 -0400] \"GET /history/apollo/images/apollo-logo1.gif HTTP/1.0\" 200 1173',\n 'slppp6.intermind.net - - [01/Aug/1995:00:00:13 -0400] \"GET /history/apollo/images/apollo-logo.gif HTTP/1.0\" 200 3047',\n 'uplherc.upl.com - - [01/Aug/1995:00:00:14 -0400] \"GET /images/NASA-logosmall.gif HTTP/1.0\" 304 0',\n '133.43.96.45 - - [01/Aug/1995:00:00:16 -0400] \"GET /shuttle/missions/sts-69/mission-sts-69.html HTTP/1.0\" 200 10566']",
       "removedWidgets": [],
       "addedWidgets": {},
       "metadata": {},
       "type": "ansi",
       "arguments": {}
      }
     },
     "data": {
      "text/plain": [
       "Out[13]: ['in24.inetnebr.com - - [01/Aug/1995:00:00:01 -0400] \"GET /shuttle/missions/sts-68/news/sts-68-mcc-05.txt HTTP/1.0\" 200 1839',\n 'uplherc.upl.com - - [01/Aug/1995:00:00:07 -0400] \"GET / HTTP/1.0\" 304 0',\n 'uplherc.upl.com - - [01/Aug/1995:00:00:08 -0400] \"GET /images/ksclogo-medium.gif HTTP/1.0\" 304 0',\n 'uplherc.upl.com - - [01/Aug/1995:00:00:08 -0400] \"GET /images/MOSAIC-logosmall.gif HTTP/1.0\" 304 0',\n 'uplherc.upl.com - - [01/Aug/1995:00:00:08 -0400] \"GET /images/USA-logosmall.gif HTTP/1.0\" 304 0',\n 'ix-esc-ca2-07.ix.netcom.com - - [01/Aug/1995:00:00:09 -0400] \"GET /images/launch-logo.gif HTTP/1.0\" 200 1713',\n 'uplherc.upl.com - - [01/Aug/1995:00:00:10 -0400] \"GET /images/WORLD-logosmall.gif HTTP/1.0\" 304 0',\n 'slppp6.intermind.net - - [01/Aug/1995:00:00:10 -0400] \"GET /history/skylab/skylab.html HTTP/1.0\" 200 1687',\n 'piweba4y.prodigy.com - - [01/Aug/1995:00:00:10 -0400] \"GET /images/launchmedium.gif HTTP/1.0\" 200 11853',\n 'slppp6.intermind.net - - [01/Aug/1995:00:00:11 -0400] \"GET /history/skylab/skylab-small.gif HTTP/1.0\" 200 9202',\n 'slppp6.intermind.net - - [01/Aug/1995:00:00:12 -0400] \"GET /images/ksclogosmall.gif HTTP/1.0\" 200 3635',\n 'ix-esc-ca2-07.ix.netcom.com - - [01/Aug/1995:00:00:12 -0400] \"GET /history/apollo/images/apollo-logo1.gif HTTP/1.0\" 200 1173',\n 'slppp6.intermind.net - - [01/Aug/1995:00:00:13 -0400] \"GET /history/apollo/images/apollo-logo.gif HTTP/1.0\" 200 3047',\n 'uplherc.upl.com - - [01/Aug/1995:00:00:14 -0400] \"GET /images/NASA-logosmall.gif HTTP/1.0\" 304 0',\n '133.43.96.45 - - [01/Aug/1995:00:00:16 -0400] \"GET /shuttle/missions/sts-69/mission-sts-69.html HTTP/1.0\" 200 10566']"
      ]
     }
    }
   ],
   "execution_count": 0
  },
  {
   "cell_type": "markdown",
   "source": [
    "### Extracting host names\n",
    "\n",
    "Let's try and write some regular expressions to extract the host name from the logs"
   ],
   "metadata": {
    "colab_type": "text",
    "id": "0aPYBjkwXvAf",
    "application/vnd.databricks.v1+cell": {
     "showTitle": false,
     "cellMetadata": {},
     "nuid": "1cb300e5-3663-42c7-bfc2-c44ea68ec477",
     "inputWidgets": {},
     "title": ""
    }
   }
  },
  {
   "cell_type": "code",
   "source": [
    "host_pattern = r'(^\\S+\\.[\\S+\\.]+\\S+)\\s'\n",
    "hosts = [re.search(host_pattern, item).group(1)\n",
    "           if re.search(host_pattern, item)\n",
    "           else 'no match'\n",
    "           for item in sample_logs]\n",
    "hosts"
   ],
   "metadata": {
    "colab_type": "code",
    "id": "WarNo8bGXvAh",
    "application/vnd.databricks.v1+cell": {
     "showTitle": false,
     "cellMetadata": {},
     "nuid": "c3d166c1-85ba-4269-849f-9145315e3167",
     "inputWidgets": {},
     "title": ""
    },
    "colab": {},
    "outputId": "d8a548f2-335e-4ab4-8a9f-28f55060e540"
   },
   "outputs": [
    {
     "output_type": "display_data",
     "metadata": {
      "application/vnd.databricks.v1+output": {
       "datasetInfos": [],
       "data": "Out[14]: ['in24.inetnebr.com',\n 'uplherc.upl.com',\n 'uplherc.upl.com',\n 'uplherc.upl.com',\n 'uplherc.upl.com',\n 'ix-esc-ca2-07.ix.netcom.com',\n 'uplherc.upl.com',\n 'slppp6.intermind.net',\n 'piweba4y.prodigy.com',\n 'slppp6.intermind.net',\n 'slppp6.intermind.net',\n 'ix-esc-ca2-07.ix.netcom.com',\n 'slppp6.intermind.net',\n 'uplherc.upl.com',\n '133.43.96.45']",
       "removedWidgets": [],
       "addedWidgets": {},
       "metadata": {},
       "type": "ansi",
       "arguments": {}
      }
     },
     "data": {
      "text/plain": [
       "Out[14]: ['in24.inetnebr.com',\n 'uplherc.upl.com',\n 'uplherc.upl.com',\n 'uplherc.upl.com',\n 'uplherc.upl.com',\n 'ix-esc-ca2-07.ix.netcom.com',\n 'uplherc.upl.com',\n 'slppp6.intermind.net',\n 'piweba4y.prodigy.com',\n 'slppp6.intermind.net',\n 'slppp6.intermind.net',\n 'ix-esc-ca2-07.ix.netcom.com',\n 'slppp6.intermind.net',\n 'uplherc.upl.com',\n '133.43.96.45']"
      ]
     }
    }
   ],
   "execution_count": 0
  },
  {
   "cell_type": "markdown",
   "source": [
    "### Extracting timestamps \n",
    "\n",
    "Let's now try and use regular expressions to extract the timestamp fields from the logs"
   ],
   "metadata": {
    "colab_type": "text",
    "id": "TcZrGpgwXvAk",
    "application/vnd.databricks.v1+cell": {
     "showTitle": false,
     "cellMetadata": {},
     "nuid": "d3bcb47f-6a0e-4ab1-a35b-57d87430411f",
     "inputWidgets": {},
     "title": ""
    }
   }
  },
  {
   "cell_type": "code",
   "source": [
    "ts_pattern = r'\\[(\\d{2}/\\w{3}/\\d{4}:\\d{2}:\\d{2}:\\d{2} -\\d{4})]'\n",
    "timestamps = [re.search(ts_pattern, item).group(1) for item in sample_logs]\n",
    "timestamps"
   ],
   "metadata": {
    "colab_type": "code",
    "id": "GOot8niKXvAl",
    "application/vnd.databricks.v1+cell": {
     "showTitle": false,
     "cellMetadata": {},
     "nuid": "7536f8ce-2eb2-48b4-b0fc-d037746c673a",
     "inputWidgets": {},
     "title": ""
    },
    "colab": {},
    "outputId": "6ad3338e-8ff0-48f1-c4d0-ad52742232b9"
   },
   "outputs": [
    {
     "output_type": "display_data",
     "metadata": {
      "application/vnd.databricks.v1+output": {
       "datasetInfos": [],
       "data": "Out[15]: ['01/Aug/1995:00:00:01 -0400',\n '01/Aug/1995:00:00:07 -0400',\n '01/Aug/1995:00:00:08 -0400',\n '01/Aug/1995:00:00:08 -0400',\n '01/Aug/1995:00:00:08 -0400',\n '01/Aug/1995:00:00:09 -0400',\n '01/Aug/1995:00:00:10 -0400',\n '01/Aug/1995:00:00:10 -0400',\n '01/Aug/1995:00:00:10 -0400',\n '01/Aug/1995:00:00:11 -0400',\n '01/Aug/1995:00:00:12 -0400',\n '01/Aug/1995:00:00:12 -0400',\n '01/Aug/1995:00:00:13 -0400',\n '01/Aug/1995:00:00:14 -0400',\n '01/Aug/1995:00:00:16 -0400']",
       "removedWidgets": [],
       "addedWidgets": {},
       "metadata": {},
       "type": "ansi",
       "arguments": {}
      }
     },
     "data": {
      "text/plain": [
       "Out[15]: ['01/Aug/1995:00:00:01 -0400',\n '01/Aug/1995:00:00:07 -0400',\n '01/Aug/1995:00:00:08 -0400',\n '01/Aug/1995:00:00:08 -0400',\n '01/Aug/1995:00:00:08 -0400',\n '01/Aug/1995:00:00:09 -0400',\n '01/Aug/1995:00:00:10 -0400',\n '01/Aug/1995:00:00:10 -0400',\n '01/Aug/1995:00:00:10 -0400',\n '01/Aug/1995:00:00:11 -0400',\n '01/Aug/1995:00:00:12 -0400',\n '01/Aug/1995:00:00:12 -0400',\n '01/Aug/1995:00:00:13 -0400',\n '01/Aug/1995:00:00:14 -0400',\n '01/Aug/1995:00:00:16 -0400']"
      ]
     }
    }
   ],
   "execution_count": 0
  },
  {
   "cell_type": "markdown",
   "source": [
    "### Extracting HTTP Request Method, URIs and Protocol \n",
    "\n",
    "Let's now try and use regular expressions to extract the HTTP request methods, URIs and Protocol patterns fields from the logs"
   ],
   "metadata": {
    "colab_type": "text",
    "id": "CKJ5F8tCXvAo",
    "application/vnd.databricks.v1+cell": {
     "showTitle": false,
     "cellMetadata": {},
     "nuid": "a8f37066-5f05-46ff-a681-51973780ab43",
     "inputWidgets": {},
     "title": ""
    }
   }
  },
  {
   "cell_type": "code",
   "source": [
    "method_uri_protocol_pattern = r'\\\"(\\S+)\\s(\\S+)\\s*(\\S*)\\\"'\n",
    "method_uri_protocol = [re.search(method_uri_protocol_pattern, item).groups()\n",
    "               if re.search(method_uri_protocol_pattern, item)\n",
    "               else 'no match'\n",
    "              for item in sample_logs]\n",
    "method_uri_protocol"
   ],
   "metadata": {
    "colab_type": "code",
    "id": "TZvnPVXeXvAp",
    "application/vnd.databricks.v1+cell": {
     "showTitle": false,
     "cellMetadata": {},
     "nuid": "3b927683-f30e-41c3-b6f1-12d8bd9cdf0b",
     "inputWidgets": {},
     "title": ""
    },
    "colab": {},
    "outputId": "f3cdd71d-0239-43a4-fd8f-245193f571c3"
   },
   "outputs": [
    {
     "output_type": "display_data",
     "metadata": {
      "application/vnd.databricks.v1+output": {
       "datasetInfos": [],
       "data": "Out[16]: [('GET', '/shuttle/missions/sts-68/news/sts-68-mcc-05.txt', 'HTTP/1.0'),\n ('GET', '/', 'HTTP/1.0'),\n ('GET', '/images/ksclogo-medium.gif', 'HTTP/1.0'),\n ('GET', '/images/MOSAIC-logosmall.gif', 'HTTP/1.0'),\n ('GET', '/images/USA-logosmall.gif', 'HTTP/1.0'),\n ('GET', '/images/launch-logo.gif', 'HTTP/1.0'),\n ('GET', '/images/WORLD-logosmall.gif', 'HTTP/1.0'),\n ('GET', '/history/skylab/skylab.html', 'HTTP/1.0'),\n ('GET', '/images/launchmedium.gif', 'HTTP/1.0'),\n ('GET', '/history/skylab/skylab-small.gif', 'HTTP/1.0'),\n ('GET', '/images/ksclogosmall.gif', 'HTTP/1.0'),\n ('GET', '/history/apollo/images/apollo-logo1.gif', 'HTTP/1.0'),\n ('GET', '/history/apollo/images/apollo-logo.gif', 'HTTP/1.0'),\n ('GET', '/images/NASA-logosmall.gif', 'HTTP/1.0'),\n ('GET', '/shuttle/missions/sts-69/mission-sts-69.html', 'HTTP/1.0')]",
       "removedWidgets": [],
       "addedWidgets": {},
       "metadata": {},
       "type": "ansi",
       "arguments": {}
      }
     },
     "data": {
      "text/plain": [
       "Out[16]: [('GET', '/shuttle/missions/sts-68/news/sts-68-mcc-05.txt', 'HTTP/1.0'),\n ('GET', '/', 'HTTP/1.0'),\n ('GET', '/images/ksclogo-medium.gif', 'HTTP/1.0'),\n ('GET', '/images/MOSAIC-logosmall.gif', 'HTTP/1.0'),\n ('GET', '/images/USA-logosmall.gif', 'HTTP/1.0'),\n ('GET', '/images/launch-logo.gif', 'HTTP/1.0'),\n ('GET', '/images/WORLD-logosmall.gif', 'HTTP/1.0'),\n ('GET', '/history/skylab/skylab.html', 'HTTP/1.0'),\n ('GET', '/images/launchmedium.gif', 'HTTP/1.0'),\n ('GET', '/history/skylab/skylab-small.gif', 'HTTP/1.0'),\n ('GET', '/images/ksclogosmall.gif', 'HTTP/1.0'),\n ('GET', '/history/apollo/images/apollo-logo1.gif', 'HTTP/1.0'),\n ('GET', '/history/apollo/images/apollo-logo.gif', 'HTTP/1.0'),\n ('GET', '/images/NASA-logosmall.gif', 'HTTP/1.0'),\n ('GET', '/shuttle/missions/sts-69/mission-sts-69.html', 'HTTP/1.0')]"
      ]
     }
    }
   ],
   "execution_count": 0
  },
  {
   "cell_type": "markdown",
   "source": [
    "### Building an intermediate parsed dataframe\n",
    "\n",
    "Let's try and use our regular expressions we have implemented so far into parsing and extracting the relevant entities in separate columns in a new dataframe"
   ],
   "metadata": {
    "colab_type": "text",
    "id": "oaBizluJXvAu",
    "application/vnd.databricks.v1+cell": {
     "showTitle": false,
     "cellMetadata": {},
     "nuid": "931c635f-e099-4147-9d94-6fd6ece23b15",
     "inputWidgets": {},
     "title": ""
    }
   }
  },
  {
   "cell_type": "code",
   "source": [
    "from pyspark.sql.functions import regexp_extract\n",
    "\n",
    "logs_df = base_df.select(regexp_extract('value', host_pattern, 1).alias('host'),\n",
    "                         regexp_extract('value', ts_pattern, 1).alias('timestamp'),\n",
    "                         regexp_extract('value', method_uri_protocol_pattern, 1).alias('method'),\n",
    "                         regexp_extract('value', method_uri_protocol_pattern, 2).alias('endpoint'),\n",
    "                         regexp_extract('value', method_uri_protocol_pattern, 3).alias('protocol'))\n",
    "logs_df.show(10, truncate=False)\n",
    "print((logs_df.count(), len(logs_df.columns)))"
   ],
   "metadata": {
    "colab_type": "code",
    "id": "MLI8LUVPXvAv",
    "application/vnd.databricks.v1+cell": {
     "showTitle": false,
     "cellMetadata": {},
     "nuid": "0b5e8cee-8f0f-4e66-8385-f84d2263f8bc",
     "inputWidgets": {},
     "title": ""
    },
    "colab": {},
    "outputId": "5c8becac-e3bb-4a61-cc8e-bba69c4169d6"
   },
   "outputs": [
    {
     "output_type": "display_data",
     "metadata": {
      "application/vnd.databricks.v1+output": {
       "datasetInfos": [],
       "data": "+---------------------------+--------------------------+------+-----------------------------------------------+--------+\n|host                       |timestamp                 |method|endpoint                                       |protocol|\n+---------------------------+--------------------------+------+-----------------------------------------------+--------+\n|in24.inetnebr.com          |01/Aug/1995:00:00:01 -0400|GET   |/shuttle/missions/sts-68/news/sts-68-mcc-05.txt|HTTP/1.0|\n|uplherc.upl.com            |01/Aug/1995:00:00:07 -0400|GET   |/                                              |HTTP/1.0|\n|uplherc.upl.com            |01/Aug/1995:00:00:08 -0400|GET   |/images/ksclogo-medium.gif                     |HTTP/1.0|\n|uplherc.upl.com            |01/Aug/1995:00:00:08 -0400|GET   |/images/MOSAIC-logosmall.gif                   |HTTP/1.0|\n|uplherc.upl.com            |01/Aug/1995:00:00:08 -0400|GET   |/images/USA-logosmall.gif                      |HTTP/1.0|\n|ix-esc-ca2-07.ix.netcom.com|01/Aug/1995:00:00:09 -0400|GET   |/images/launch-logo.gif                        |HTTP/1.0|\n|uplherc.upl.com            |01/Aug/1995:00:00:10 -0400|GET   |/images/WORLD-logosmall.gif                    |HTTP/1.0|\n|slppp6.intermind.net       |01/Aug/1995:00:00:10 -0400|GET   |/history/skylab/skylab.html                    |HTTP/1.0|\n|piweba4y.prodigy.com       |01/Aug/1995:00:00:10 -0400|GET   |/images/launchmedium.gif                       |HTTP/1.0|\n|slppp6.intermind.net       |01/Aug/1995:00:00:11 -0400|GET   |/history/skylab/skylab-small.gif               |HTTP/1.0|\n+---------------------------+--------------------------+------+-----------------------------------------------+--------+\nonly showing top 10 rows\n\n(3461613, 5)\n",
       "removedWidgets": [],
       "addedWidgets": {},
       "metadata": {},
       "type": "ansi",
       "arguments": {}
      }
     },
     "data": {
      "text/plain": [
       "+---------------------------+--------------------------+------+-----------------------------------------------+--------+\n|host                       |timestamp                 |method|endpoint                                       |protocol|\n+---------------------------+--------------------------+------+-----------------------------------------------+--------+\n|in24.inetnebr.com          |01/Aug/1995:00:00:01 -0400|GET   |/shuttle/missions/sts-68/news/sts-68-mcc-05.txt|HTTP/1.0|\n|uplherc.upl.com            |01/Aug/1995:00:00:07 -0400|GET   |/                                              |HTTP/1.0|\n|uplherc.upl.com            |01/Aug/1995:00:00:08 -0400|GET   |/images/ksclogo-medium.gif                     |HTTP/1.0|\n|uplherc.upl.com            |01/Aug/1995:00:00:08 -0400|GET   |/images/MOSAIC-logosmall.gif                   |HTTP/1.0|\n|uplherc.upl.com            |01/Aug/1995:00:00:08 -0400|GET   |/images/USA-logosmall.gif                      |HTTP/1.0|\n|ix-esc-ca2-07.ix.netcom.com|01/Aug/1995:00:00:09 -0400|GET   |/images/launch-logo.gif                        |HTTP/1.0|\n|uplherc.upl.com            |01/Aug/1995:00:00:10 -0400|GET   |/images/WORLD-logosmall.gif                    |HTTP/1.0|\n|slppp6.intermind.net       |01/Aug/1995:00:00:10 -0400|GET   |/history/skylab/skylab.html                    |HTTP/1.0|\n|piweba4y.prodigy.com       |01/Aug/1995:00:00:10 -0400|GET   |/images/launchmedium.gif                       |HTTP/1.0|\n|slppp6.intermind.net       |01/Aug/1995:00:00:11 -0400|GET   |/history/skylab/skylab-small.gif               |HTTP/1.0|\n+---------------------------+--------------------------+------+-----------------------------------------------+--------+\nonly showing top 10 rows\n\n(3461613, 5)\n"
      ]
     }
    }
   ],
   "execution_count": 0
  },
  {
   "cell_type": "markdown",
   "source": [
    "### Extracting HTTP Status Codes\n",
    "\n",
    "Let's now try and use regular expressions to extract the HTTP status codes from the logs"
   ],
   "metadata": {
    "colab_type": "text",
    "id": "-c-LK4TNXvAy",
    "application/vnd.databricks.v1+cell": {
     "showTitle": false,
     "cellMetadata": {},
     "nuid": "5c184742-8f63-4baa-aa15-a19c4ab4485a",
     "inputWidgets": {},
     "title": ""
    }
   }
  },
  {
   "cell_type": "code",
   "source": [
    "status_pattern = r'\\s(\\d{3})\\s'\n",
    "status = [re.search(status_pattern, item).group(1) for item in sample_logs]\n",
    "print(status)"
   ],
   "metadata": {
    "colab_type": "code",
    "id": "kvWWXeTcXvA1",
    "application/vnd.databricks.v1+cell": {
     "showTitle": false,
     "cellMetadata": {},
     "nuid": "64815b33-5cc9-4476-8dbb-7c96d28f1486",
     "inputWidgets": {},
     "title": ""
    },
    "colab": {},
    "outputId": "5ffeabc8-ecff-4365-af5f-0b905f913115"
   },
   "outputs": [
    {
     "output_type": "display_data",
     "metadata": {
      "application/vnd.databricks.v1+output": {
       "datasetInfos": [],
       "data": "['200', '304', '304', '304', '304', '200', '304', '200', '200', '200', '200', '200', '200', '304', '200']\n",
       "removedWidgets": [],
       "addedWidgets": {},
       "metadata": {},
       "type": "ansi",
       "arguments": {}
      }
     },
     "data": {
      "text/plain": [
       "['200', '304', '304', '304', '304', '200', '304', '200', '200', '200', '200', '200', '200', '304', '200']\n"
      ]
     }
    }
   ],
   "execution_count": 0
  },
  {
   "cell_type": "markdown",
   "source": [
    "### Extracting HTTP Response Content Size\n",
    "\n",
    "Let's now try and use regular expressions to extract the HTTP response content size from the logs"
   ],
   "metadata": {
    "colab_type": "text",
    "id": "jFemwBnSXvA4",
    "application/vnd.databricks.v1+cell": {
     "showTitle": false,
     "cellMetadata": {},
     "nuid": "88796174-3d67-464a-b35e-154343fcddbd",
     "inputWidgets": {},
     "title": ""
    }
   }
  },
  {
   "cell_type": "code",
   "source": [
    "content_size_pattern = r'\\s(\\d+)$'\n",
    "content_size = [re.search(content_size_pattern, item).group(1) for item in sample_logs]\n",
    "print(content_size)"
   ],
   "metadata": {
    "colab_type": "code",
    "id": "l0kmQOqjXvA5",
    "application/vnd.databricks.v1+cell": {
     "showTitle": false,
     "cellMetadata": {},
     "nuid": "a311efd5-03c1-447d-b936-2f3f026dc4a1",
     "inputWidgets": {},
     "title": ""
    },
    "colab": {},
    "outputId": "8b6c6d90-6897-4885-e527-0b815f4a977e"
   },
   "outputs": [
    {
     "output_type": "display_data",
     "metadata": {
      "application/vnd.databricks.v1+output": {
       "datasetInfos": [],
       "data": "['1839', '0', '0', '0', '0', '1713', '0', '1687', '11853', '9202', '3635', '1173', '3047', '0', '10566']\n",
       "removedWidgets": [],
       "addedWidgets": {},
       "metadata": {},
       "type": "ansi",
       "arguments": {}
      }
     },
     "data": {
      "text/plain": [
       "['1839', '0', '0', '0', '0', '1713', '0', '1687', '11853', '9202', '3635', '1173', '3047', '0', '10566']\n"
      ]
     }
    }
   ],
   "execution_count": 0
  },
  {
   "cell_type": "markdown",
   "source": [
    "## Q1: Your Turn: Putting it all together \n",
    "\n",
    "Let's now try and leverage all the regular expression patterns we previously built and use the `regexp_extract(...)` method to build our dataframe with all the log attributes neatly extracted in their own separate columns.\n",
    "\n",
    "- You can reuse the code we used previously to build the intermediate dataframe\n",
    "- Remember to cast the HTTP status code and content size as integers. \n",
    "- You can cast data as integer type using the following: __`regexp_extract('value', ...., ...).cast('integer').alias(...)`__"
   ],
   "metadata": {
    "colab_type": "text",
    "id": "DHPbsgMsXvA8",
    "application/vnd.databricks.v1+cell": {
     "showTitle": false,
     "cellMetadata": {},
     "nuid": "490c1b43-1d5d-47f7-9e0d-32a2ad1d7f0d",
     "inputWidgets": {},
     "title": ""
    }
   }
  },
  {
   "cell_type": "code",
   "source": [
    "# TODO: Replace <FILL IN> with appropriate code\n",
    "\n",
    "logs_df = base_df.select(regexp_extract('value', host_pattern, 1).alias('host'),\n",
    "                         regexp_extract('value', ts_pattern, 1).alias('timestamp'),\n",
    "                         regexp_extract('value', method_uri_protocol_pattern, 1).alias('method'),\n",
    "                         regexp_extract('value', method_uri_protocol_pattern, 2).alias('endpoint'),\n",
    "                         regexp_extract('value', method_uri_protocol_pattern, 3).alias('protocol'),\n",
    "                         regexp_extract('value', status_pattern, 1).alias('status'),\n",
    "                         regexp_extract('value', content_size_pattern, 1).alias('content_size')\n",
    "                        )\n",
    "logs_df.show(10, truncate=True)\n",
    "print((logs_df.count(), len(logs_df.columns)))"
   ],
   "metadata": {
    "colab_type": "code",
    "id": "bM4iBWjRXvA-",
    "application/vnd.databricks.v1+cell": {
     "showTitle": false,
     "cellMetadata": {},
     "nuid": "fa15c95f-775b-4259-ab85-fccb0c85ddca",
     "inputWidgets": {},
     "title": ""
    },
    "colab": {},
    "outputId": "b826a364-3709-4c6f-eb67-541e08c535ac"
   },
   "outputs": [
    {
     "output_type": "display_data",
     "metadata": {
      "application/vnd.databricks.v1+output": {
       "datasetInfos": [],
       "data": "+--------------------+--------------------+------+--------------------+--------+------+------------+\n|                host|           timestamp|method|            endpoint|protocol|status|content_size|\n+--------------------+--------------------+------+--------------------+--------+------+------------+\n|   in24.inetnebr.com|01/Aug/1995:00:00...|   GET|/shuttle/missions...|HTTP/1.0|   200|        1839|\n|     uplherc.upl.com|01/Aug/1995:00:00...|   GET|                   /|HTTP/1.0|   304|           0|\n|     uplherc.upl.com|01/Aug/1995:00:00...|   GET|/images/ksclogo-m...|HTTP/1.0|   304|           0|\n|     uplherc.upl.com|01/Aug/1995:00:00...|   GET|/images/MOSAIC-lo...|HTTP/1.0|   304|           0|\n|     uplherc.upl.com|01/Aug/1995:00:00...|   GET|/images/USA-logos...|HTTP/1.0|   304|           0|\n|ix-esc-ca2-07.ix....|01/Aug/1995:00:00...|   GET|/images/launch-lo...|HTTP/1.0|   200|        1713|\n|     uplherc.upl.com|01/Aug/1995:00:00...|   GET|/images/WORLD-log...|HTTP/1.0|   304|           0|\n|slppp6.intermind.net|01/Aug/1995:00:00...|   GET|/history/skylab/s...|HTTP/1.0|   200|        1687|\n|piweba4y.prodigy.com|01/Aug/1995:00:00...|   GET|/images/launchmed...|HTTP/1.0|   200|       11853|\n|slppp6.intermind.net|01/Aug/1995:00:00...|   GET|/history/skylab/s...|HTTP/1.0|   200|        9202|\n+--------------------+--------------------+------+--------------------+--------+------+------------+\nonly showing top 10 rows\n\n(3461613, 7)\n",
       "removedWidgets": [],
       "addedWidgets": {},
       "metadata": {},
       "type": "ansi",
       "arguments": {}
      }
     },
     "data": {
      "text/plain": [
       "+--------------------+--------------------+------+--------------------+--------+------+------------+\n|                host|           timestamp|method|            endpoint|protocol|status|content_size|\n+--------------------+--------------------+------+--------------------+--------+------+------------+\n|   in24.inetnebr.com|01/Aug/1995:00:00...|   GET|/shuttle/missions...|HTTP/1.0|   200|        1839|\n|     uplherc.upl.com|01/Aug/1995:00:00...|   GET|                   /|HTTP/1.0|   304|           0|\n|     uplherc.upl.com|01/Aug/1995:00:00...|   GET|/images/ksclogo-m...|HTTP/1.0|   304|           0|\n|     uplherc.upl.com|01/Aug/1995:00:00...|   GET|/images/MOSAIC-lo...|HTTP/1.0|   304|           0|\n|     uplherc.upl.com|01/Aug/1995:00:00...|   GET|/images/USA-logos...|HTTP/1.0|   304|           0|\n|ix-esc-ca2-07.ix....|01/Aug/1995:00:00...|   GET|/images/launch-lo...|HTTP/1.0|   200|        1713|\n|     uplherc.upl.com|01/Aug/1995:00:00...|   GET|/images/WORLD-log...|HTTP/1.0|   304|           0|\n|slppp6.intermind.net|01/Aug/1995:00:00...|   GET|/history/skylab/s...|HTTP/1.0|   200|        1687|\n|piweba4y.prodigy.com|01/Aug/1995:00:00...|   GET|/images/launchmed...|HTTP/1.0|   200|       11853|\n|slppp6.intermind.net|01/Aug/1995:00:00...|   GET|/history/skylab/s...|HTTP/1.0|   200|        9202|\n+--------------------+--------------------+------+--------------------+--------+------+------------+\nonly showing top 10 rows\n\n(3461613, 7)\n"
      ]
     }
    }
   ],
   "execution_count": 0
  },
  {
   "cell_type": "markdown",
   "source": [
    "## Finding Missing Values\n",
    "\n",
    "Missing and null values are the bane of data analysis and machine learning. Let's see how well our data parsing and extraction logic worked. First, let's verify that there are no null rows in the original dataframe."
   ],
   "metadata": {
    "colab_type": "text",
    "id": "EgLGxYRYXvBB",
    "application/vnd.databricks.v1+cell": {
     "showTitle": false,
     "cellMetadata": {},
     "nuid": "05dcdf17-ece3-4fb4-ab75-70b3292a6bb0",
     "inputWidgets": {},
     "title": ""
    }
   }
  },
  {
   "cell_type": "code",
   "source": [
    "base_df.filter(base_df['value'].isNull()).count()"
   ],
   "metadata": {
    "colab_type": "code",
    "id": "O4ppVUoJXvBC",
    "application/vnd.databricks.v1+cell": {
     "showTitle": false,
     "cellMetadata": {},
     "nuid": "05c3395d-a6f3-4bac-a67a-84082db7bf96",
     "inputWidgets": {},
     "title": ""
    },
    "colab": {},
    "outputId": "18c683c1-5f0d-4f62-9545-e9bd27088c80"
   },
   "outputs": [
    {
     "output_type": "display_data",
     "metadata": {
      "application/vnd.databricks.v1+output": {
       "datasetInfos": [],
       "data": "Out[21]: 0",
       "removedWidgets": [],
       "addedWidgets": {},
       "metadata": {},
       "type": "ansi",
       "arguments": {}
      }
     },
     "data": {
      "text/plain": [
       "Out[21]: 0"
      ]
     }
    }
   ],
   "execution_count": 0
  },
  {
   "cell_type": "markdown",
   "source": [
    "If our data parsing and extraction worked properly, we should not have any rows with potential null values. Let's try and put that to test!"
   ],
   "metadata": {
    "colab_type": "text",
    "id": "7V0g6vHcXvBG",
    "application/vnd.databricks.v1+cell": {
     "showTitle": false,
     "cellMetadata": {},
     "nuid": "0aa7a2a3-bcf7-4bf9-8bb5-58240cd9f7ad",
     "inputWidgets": {},
     "title": ""
    }
   }
  },
  {
   "cell_type": "code",
   "source": [
    "bad_rows_df = logs_df.filter(logs_df['host'].isNull()| \n",
    "                             logs_df['timestamp'].isNull() | \n",
    "                             logs_df['method'].isNull() |\n",
    "                             logs_df['endpoint'].isNull() |\n",
    "                             logs_df['status'].isNull() |\n",
    "                             logs_df['content_size'].isNull()|\n",
    "                             logs_df['protocol'].isNull())\n",
    "bad_rows_df.count()"
   ],
   "metadata": {
    "colab_type": "code",
    "id": "4NFuk6QTXvBH",
    "application/vnd.databricks.v1+cell": {
     "showTitle": false,
     "cellMetadata": {},
     "nuid": "2b316506-a30a-4f3a-966d-8e565862dfb4",
     "inputWidgets": {},
     "title": ""
    },
    "colab": {},
    "outputId": "a8238a74-51c8-48ac-fe83-b67f42d0a78c"
   },
   "outputs": [
    {
     "output_type": "display_data",
     "metadata": {
      "application/vnd.databricks.v1+output": {
       "datasetInfos": [],
       "data": "Out[22]: 0",
       "removedWidgets": [],
       "addedWidgets": {},
       "metadata": {},
       "type": "ansi",
       "arguments": {}
      }
     },
     "data": {
      "text/plain": [
       "Out[22]: 0"
      ]
     }
    }
   ],
   "execution_count": 0
  },
  {
   "cell_type": "markdown",
   "source": [
    "Ouch! Looks like we have over 30K missing values in our data! Can we handle this?"
   ],
   "metadata": {
    "colab_type": "text",
    "id": "CIqr5XvhXvBM",
    "application/vnd.databricks.v1+cell": {
     "showTitle": false,
     "cellMetadata": {},
     "nuid": "66e68fdd-0784-4da4-8981-884e539353ce",
     "inputWidgets": {},
     "title": ""
    }
   }
  },
  {
   "cell_type": "markdown",
   "source": [
    "Do remember, this is not a regular pandas dataframe which you can directly query and get which columns have null. Our so-called _big dataset_ is residing on disk which can potentially be present in multiple nodes in a spark cluster. So how do we find out which columns have potential nulls? \n",
    "\n",
    "### Finding Null Counts\n",
    "\n",
    "We can typically use the following technique to find out which columns have null values. \n",
    "\n",
    "(__Note:__ This approach is adapted from an [excellent answer](http://stackoverflow.com/a/33901312) on StackOverflow.)"
   ],
   "metadata": {
    "colab_type": "text",
    "id": "g8iWYrBoXvBN",
    "application/vnd.databricks.v1+cell": {
     "showTitle": false,
     "cellMetadata": {},
     "nuid": "f88659e1-d18b-46eb-a7d7-aee519117303",
     "inputWidgets": {},
     "title": ""
    }
   }
  },
  {
   "cell_type": "code",
   "source": [
    "logs_df.columns"
   ],
   "metadata": {
    "colab_type": "code",
    "id": "h0TWdnaPXvBP",
    "application/vnd.databricks.v1+cell": {
     "showTitle": false,
     "cellMetadata": {},
     "nuid": "1f465880-fffb-4447-975e-dc48dc1d9915",
     "inputWidgets": {},
     "title": ""
    },
    "colab": {},
    "outputId": "8a7abfda-2629-4f36-cb9c-3e00a13efa83"
   },
   "outputs": [
    {
     "output_type": "display_data",
     "metadata": {
      "application/vnd.databricks.v1+output": {
       "datasetInfos": [],
       "data": "Out[23]: ['host',\n 'timestamp',\n 'method',\n 'endpoint',\n 'protocol',\n 'status',\n 'content_size']",
       "removedWidgets": [],
       "addedWidgets": {},
       "metadata": {},
       "type": "ansi",
       "arguments": {}
      }
     },
     "data": {
      "text/plain": [
       "Out[23]: ['host',\n 'timestamp',\n 'method',\n 'endpoint',\n 'protocol',\n 'status',\n 'content_size']"
      ]
     }
    }
   ],
   "execution_count": 0
  },
  {
   "cell_type": "code",
   "source": [
    "from pyspark.sql.functions import col\n",
    "from pyspark.sql.functions import sum as spark_sum\n",
    "\n",
    "def count_null(col_name):\n",
    "    return spark_sum(col(col_name).isNull().cast('integer')).alias(col_name)\n",
    "\n",
    "# Build up a list of column expressions, one per column.\n",
    "exprs = [count_null(col_name) for col_name in logs_df.columns]\n",
    "\n",
    "# Run the aggregation. The *exprs converts the list of expressions into\n",
    "# variable function arguments.\n",
    "logs_df.agg(*exprs).show()"
   ],
   "metadata": {
    "colab_type": "code",
    "id": "LtNLdagZXvBT",
    "application/vnd.databricks.v1+cell": {
     "showTitle": false,
     "cellMetadata": {},
     "nuid": "109b2209-c95e-4b4c-88ac-d8f6309bcad1",
     "inputWidgets": {},
     "title": ""
    },
    "colab": {},
    "outputId": "e9fba1ca-d183-4728-9f7c-135ebcd78ec9"
   },
   "outputs": [
    {
     "output_type": "display_data",
     "metadata": {
      "application/vnd.databricks.v1+output": {
       "datasetInfos": [],
       "data": "+----+---------+------+--------+--------+------+------------+\n|host|timestamp|method|endpoint|protocol|status|content_size|\n+----+---------+------+--------+--------+------+------------+\n|   0|        0|     0|       0|       0|     0|           0|\n+----+---------+------+--------+--------+------+------------+\n\n",
       "removedWidgets": [],
       "addedWidgets": {},
       "metadata": {},
       "type": "ansi",
       "arguments": {}
      }
     },
     "data": {
      "text/plain": [
       "+----+---------+------+--------+--------+------+------------+\n|host|timestamp|method|endpoint|protocol|status|content_size|\n+----+---------+------+--------+--------+------+------------+\n|   0|        0|     0|       0|       0|     0|           0|\n+----+---------+------+--------+--------+------+------------+\n\n"
      ]
     }
    }
   ],
   "execution_count": 0
  },
  {
   "cell_type": "markdown",
   "source": [
    "Well, looks like we have one missing value in the `status` column and everything else is in the `content_size` column. \n",
    "Let's see if we can figure out what's wrong!"
   ],
   "metadata": {
    "colab_type": "text",
    "id": "g5z_B22MXvBX",
    "application/vnd.databricks.v1+cell": {
     "showTitle": false,
     "cellMetadata": {},
     "nuid": "753206a2-a8e0-48de-8678-c0cb41ba4285",
     "inputWidgets": {},
     "title": ""
    }
   }
  },
  {
   "cell_type": "markdown",
   "source": [
    "### Handling nulls in HTTP status\n",
    "\n",
    "If you had solved it correctly, our original parsing regular expression for the `status` column was:\n",
    "\n",
    "```\n",
    "regexp_extract('value', r'\\s(\\d{3})\\s', 1).cast('integer').alias('status')\n",
    "``` \n",
    "\n",
    "Could it be that there are more digits making our regular expression wrong? or is the data point itself bad? Let's try and find out!\n",
    "\n",
    "**Note**: In the expression below, `~` means \"not\"."
   ],
   "metadata": {
    "colab_type": "text",
    "id": "jGoLzGeEXvBZ",
    "application/vnd.databricks.v1+cell": {
     "showTitle": false,
     "cellMetadata": {},
     "nuid": "3c3e8daf-a3e9-4d6f-b2f5-66ea3fe5811b",
     "inputWidgets": {},
     "title": ""
    }
   }
  },
  {
   "cell_type": "code",
   "source": [
    "null_status_df = base_df.filter(~base_df['value'].rlike(r'\\s(\\d{3})\\s'))\n",
    "null_status_df.count()"
   ],
   "metadata": {
    "colab_type": "code",
    "id": "tscbB01GXvBb",
    "application/vnd.databricks.v1+cell": {
     "showTitle": false,
     "cellMetadata": {},
     "nuid": "f0c99340-6327-451b-89ca-0a75cbb39ec7",
     "inputWidgets": {},
     "title": ""
    },
    "colab": {},
    "outputId": "97996e0a-5e21-441f-b742-3e898e691c43"
   },
   "outputs": [
    {
     "output_type": "display_data",
     "metadata": {
      "application/vnd.databricks.v1+output": {
       "datasetInfos": [],
       "data": "Out[25]: 1",
       "removedWidgets": [],
       "addedWidgets": {},
       "metadata": {},
       "type": "ansi",
       "arguments": {}
      }
     },
     "data": {
      "text/plain": [
       "Out[25]: 1"
      ]
     }
    }
   ],
   "execution_count": 0
  },
  {
   "cell_type": "code",
   "source": [
    "null_status_df.show(truncate=False)"
   ],
   "metadata": {
    "colab_type": "code",
    "id": "KMRiPoTXXvBe",
    "application/vnd.databricks.v1+cell": {
     "showTitle": false,
     "cellMetadata": {},
     "nuid": "23a4076d-3505-4471-bd3a-6e4e0c8b92cd",
     "inputWidgets": {},
     "title": ""
    },
    "colab": {},
    "outputId": "8bf8cf96-643f-42fd-c593-0dcadf950f74"
   },
   "outputs": [
    {
     "output_type": "display_data",
     "metadata": {
      "application/vnd.databricks.v1+output": {
       "datasetInfos": [],
       "data": "+--------+\n|value   |\n+--------+\n|alyssa.p|\n+--------+\n\n",
       "removedWidgets": [],
       "addedWidgets": {},
       "metadata": {},
       "type": "ansi",
       "arguments": {}
      }
     },
     "data": {
      "text/plain": [
       "+--------+\n|value   |\n+--------+\n|alyssa.p|\n+--------+\n\n"
      ]
     }
    }
   ],
   "execution_count": 0
  },
  {
   "cell_type": "code",
   "source": [
    "bad_status_df = null_status_df.select(regexp_extract('value', host_pattern, 1).alias('host'),\n",
    "                                      regexp_extract('value', ts_pattern, 1).alias('timestamp'),\n",
    "                                      regexp_extract('value', method_uri_protocol_pattern, 1).alias('method'),\n",
    "                                      regexp_extract('value', method_uri_protocol_pattern, 2).alias('endpoint'),\n",
    "                                      regexp_extract('value', method_uri_protocol_pattern, 3).alias('protocol'),\n",
    "                                      regexp_extract('value', status_pattern, 1).cast('integer').alias('status'),\n",
    "                                      regexp_extract('value', content_size_pattern, 1).cast('integer').alias('content_size'))\n",
    "bad_status_df.show(truncate=False)"
   ],
   "metadata": {
    "colab_type": "code",
    "id": "-ec9HtGwXvBh",
    "application/vnd.databricks.v1+cell": {
     "showTitle": false,
     "cellMetadata": {},
     "nuid": "ecc24af0-24dd-45b2-bf57-2c0f67890277",
     "inputWidgets": {},
     "title": ""
    },
    "colab": {},
    "outputId": "9bc09049-3dff-4b65-8fec-5b7edf2cda39"
   },
   "outputs": [
    {
     "output_type": "display_data",
     "metadata": {
      "application/vnd.databricks.v1+output": {
       "datasetInfos": [],
       "data": "+----+---------+------+--------+--------+------+------------+\n|host|timestamp|method|endpoint|protocol|status|content_size|\n+----+---------+------+--------+--------+------+------------+\n|    |         |      |        |        |null  |null        |\n+----+---------+------+--------+--------+------+------------+\n\n",
       "removedWidgets": [],
       "addedWidgets": {},
       "metadata": {},
       "type": "ansi",
       "arguments": {}
      }
     },
     "data": {
      "text/plain": [
       "+----+---------+------+--------+--------+------+------------+\n|host|timestamp|method|endpoint|protocol|status|content_size|\n+----+---------+------+--------+--------+------+------------+\n|    |         |      |        |        |null  |null        |\n+----+---------+------+--------+--------+------+------------+\n\n"
      ]
     }
    }
   ],
   "execution_count": 0
  },
  {
   "cell_type": "markdown",
   "source": [
    "Looks like the record itself is an incomplete record with no useful information, the best option would be to drop this record as follows!"
   ],
   "metadata": {
    "colab_type": "text",
    "id": "wS7tZXIUXvBk",
    "application/vnd.databricks.v1+cell": {
     "showTitle": false,
     "cellMetadata": {},
     "nuid": "57eee656-eb05-4170-b0e5-5fe073fb24d2",
     "inputWidgets": {},
     "title": ""
    }
   }
  },
  {
   "cell_type": "code",
   "source": [
    "logs_df.count()"
   ],
   "metadata": {
    "colab_type": "code",
    "id": "zb6wxLWuXvBl",
    "application/vnd.databricks.v1+cell": {
     "showTitle": false,
     "cellMetadata": {},
     "nuid": "c9ac0796-8885-42ee-bfa4-f3ce45ed4d72",
     "inputWidgets": {},
     "title": ""
    },
    "colab": {},
    "outputId": "b4f36a5a-9679-4830-91fc-80388aac54e2"
   },
   "outputs": [
    {
     "output_type": "display_data",
     "metadata": {
      "application/vnd.databricks.v1+output": {
       "datasetInfos": [],
       "data": "Out[28]: 3461613",
       "removedWidgets": [],
       "addedWidgets": {},
       "metadata": {},
       "type": "ansi",
       "arguments": {}
      }
     },
     "data": {
      "text/plain": [
       "Out[28]: 3461613"
      ]
     }
    }
   ],
   "execution_count": 0
  },
  {
   "cell_type": "code",
   "source": [
    "logs_df = logs_df[logs_df['status'].isNotNull()]\n",
    "logs_df.count()"
   ],
   "metadata": {
    "colab_type": "code",
    "id": "RQogALLJXvBo",
    "application/vnd.databricks.v1+cell": {
     "showTitle": false,
     "cellMetadata": {},
     "nuid": "e460d78e-a5a4-4c1f-be46-9d990df81a1f",
     "inputWidgets": {},
     "title": ""
    },
    "colab": {},
    "outputId": "41034dca-c862-48e7-9a3d-548738bebbff"
   },
   "outputs": [
    {
     "output_type": "display_data",
     "metadata": {
      "application/vnd.databricks.v1+output": {
       "datasetInfos": [],
       "data": "Out[29]: 3461613",
       "removedWidgets": [],
       "addedWidgets": {},
       "metadata": {},
       "type": "ansi",
       "arguments": {}
      }
     },
     "data": {
      "text/plain": [
       "Out[29]: 3461613"
      ]
     }
    }
   ],
   "execution_count": 0
  },
  {
   "cell_type": "code",
   "source": [
    "exprs = [count_null(col_name) for col_name in logs_df.columns]\n",
    "logs_df.agg(*exprs).show()"
   ],
   "metadata": {
    "colab_type": "code",
    "id": "_rHsvCeeXvBs",
    "application/vnd.databricks.v1+cell": {
     "showTitle": false,
     "cellMetadata": {},
     "nuid": "5b5bac48-b197-4685-9872-27c288a00d7f",
     "inputWidgets": {},
     "title": ""
    },
    "colab": {},
    "outputId": "a58d88c2-94cc-4c58-bf1f-bf12abc0e822"
   },
   "outputs": [
    {
     "output_type": "display_data",
     "metadata": {
      "application/vnd.databricks.v1+output": {
       "datasetInfos": [],
       "data": "+----+---------+------+--------+--------+------+------------+\n|host|timestamp|method|endpoint|protocol|status|content_size|\n+----+---------+------+--------+--------+------+------------+\n|   0|        0|     0|       0|       0|     0|           0|\n+----+---------+------+--------+--------+------+------------+\n\n",
       "removedWidgets": [],
       "addedWidgets": {},
       "metadata": {},
       "type": "ansi",
       "arguments": {}
      }
     },
     "data": {
      "text/plain": [
       "+----+---------+------+--------+--------+------+------------+\n|host|timestamp|method|endpoint|protocol|status|content_size|\n+----+---------+------+--------+--------+------+------------+\n|   0|        0|     0|       0|       0|     0|           0|\n+----+---------+------+--------+--------+------+------------+\n\n"
      ]
     }
    }
   ],
   "execution_count": 0
  },
  {
   "cell_type": "markdown",
   "source": [
    "### Handling nulls in HTTP content size\n",
    "\n",
    "Again based on our previous regular expression and assuming you were able to solve it correctly, our original parsing regular expression for the `content_size` column was:\n",
    "\n",
    "```\n",
    "regexp_extract('value', r'\\s(\\d+)$', 1).cast('integer').alias('content_size')\n",
    "``` \n",
    "\n",
    "Could there be missing data in our original dataset itself? Let's try and find out!"
   ],
   "metadata": {
    "colab_type": "text",
    "id": "8k4-PjEFXvBv",
    "application/vnd.databricks.v1+cell": {
     "showTitle": false,
     "cellMetadata": {},
     "nuid": "4de328dd-aec8-408d-a2bd-e970e92e40c9",
     "inputWidgets": {},
     "title": ""
    }
   }
  },
  {
   "cell_type": "markdown",
   "source": [
    "### Q2: Your Turn: Find out the records in our base data frame with potential missing content sizes\n",
    "\n",
    "- Use the `r'\\s\\d+$'` regex pattern with the `rlike()` function like we demonstrated in the previous example\n",
    "- Remember to work on `base_df` since we are searching on the raw records NOT the parsed `logs_df`\n",
    "- Find the total count of the records with missing content size in `base_df` using the `count()` function"
   ],
   "metadata": {
    "colab_type": "text",
    "id": "MMjHfm1aXvBw",
    "application/vnd.databricks.v1+cell": {
     "showTitle": false,
     "cellMetadata": {},
     "nuid": "8b652d3d-ccbb-4db0-a6ed-c1d007294d0c",
     "inputWidgets": {},
     "title": ""
    }
   }
  },
  {
   "cell_type": "code",
   "source": [
    "# TODO: Replace <FILL IN> with appropriate code\n",
    "\n",
    "null_content_size_df = base_df.filter(~base_df['value'].rlike(r'\\s(\\d+)$'))\n",
    "null_content_size_df.count()"
   ],
   "metadata": {
    "colab_type": "code",
    "id": "ki7G6daTXvBx",
    "application/vnd.databricks.v1+cell": {
     "showTitle": false,
     "cellMetadata": {},
     "nuid": "51e6de41-a785-4c95-8ff6-a8d96eb32671",
     "inputWidgets": {},
     "title": ""
    },
    "colab": {},
    "outputId": "8a7230f3-f87b-4681-fcfc-b5d9503a441d"
   },
   "outputs": [
    {
     "output_type": "display_data",
     "metadata": {
      "application/vnd.databricks.v1+output": {
       "datasetInfos": [],
       "data": "Out[31]: 33905",
       "removedWidgets": [],
       "addedWidgets": {},
       "metadata": {},
       "type": "ansi",
       "arguments": {}
      }
     },
     "data": {
      "text/plain": [
       "Out[31]: 33905"
      ]
     }
    }
   ],
   "execution_count": 0
  },
  {
   "cell_type": "markdown",
   "source": [
    "### Q3: Your Turn: Display the top ten records of your data frame having missing content sizes"
   ],
   "metadata": {
    "colab_type": "text",
    "id": "6te6fSfCXvB0",
    "application/vnd.databricks.v1+cell": {
     "showTitle": false,
     "cellMetadata": {},
     "nuid": "72817b9b-3c92-4ef6-ba13-a0321c30e53a",
     "inputWidgets": {},
     "title": ""
    }
   }
  },
  {
   "cell_type": "code",
   "source": [
    "# TODO: Replace <FILL IN> with appropriate code\n",
    "\n",
    "null_content_size_df.show(truncate=False)"
   ],
   "metadata": {
    "colab_type": "code",
    "id": "P1vwVWX4XvB1",
    "application/vnd.databricks.v1+cell": {
     "showTitle": false,
     "cellMetadata": {},
     "nuid": "af3c38ca-1d2a-4284-9e87-414bba37cd44",
     "inputWidgets": {},
     "title": ""
    },
    "colab": {},
    "outputId": "c11b52c6-ed73-421f-8988-8eb6296c7e7a"
   },
   "outputs": [
    {
     "output_type": "display_data",
     "metadata": {
      "application/vnd.databricks.v1+output": {
       "datasetInfos": [],
       "data": "+---------------------------------------------------------------------------------------------------------------------------+\n|value                                                                                                                      |\n+---------------------------------------------------------------------------------------------------------------------------+\n|gw1.att.com - - [01/Aug/1995:00:03:53 -0400] \"GET /shuttle/missions/sts-73/news HTTP/1.0\" 302 -                            |\n|js002.cc.utsunomiya-u.ac.jp - - [01/Aug/1995:00:07:33 -0400] \"GET /shuttle/resources/orbiters/discovery.gif HTTP/1.0\" 404 -|\n|tia1.eskimo.com - - [01/Aug/1995:00:28:41 -0400] \"GET /pub/winvn/release.txt HTTP/1.0\" 404 -                               |\n|itws.info.eng.niigata-u.ac.jp - - [01/Aug/1995:00:38:01 -0400] \"GET /ksc.html/facts/about_ksc.html HTTP/1.0\" 403 -         |\n|grimnet23.idirect.com - - [01/Aug/1995:00:50:12 -0400] \"GET /www/software/winvn/winvn.html HTTP/1.0\" 404 -                 |\n|miriworld.its.unimelb.edu.au - - [01/Aug/1995:01:04:54 -0400] \"GET /history/history.htm HTTP/1.0\" 404 -                    |\n|ras38.srv.net - - [01/Aug/1995:01:05:14 -0400] \"GET /elv/DELTA/uncons.htm HTTP/1.0\" 404 -                                  |\n|cs1-06.leh.ptd.net - - [01/Aug/1995:01:17:38 -0400] \"GET /sts-71/launch/\" 404 -                                            |\n|www-b2.proxy.aol.com - - [01/Aug/1995:01:22:07 -0400] \"GET /shuttle/countdown HTTP/1.0\" 302 -                              |\n|maui56.maui.net - - [01/Aug/1995:01:31:56 -0400] \"GET /shuttle HTTP/1.0\" 302 -                                             |\n|dialip-24.athenet.net - - [01/Aug/1995:01:33:02 -0400] \"GET /history/apollo/apollo-13.html HTTP/1.0\" 404 -                 |\n|h96-158.ccnet.com - - [01/Aug/1995:01:35:50 -0400] \"GET /history/apollo/a-001/a-001-patch-small.gif HTTP/1.0\" 404 -        |\n|h96-158.ccnet.com - - [01/Aug/1995:01:36:23 -0400] \"GET /history/apollo/a-001/movies/ HTTP/1.0\" 404 -                      |\n|h96-158.ccnet.com - - [01/Aug/1995:01:36:30 -0400] \"GET /history/apollo/a-001/a-001-patch-small.gif HTTP/1.0\" 404 -        |\n|h96-158.ccnet.com - - [01/Aug/1995:01:36:38 -0400] \"GET /history/apollo/a-001/movies/ HTTP/1.0\" 404 -                      |\n|h96-158.ccnet.com - - [01/Aug/1995:01:36:42 -0400] \"GET /history/apollo/a-001/a-001-patch-small.gif HTTP/1.0\" 404 -        |\n|h96-158.ccnet.com - - [01/Aug/1995:01:36:44 -0400] \"GET /history/apollo/a-001/images/ HTTP/1.0\" 404 -                      |\n|h96-158.ccnet.com - - [01/Aug/1995:01:36:47 -0400] \"GET /history/apollo/a-001/a-001-patch-small.gif HTTP/1.0\" 404 -        |\n|h96-158.ccnet.com - - [01/Aug/1995:01:37:04 -0400] \"GET /history/apollo/a-004/a-004-patch-small.gif HTTP/1.0\" 404 -        |\n|h96-158.ccnet.com - - [01/Aug/1995:01:37:05 -0400] \"GET /history/apollo/a-004/movies/ HTTP/1.0\" 404 -                      |\n+---------------------------------------------------------------------------------------------------------------------------+\nonly showing top 20 rows\n\n",
       "removedWidgets": [],
       "addedWidgets": {},
       "metadata": {},
       "type": "ansi",
       "arguments": {}
      }
     },
     "data": {
      "text/plain": [
       "+---------------------------------------------------------------------------------------------------------------------------+\n|value                                                                                                                      |\n+---------------------------------------------------------------------------------------------------------------------------+\n|gw1.att.com - - [01/Aug/1995:00:03:53 -0400] \"GET /shuttle/missions/sts-73/news HTTP/1.0\" 302 -                            |\n|js002.cc.utsunomiya-u.ac.jp - - [01/Aug/1995:00:07:33 -0400] \"GET /shuttle/resources/orbiters/discovery.gif HTTP/1.0\" 404 -|\n|tia1.eskimo.com - - [01/Aug/1995:00:28:41 -0400] \"GET /pub/winvn/release.txt HTTP/1.0\" 404 -                               |\n|itws.info.eng.niigata-u.ac.jp - - [01/Aug/1995:00:38:01 -0400] \"GET /ksc.html/facts/about_ksc.html HTTP/1.0\" 403 -         |\n|grimnet23.idirect.com - - [01/Aug/1995:00:50:12 -0400] \"GET /www/software/winvn/winvn.html HTTP/1.0\" 404 -                 |\n|miriworld.its.unimelb.edu.au - - [01/Aug/1995:01:04:54 -0400] \"GET /history/history.htm HTTP/1.0\" 404 -                    |\n|ras38.srv.net - - [01/Aug/1995:01:05:14 -0400] \"GET /elv/DELTA/uncons.htm HTTP/1.0\" 404 -                                  |\n|cs1-06.leh.ptd.net - - [01/Aug/1995:01:17:38 -0400] \"GET /sts-71/launch/\" 404 -                                            |\n|www-b2.proxy.aol.com - - [01/Aug/1995:01:22:07 -0400] \"GET /shuttle/countdown HTTP/1.0\" 302 -                              |\n|maui56.maui.net - - [01/Aug/1995:01:31:56 -0400] \"GET /shuttle HTTP/1.0\" 302 -                                             |\n|dialip-24.athenet.net - - [01/Aug/1995:01:33:02 -0400] \"GET /history/apollo/apollo-13.html HTTP/1.0\" 404 -                 |\n|h96-158.ccnet.com - - [01/Aug/1995:01:35:50 -0400] \"GET /history/apollo/a-001/a-001-patch-small.gif HTTP/1.0\" 404 -        |\n|h96-158.ccnet.com - - [01/Aug/1995:01:36:23 -0400] \"GET /history/apollo/a-001/movies/ HTTP/1.0\" 404 -                      |\n|h96-158.ccnet.com - - [01/Aug/1995:01:36:30 -0400] \"GET /history/apollo/a-001/a-001-patch-small.gif HTTP/1.0\" 404 -        |\n|h96-158.ccnet.com - - [01/Aug/1995:01:36:38 -0400] \"GET /history/apollo/a-001/movies/ HTTP/1.0\" 404 -                      |\n|h96-158.ccnet.com - - [01/Aug/1995:01:36:42 -0400] \"GET /history/apollo/a-001/a-001-patch-small.gif HTTP/1.0\" 404 -        |\n|h96-158.ccnet.com - - [01/Aug/1995:01:36:44 -0400] \"GET /history/apollo/a-001/images/ HTTP/1.0\" 404 -                      |\n|h96-158.ccnet.com - - [01/Aug/1995:01:36:47 -0400] \"GET /history/apollo/a-001/a-001-patch-small.gif HTTP/1.0\" 404 -        |\n|h96-158.ccnet.com - - [01/Aug/1995:01:37:04 -0400] \"GET /history/apollo/a-004/a-004-patch-small.gif HTTP/1.0\" 404 -        |\n|h96-158.ccnet.com - - [01/Aug/1995:01:37:05 -0400] \"GET /history/apollo/a-004/movies/ HTTP/1.0\" 404 -                      |\n+---------------------------------------------------------------------------------------------------------------------------+\nonly showing top 20 rows\n\n"
      ]
     }
    }
   ],
   "execution_count": 0
  },
  {
   "cell_type": "markdown",
   "source": [
    "Assuming you were able to get to the missing records above, it is quite evident that the bad raw data records correspond to error responses, where no content was sent back and the server emitted a \"`-`\" for the `content_size` field. \n",
    "\n",
    "Since we don't want to discard those rows from our analysis, let's impute or fill them to 0."
   ],
   "metadata": {
    "colab_type": "text",
    "id": "Rl3J6c5sXvB8",
    "application/vnd.databricks.v1+cell": {
     "showTitle": false,
     "cellMetadata": {},
     "nuid": "21eca8b2-d6c9-4c35-be59-925eb5280965",
     "inputWidgets": {},
     "title": ""
    }
   }
  },
  {
   "cell_type": "markdown",
   "source": [
    "### Q4: Your Turn: Fix the rows with null content\\_size\n",
    "\n",
    "The easiest solution is to replace the null values in `logs_df` with 0 like we discussed earlier. The Spark DataFrame API provides a set of functions and fields specifically designed for working with null values, among them:\n",
    "\n",
    "* [fillna()](http://spark.apache.org/docs/latest/api/python/pyspark.sql.html#pyspark.sql.DataFrame.fillna), which fills null values with specified non-null values.\n",
    "* [na](http://spark.apache.org/docs/latest/api/python/pyspark.sql.html#pyspark.sql.DataFrame.na), which returns a [DataFrameNaFunctions](http://spark.apache.org/docs/latest/api/python/pyspark.sql.html#pyspark.sql.DataFrameNaFunctions) object with many functions for operating on null columns.\n",
    "\n",
    "There are several ways to invoke this function. The easiest is just to replace _all_ null columns with known values. But, for safety, it's better to pass a Python dictionary containing (column\\_name, value) mappings. That's what we'll do. A sample example from the documentation is depicted below\n",
    "\n",
    "```\n",
    ">>> df4.na.fill({'age': 50, 'name': 'unknown'}).show()\n",
    "+---+------+-------+\n",
    "|age|height|   name|\n",
    "+---+------+-------+\n",
    "| 10|    80|  Alice|\n",
    "|  5|  null|    Bob|\n",
    "| 50|  null|    Tom|\n",
    "| 50|  null|unknown|\n",
    "+---+------+-------+\n",
    "```\n",
    "\n",
    "Now use this function and fill all the missing values in the `content_size` field with 0!"
   ],
   "metadata": {
    "colab_type": "text",
    "id": "2y3iD47fXvCB",
    "application/vnd.databricks.v1+cell": {
     "showTitle": false,
     "cellMetadata": {},
     "nuid": "0fce6c14-254b-4628-a822-6d476f7b28a2",
     "inputWidgets": {},
     "title": ""
    }
   }
  },
  {
   "cell_type": "code",
   "source": [
    "# TODO: Replace <FILL IN> with appropriate code\n",
    "\n",
    "logs_df = logs_df.na.fill({'content_size': 0})"
   ],
   "metadata": {
    "colab_type": "code",
    "collapsed": true,
    "id": "_2w5KTE0XvCC",
    "application/vnd.databricks.v1+cell": {
     "showTitle": false,
     "cellMetadata": {},
     "nuid": "93cbce24-0972-41a8-af81-f4e84d6f7937",
     "inputWidgets": {},
     "title": ""
    },
    "colab": {},
    "outputId": "df4d371c-1376-4616-e2c7-9e35ddccf80e"
   },
   "outputs": [],
   "execution_count": 0
  },
  {
   "cell_type": "markdown",
   "source": [
    "Now assuming you were able to fill in the missing values successfully in the previous question, we should have no missing values \\ nulls in our dataset. Let's verify this!"
   ],
   "metadata": {
    "colab_type": "text",
    "id": "zdjkzs6UXvCJ",
    "application/vnd.databricks.v1+cell": {
     "showTitle": false,
     "cellMetadata": {},
     "nuid": "9dcb5531-d409-4f52-9d71-eacb81464017",
     "inputWidgets": {},
     "title": ""
    }
   }
  },
  {
   "cell_type": "code",
   "source": [
    "exprs = [count_null(col_name) for col_name in logs_df.columns]\n",
    "logs_df.agg(*exprs).show()"
   ],
   "metadata": {
    "colab_type": "code",
    "id": "wDaLqVZOXvCK",
    "application/vnd.databricks.v1+cell": {
     "showTitle": false,
     "cellMetadata": {},
     "nuid": "5e732494-fd08-4f51-b0db-c59688767502",
     "inputWidgets": {},
     "title": ""
    },
    "colab": {},
    "outputId": "a3097bef-1d37-4213-a6e8-a52b08c27947"
   },
   "outputs": [
    {
     "output_type": "display_data",
     "metadata": {
      "application/vnd.databricks.v1+output": {
       "datasetInfos": [],
       "data": "+----+---------+------+--------+--------+------+------------+\n|host|timestamp|method|endpoint|protocol|status|content_size|\n+----+---------+------+--------+--------+------+------------+\n|   0|        0|     0|       0|       0|     0|           0|\n+----+---------+------+--------+--------+------+------------+\n\n",
       "removedWidgets": [],
       "addedWidgets": {},
       "metadata": {},
       "type": "ansi",
       "arguments": {}
      }
     },
     "data": {
      "text/plain": [
       "+----+---------+------+--------+--------+------+------------+\n|host|timestamp|method|endpoint|protocol|status|content_size|\n+----+---------+------+--------+--------+------+------------+\n|   0|        0|     0|       0|       0|     0|           0|\n+----+---------+------+--------+--------+------+------------+\n\n"
      ]
     }
    }
   ],
   "execution_count": 0
  },
  {
   "cell_type": "markdown",
   "source": [
    "Look at that, no missing values!"
   ],
   "metadata": {
    "colab_type": "text",
    "id": "Bjr1f1m2XvCN",
    "application/vnd.databricks.v1+cell": {
     "showTitle": false,
     "cellMetadata": {},
     "nuid": "e91c0f1a-011c-48b2-95f2-746b64b28bf6",
     "inputWidgets": {},
     "title": ""
    }
   }
  },
  {
   "cell_type": "markdown",
   "source": [
    "## Handling Temporal Fields (Timestamp)\n",
    "\n",
    "Now that we have a clean, parsed DataFrame, we have to parse the timestamp field into an actual timestamp. The Common Log Format time is somewhat non-standard. A User-Defined Function (UDF) is the most straightforward way to parse it."
   ],
   "metadata": {
    "colab_type": "text",
    "id": "UFtYMGZhXvCN",
    "application/vnd.databricks.v1+cell": {
     "showTitle": false,
     "cellMetadata": {},
     "nuid": "3812c5ee-371a-4f46-b794-c9458681f67b",
     "inputWidgets": {},
     "title": ""
    }
   }
  },
  {
   "cell_type": "code",
   "source": [
    "from pyspark.sql.functions import udf\n",
    "\n",
    "month_map = {\n",
    "  'Jan': 1, 'Feb': 2, 'Mar':3, 'Apr':4, 'May':5, 'Jun':6, 'Jul':7,\n",
    "  'Aug':8,  'Sep': 9, 'Oct':10, 'Nov': 11, 'Dec': 12\n",
    "}\n",
    "\n",
    "def parse_clf_time(text):\n",
    "    \"\"\" Convert Common Log time format into a Python datetime object\n",
    "    Args:\n",
    "        text (str): date and time in Apache time format [dd/mmm/yyyy:hh:mm:ss (+/-)zzzz]\n",
    "    Returns:\n",
    "        a string suitable for passing to CAST('timestamp')\n",
    "    \"\"\"\n",
    "    # NOTE: We're ignoring time zone here. In a production application, you'd want to handle that.\n",
    "    return \"{0:04d}-{1:02d}-{2:02d} {3:02d}:{4:02d}:{5:02d}\".format(\n",
    "      int(text[7:11]),\n",
    "      month_map[text[3:6]],\n",
    "      int(text[0:2]),\n",
    "      int(text[12:14]),\n",
    "      int(text[15:17]),\n",
    "      int(text[18:20])\n",
    "    )"
   ],
   "metadata": {
    "colab_type": "code",
    "id": "k5t5VysnXvCS",
    "application/vnd.databricks.v1+cell": {
     "showTitle": false,
     "cellMetadata": {},
     "nuid": "f664a7ef-82c4-4a3a-ad6f-49af9dd4b4db",
     "inputWidgets": {},
     "title": ""
    },
    "colab": {},
    "outputId": "bebe2bb0-65ec-4d43-dbc9-24cda3c32de0"
   },
   "outputs": [],
   "execution_count": 0
  },
  {
   "cell_type": "code",
   "source": [
    "sample_ts = [item['timestamp'] for item in logs_df.select('timestamp').take(5)]\n",
    "sample_ts"
   ],
   "metadata": {
    "colab_type": "code",
    "id": "RLJHPXHwXvCW",
    "application/vnd.databricks.v1+cell": {
     "showTitle": false,
     "cellMetadata": {},
     "nuid": "423c4c27-f9c2-4f20-a60a-d44dc826adce",
     "inputWidgets": {},
     "title": ""
    },
    "colab": {},
    "outputId": "2e58d673-3c1b-45fa-f283-886c698cfc6d"
   },
   "outputs": [
    {
     "output_type": "display_data",
     "metadata": {
      "application/vnd.databricks.v1+output": {
       "datasetInfos": [],
       "data": "Out[36]: ['01/Aug/1995:00:00:01 -0400',\n '01/Aug/1995:00:00:07 -0400',\n '01/Aug/1995:00:00:08 -0400',\n '01/Aug/1995:00:00:08 -0400',\n '01/Aug/1995:00:00:08 -0400']",
       "removedWidgets": [],
       "addedWidgets": {},
       "metadata": {},
       "type": "ansi",
       "arguments": {}
      }
     },
     "data": {
      "text/plain": [
       "Out[36]: ['01/Aug/1995:00:00:01 -0400',\n '01/Aug/1995:00:00:07 -0400',\n '01/Aug/1995:00:00:08 -0400',\n '01/Aug/1995:00:00:08 -0400',\n '01/Aug/1995:00:00:08 -0400']"
      ]
     }
    }
   ],
   "execution_count": 0
  },
  {
   "cell_type": "code",
   "source": [
    "[parse_clf_time(item) for item in sample_ts]"
   ],
   "metadata": {
    "colab_type": "code",
    "id": "0K5Yd1Z2XvCY",
    "application/vnd.databricks.v1+cell": {
     "showTitle": false,
     "cellMetadata": {},
     "nuid": "fa1cdf1f-5e75-4bc8-818c-ad55ffac3a56",
     "inputWidgets": {},
     "title": ""
    },
    "colab": {},
    "outputId": "6108f5bb-bbd8-4c11-f9e4-efc491c543e0"
   },
   "outputs": [
    {
     "output_type": "display_data",
     "metadata": {
      "application/vnd.databricks.v1+output": {
       "datasetInfos": [],
       "data": "Out[37]: ['1995-08-01 00:00:01',\n '1995-08-01 00:00:07',\n '1995-08-01 00:00:08',\n '1995-08-01 00:00:08',\n '1995-08-01 00:00:08']",
       "removedWidgets": [],
       "addedWidgets": {},
       "metadata": {},
       "type": "ansi",
       "arguments": {}
      }
     },
     "data": {
      "text/plain": [
       "Out[37]: ['1995-08-01 00:00:01',\n '1995-08-01 00:00:07',\n '1995-08-01 00:00:08',\n '1995-08-01 00:00:08',\n '1995-08-01 00:00:08']"
      ]
     }
    }
   ],
   "execution_count": 0
  },
  {
   "cell_type": "code",
   "source": [
    "udf_parse_time = udf(parse_clf_time)\n",
    "\n",
    "logs_df = logs_df.select('*', udf_parse_time(logs_df['timestamp']).cast('timestamp').alias('time')).drop('timestamp')\n",
    "logs_df.show(10, truncate=True)"
   ],
   "metadata": {
    "colab_type": "code",
    "id": "WBbQ_QNsXvCb",
    "application/vnd.databricks.v1+cell": {
     "showTitle": false,
     "cellMetadata": {},
     "nuid": "1d9ce181-c22d-457d-8bfd-006d74820bdd",
     "inputWidgets": {},
     "title": ""
    },
    "colab": {},
    "outputId": "b1e05731-4bff-410d-8c6f-d1637fd0f0a7"
   },
   "outputs": [
    {
     "output_type": "display_data",
     "metadata": {
      "application/vnd.databricks.v1+output": {
       "datasetInfos": [],
       "data": "+--------------------+------+--------------------+--------+------+------------+-------------------+\n|                host|method|            endpoint|protocol|status|content_size|               time|\n+--------------------+------+--------------------+--------+------+------------+-------------------+\n|   in24.inetnebr.com|   GET|/shuttle/missions...|HTTP/1.0|   200|        1839|1995-08-01 00:00:01|\n|     uplherc.upl.com|   GET|                   /|HTTP/1.0|   304|           0|1995-08-01 00:00:07|\n|     uplherc.upl.com|   GET|/images/ksclogo-m...|HTTP/1.0|   304|           0|1995-08-01 00:00:08|\n|     uplherc.upl.com|   GET|/images/MOSAIC-lo...|HTTP/1.0|   304|           0|1995-08-01 00:00:08|\n|     uplherc.upl.com|   GET|/images/USA-logos...|HTTP/1.0|   304|           0|1995-08-01 00:00:08|\n|ix-esc-ca2-07.ix....|   GET|/images/launch-lo...|HTTP/1.0|   200|        1713|1995-08-01 00:00:09|\n|     uplherc.upl.com|   GET|/images/WORLD-log...|HTTP/1.0|   304|           0|1995-08-01 00:00:10|\n|slppp6.intermind.net|   GET|/history/skylab/s...|HTTP/1.0|   200|        1687|1995-08-01 00:00:10|\n|piweba4y.prodigy.com|   GET|/images/launchmed...|HTTP/1.0|   200|       11853|1995-08-01 00:00:10|\n|slppp6.intermind.net|   GET|/history/skylab/s...|HTTP/1.0|   200|        9202|1995-08-01 00:00:11|\n+--------------------+------+--------------------+--------+------+------------+-------------------+\nonly showing top 10 rows\n\n",
       "removedWidgets": [],
       "addedWidgets": {},
       "metadata": {},
       "type": "ansi",
       "arguments": {}
      }
     },
     "data": {
      "text/plain": [
       "+--------------------+------+--------------------+--------+------+------------+-------------------+\n|                host|method|            endpoint|protocol|status|content_size|               time|\n+--------------------+------+--------------------+--------+------+------------+-------------------+\n|   in24.inetnebr.com|   GET|/shuttle/missions...|HTTP/1.0|   200|        1839|1995-08-01 00:00:01|\n|     uplherc.upl.com|   GET|                   /|HTTP/1.0|   304|           0|1995-08-01 00:00:07|\n|     uplherc.upl.com|   GET|/images/ksclogo-m...|HTTP/1.0|   304|           0|1995-08-01 00:00:08|\n|     uplherc.upl.com|   GET|/images/MOSAIC-lo...|HTTP/1.0|   304|           0|1995-08-01 00:00:08|\n|     uplherc.upl.com|   GET|/images/USA-logos...|HTTP/1.0|   304|           0|1995-08-01 00:00:08|\n|ix-esc-ca2-07.ix....|   GET|/images/launch-lo...|HTTP/1.0|   200|        1713|1995-08-01 00:00:09|\n|     uplherc.upl.com|   GET|/images/WORLD-log...|HTTP/1.0|   304|           0|1995-08-01 00:00:10|\n|slppp6.intermind.net|   GET|/history/skylab/s...|HTTP/1.0|   200|        1687|1995-08-01 00:00:10|\n|piweba4y.prodigy.com|   GET|/images/launchmed...|HTTP/1.0|   200|       11853|1995-08-01 00:00:10|\n|slppp6.intermind.net|   GET|/history/skylab/s...|HTTP/1.0|   200|        9202|1995-08-01 00:00:11|\n+--------------------+------+--------------------+--------+------+------------+-------------------+\nonly showing top 10 rows\n\n"
      ]
     }
    }
   ],
   "execution_count": 0
  },
  {
   "cell_type": "code",
   "source": [
    "logs_df.printSchema()"
   ],
   "metadata": {
    "colab_type": "code",
    "id": "9Yy-eIDtXvCi",
    "application/vnd.databricks.v1+cell": {
     "showTitle": false,
     "cellMetadata": {},
     "nuid": "ff10ce7e-c04e-4d7d-875d-d793dfb4b4b9",
     "inputWidgets": {},
     "title": ""
    },
    "colab": {},
    "outputId": "913a1185-f22d-4ac9-856b-d31db17eca28"
   },
   "outputs": [
    {
     "output_type": "display_data",
     "metadata": {
      "application/vnd.databricks.v1+output": {
       "datasetInfos": [],
       "data": "root\n |-- host: string (nullable = true)\n |-- method: string (nullable = true)\n |-- endpoint: string (nullable = true)\n |-- protocol: string (nullable = true)\n |-- status: string (nullable = true)\n |-- content_size: string (nullable = false)\n |-- time: timestamp (nullable = true)\n\n",
       "removedWidgets": [],
       "addedWidgets": {},
       "metadata": {},
       "type": "ansi",
       "arguments": {}
      }
     },
     "data": {
      "text/plain": [
       "root\n |-- host: string (nullable = true)\n |-- method: string (nullable = true)\n |-- endpoint: string (nullable = true)\n |-- protocol: string (nullable = true)\n |-- status: string (nullable = true)\n |-- content_size: string (nullable = false)\n |-- time: timestamp (nullable = true)\n\n"
      ]
     }
    }
   ],
   "execution_count": 0
  },
  {
   "cell_type": "code",
   "source": [
    "logs_df.limit(5).toPandas()"
   ],
   "metadata": {
    "colab_type": "code",
    "id": "wfMB_2JvXvCk",
    "application/vnd.databricks.v1+cell": {
     "showTitle": false,
     "cellMetadata": {},
     "nuid": "79b2734c-9cfc-4ec9-99f0-30f16373eeb4",
     "inputWidgets": {},
     "title": ""
    },
    "colab": {},
    "outputId": "dfb9673b-af0c-4232-d28f-674fa1662ac0"
   },
   "outputs": [
    {
     "output_type": "display_data",
     "metadata": {
      "application/vnd.databricks.v1+output": {
       "datasetInfos": [],
       "data": "<div>\n<style scoped>\n    .dataframe tbody tr th:only-of-type {\n        vertical-align: middle;\n    }\n\n    .dataframe tbody tr th {\n        vertical-align: top;\n    }\n\n    .dataframe thead th {\n        text-align: right;\n    }\n</style>\n<table border=\"1\" class=\"dataframe\">\n  <thead>\n    <tr style=\"text-align: right;\">\n      <th></th>\n      <th>host</th>\n      <th>method</th>\n      <th>endpoint</th>\n      <th>protocol</th>\n      <th>status</th>\n      <th>content_size</th>\n      <th>time</th>\n    </tr>\n  </thead>\n  <tbody>\n    <tr>\n      <th>0</th>\n      <td>in24.inetnebr.com</td>\n      <td>GET</td>\n      <td>/shuttle/missions/sts-68/news/sts-68-mcc-05.txt</td>\n      <td>HTTP/1.0</td>\n      <td>200</td>\n      <td>1839</td>\n      <td>1995-08-01 00:00:01</td>\n    </tr>\n    <tr>\n      <th>1</th>\n      <td>uplherc.upl.com</td>\n      <td>GET</td>\n      <td>/</td>\n      <td>HTTP/1.0</td>\n      <td>304</td>\n      <td>0</td>\n      <td>1995-08-01 00:00:07</td>\n    </tr>\n    <tr>\n      <th>2</th>\n      <td>uplherc.upl.com</td>\n      <td>GET</td>\n      <td>/images/ksclogo-medium.gif</td>\n      <td>HTTP/1.0</td>\n      <td>304</td>\n      <td>0</td>\n      <td>1995-08-01 00:00:08</td>\n    </tr>\n    <tr>\n      <th>3</th>\n      <td>uplherc.upl.com</td>\n      <td>GET</td>\n      <td>/images/MOSAIC-logosmall.gif</td>\n      <td>HTTP/1.0</td>\n      <td>304</td>\n      <td>0</td>\n      <td>1995-08-01 00:00:08</td>\n    </tr>\n    <tr>\n      <th>4</th>\n      <td>uplherc.upl.com</td>\n      <td>GET</td>\n      <td>/images/USA-logosmall.gif</td>\n      <td>HTTP/1.0</td>\n      <td>304</td>\n      <td>0</td>\n      <td>1995-08-01 00:00:08</td>\n    </tr>\n  </tbody>\n</table>\n</div>",
       "textData": null,
       "removedWidgets": [],
       "addedWidgets": {},
       "metadata": {},
       "type": "htmlSandbox",
       "arguments": {}
      }
     },
     "data": {
      "text/html": [
       "<div>\n<style scoped>\n    .dataframe tbody tr th:only-of-type {\n        vertical-align: middle;\n    }\n\n    .dataframe tbody tr th {\n        vertical-align: top;\n    }\n\n    .dataframe thead th {\n        text-align: right;\n    }\n</style>\n<table border=\"1\" class=\"dataframe\">\n  <thead>\n    <tr style=\"text-align: right;\">\n      <th></th>\n      <th>host</th>\n      <th>method</th>\n      <th>endpoint</th>\n      <th>protocol</th>\n      <th>status</th>\n      <th>content_size</th>\n      <th>time</th>\n    </tr>\n  </thead>\n  <tbody>\n    <tr>\n      <th>0</th>\n      <td>in24.inetnebr.com</td>\n      <td>GET</td>\n      <td>/shuttle/missions/sts-68/news/sts-68-mcc-05.txt</td>\n      <td>HTTP/1.0</td>\n      <td>200</td>\n      <td>1839</td>\n      <td>1995-08-01 00:00:01</td>\n    </tr>\n    <tr>\n      <th>1</th>\n      <td>uplherc.upl.com</td>\n      <td>GET</td>\n      <td>/</td>\n      <td>HTTP/1.0</td>\n      <td>304</td>\n      <td>0</td>\n      <td>1995-08-01 00:00:07</td>\n    </tr>\n    <tr>\n      <th>2</th>\n      <td>uplherc.upl.com</td>\n      <td>GET</td>\n      <td>/images/ksclogo-medium.gif</td>\n      <td>HTTP/1.0</td>\n      <td>304</td>\n      <td>0</td>\n      <td>1995-08-01 00:00:08</td>\n    </tr>\n    <tr>\n      <th>3</th>\n      <td>uplherc.upl.com</td>\n      <td>GET</td>\n      <td>/images/MOSAIC-logosmall.gif</td>\n      <td>HTTP/1.0</td>\n      <td>304</td>\n      <td>0</td>\n      <td>1995-08-01 00:00:08</td>\n    </tr>\n    <tr>\n      <th>4</th>\n      <td>uplherc.upl.com</td>\n      <td>GET</td>\n      <td>/images/USA-logosmall.gif</td>\n      <td>HTTP/1.0</td>\n      <td>304</td>\n      <td>0</td>\n      <td>1995-08-01 00:00:08</td>\n    </tr>\n  </tbody>\n</table>\n</div>"
      ]
     }
    }
   ],
   "execution_count": 0
  },
  {
   "cell_type": "markdown",
   "source": [
    "Let's now cache `logs_df` since we will be using it extensively for our data analysis section in the next part!"
   ],
   "metadata": {
    "colab_type": "text",
    "id": "cn3ghlDsXvCp",
    "application/vnd.databricks.v1+cell": {
     "showTitle": false,
     "cellMetadata": {},
     "nuid": "eb2cb62c-3883-4212-b08a-52161cd79084",
     "inputWidgets": {},
     "title": ""
    }
   }
  },
  {
   "cell_type": "markdown",
   "source": [
    "# Step 2 - Exploratory Data Analysis on our Web Logs\n",
    "\n",
    "Now that we have a DataFrame containing the parsed log file as a data frame, we can perform some interesting exploratory data analysis (EDA)\n",
    "\n",
    "## Example: Content Size Statistics\n",
    "\n",
    "Let's compute some statistics about the sizes of content being returned by the web server. In particular, we'd like to know what are the average, minimum, and maximum content sizes.\n",
    "\n",
    "We can compute the statistics by calling `.describe()` on the `content_size` column of `logs_df`.  The `.describe()` function returns the count, mean, stddev, min, and max of a given column."
   ],
   "metadata": {
    "colab_type": "text",
    "id": "1WTHkvANXvCq",
    "application/vnd.databricks.v1+cell": {
     "showTitle": false,
     "cellMetadata": {},
     "nuid": "81a2f058-6350-4495-9731-58beacaa2daa",
     "inputWidgets": {},
     "title": ""
    }
   }
  },
  {
   "cell_type": "code",
   "source": [
    "content_size_summary_df = logs_df.describe(['content_size'])\n",
    "content_size_summary_df.toPandas()"
   ],
   "metadata": {
    "colab_type": "code",
    "id": "FHkVy3ZXXvCr",
    "application/vnd.databricks.v1+cell": {
     "showTitle": false,
     "cellMetadata": {},
     "nuid": "88a7910d-5ebe-4e27-88cb-b36771a09d50",
     "inputWidgets": {},
     "title": ""
    },
    "colab": {},
    "outputId": "cd083d90-c450-4d64-9d56-c8e1f5dd1eed"
   },
   "outputs": [
    {
     "output_type": "display_data",
     "metadata": {
      "application/vnd.databricks.v1+output": {
       "datasetInfos": [],
       "data": "<div>\n<style scoped>\n    .dataframe tbody tr th:only-of-type {\n        vertical-align: middle;\n    }\n\n    .dataframe tbody tr th {\n        vertical-align: top;\n    }\n\n    .dataframe thead th {\n        text-align: right;\n    }\n</style>\n<table border=\"1\" class=\"dataframe\">\n  <thead>\n    <tr style=\"text-align: right;\">\n      <th></th>\n      <th>summary</th>\n      <th>content_size</th>\n    </tr>\n  </thead>\n  <tbody>\n    <tr>\n      <th>0</th>\n      <td>count</td>\n      <td>3461613</td>\n    </tr>\n    <tr>\n      <th>1</th>\n      <td>mean</td>\n      <td>19116.072581153352</td>\n    </tr>\n    <tr>\n      <th>2</th>\n      <td>stddev</td>\n      <td>73367.37951430604</td>\n    </tr>\n    <tr>\n      <th>3</th>\n      <td>min</td>\n      <td></td>\n    </tr>\n    <tr>\n      <th>4</th>\n      <td>max</td>\n      <td>99981</td>\n    </tr>\n  </tbody>\n</table>\n</div>",
       "textData": null,
       "removedWidgets": [],
       "addedWidgets": {},
       "metadata": {},
       "type": "htmlSandbox",
       "arguments": {}
      }
     },
     "data": {
      "text/html": [
       "<div>\n<style scoped>\n    .dataframe tbody tr th:only-of-type {\n        vertical-align: middle;\n    }\n\n    .dataframe tbody tr th {\n        vertical-align: top;\n    }\n\n    .dataframe thead th {\n        text-align: right;\n    }\n</style>\n<table border=\"1\" class=\"dataframe\">\n  <thead>\n    <tr style=\"text-align: right;\">\n      <th></th>\n      <th>summary</th>\n      <th>content_size</th>\n    </tr>\n  </thead>\n  <tbody>\n    <tr>\n      <th>0</th>\n      <td>count</td>\n      <td>3461613</td>\n    </tr>\n    <tr>\n      <th>1</th>\n      <td>mean</td>\n      <td>19116.072581153352</td>\n    </tr>\n    <tr>\n      <th>2</th>\n      <td>stddev</td>\n      <td>73367.37951430604</td>\n    </tr>\n    <tr>\n      <th>3</th>\n      <td>min</td>\n      <td></td>\n    </tr>\n    <tr>\n      <th>4</th>\n      <td>max</td>\n      <td>99981</td>\n    </tr>\n  </tbody>\n</table>\n</div>"
      ]
     }
    }
   ],
   "execution_count": 0
  },
  {
   "cell_type": "markdown",
   "source": [
    "Alternatively, we can use SQL to directly calculate these statistics.  You can explore many useful functions within the `pyspark.sql.functions` module in the [documentation](https://spark.apache.org/docs/latest/api/python/pyspark.sql.html#module-pyspark.sql.functions).\n",
    "\n",
    "After we apply the `.agg()` function, we call `toPandas()` to extract and convert the result into a `pandas` dataframe which has better formatting on Jupyter notebooks"
   ],
   "metadata": {
    "colab_type": "text",
    "id": "fY1S9FPAXvCv",
    "application/vnd.databricks.v1+cell": {
     "showTitle": false,
     "cellMetadata": {},
     "nuid": "eeba9a59-5ff0-4d7d-b635-a6bcd94a3181",
     "inputWidgets": {},
     "title": ""
    }
   }
  },
  {
   "cell_type": "code",
   "source": [
    "from pyspark.sql import functions as F\n",
    "\n",
    "(logs_df.agg(F.min(logs_df['content_size']).alias('min_content_size'),\n",
    "             F.max(logs_df['content_size']).alias('max_content_size'),\n",
    "             F.mean(logs_df['content_size']).alias('mean_content_size'),\n",
    "             F.stddev(logs_df['content_size']).alias('std_content_size'),\n",
    "             F.count(logs_df['content_size']).alias('count_content_size'))\n",
    "        .toPandas())"
   ],
   "metadata": {
    "colab_type": "code",
    "id": "nonAax8AXvCx",
    "application/vnd.databricks.v1+cell": {
     "showTitle": false,
     "cellMetadata": {},
     "nuid": "1ade5ffa-177a-4ee5-aaa6-4ddcd1936e30",
     "inputWidgets": {},
     "title": ""
    },
    "colab": {},
    "outputId": "1a9a01ac-35f3-44ab-f105-5759f8f79b9a"
   },
   "outputs": [
    {
     "output_type": "display_data",
     "metadata": {
      "application/vnd.databricks.v1+output": {
       "datasetInfos": [],
       "data": "<div>\n<style scoped>\n    .dataframe tbody tr th:only-of-type {\n        vertical-align: middle;\n    }\n\n    .dataframe tbody tr th {\n        vertical-align: top;\n    }\n\n    .dataframe thead th {\n        text-align: right;\n    }\n</style>\n<table border=\"1\" class=\"dataframe\">\n  <thead>\n    <tr style=\"text-align: right;\">\n      <th></th>\n      <th>min_content_size</th>\n      <th>max_content_size</th>\n      <th>mean_content_size</th>\n      <th>std_content_size</th>\n      <th>count_content_size</th>\n    </tr>\n  </thead>\n  <tbody>\n    <tr>\n      <th>0</th>\n      <td></td>\n      <td>99981</td>\n      <td>19116.072581</td>\n      <td>73367.379514</td>\n      <td>3461613</td>\n    </tr>\n  </tbody>\n</table>\n</div>",
       "textData": null,
       "removedWidgets": [],
       "addedWidgets": {},
       "metadata": {},
       "type": "htmlSandbox",
       "arguments": {}
      }
     },
     "data": {
      "text/html": [
       "<div>\n<style scoped>\n    .dataframe tbody tr th:only-of-type {\n        vertical-align: middle;\n    }\n\n    .dataframe tbody tr th {\n        vertical-align: top;\n    }\n\n    .dataframe thead th {\n        text-align: right;\n    }\n</style>\n<table border=\"1\" class=\"dataframe\">\n  <thead>\n    <tr style=\"text-align: right;\">\n      <th></th>\n      <th>min_content_size</th>\n      <th>max_content_size</th>\n      <th>mean_content_size</th>\n      <th>std_content_size</th>\n      <th>count_content_size</th>\n    </tr>\n  </thead>\n  <tbody>\n    <tr>\n      <th>0</th>\n      <td></td>\n      <td>99981</td>\n      <td>19116.072581</td>\n      <td>73367.379514</td>\n      <td>3461613</td>\n    </tr>\n  </tbody>\n</table>\n</div>"
      ]
     }
    }
   ],
   "execution_count": 0
  },
  {
   "cell_type": "markdown",
   "source": [
    "## Example: HTTP Status Code Analysis\n",
    "\n",
    "Next, let's look at the status code values that appear in the log. We want to know which status code values appear in the data and how many times.  \n",
    "\n",
    "We again start with `logs_df`, then group by the `status` column, apply the `.count()` aggregation function, and sort by the `status` column."
   ],
   "metadata": {
    "colab_type": "text",
    "id": "8hat3HPwXvC0",
    "application/vnd.databricks.v1+cell": {
     "showTitle": false,
     "cellMetadata": {},
     "nuid": "8fcafc46-9f47-476b-8e56-52804423137f",
     "inputWidgets": {},
     "title": ""
    }
   }
  },
  {
   "cell_type": "code",
   "source": [
    "status_freq_df = (logs_df\n",
    "                     .groupBy('status')\n",
    "                     .count()\n",
    "                     .sort('status')\n",
    "                     .cache())"
   ],
   "metadata": {
    "colab_type": "code",
    "collapsed": true,
    "id": "jL-vEt0FXvC1",
    "application/vnd.databricks.v1+cell": {
     "showTitle": false,
     "cellMetadata": {},
     "nuid": "2456cbd7-3e79-4f31-a9f5-7c4bb3074d77",
     "inputWidgets": {},
     "title": ""
    },
    "colab": {},
    "outputId": "8ee8079f-8b03-4e70-8335-cbd7b2d0b1bc"
   },
   "outputs": [],
   "execution_count": 0
  },
  {
   "cell_type": "code",
   "source": [
    "print('Total distinct HTTP Status Codes:', status_freq_df.count())"
   ],
   "metadata": {
    "colab_type": "code",
    "id": "a0iPsCW2XvC3",
    "application/vnd.databricks.v1+cell": {
     "showTitle": false,
     "cellMetadata": {},
     "nuid": "5bc8eba9-54f2-43e4-96e5-dfd9b53d7986",
     "inputWidgets": {},
     "title": ""
    },
    "colab": {},
    "outputId": "64fbd3f8-cf08-4ca3-de33-32349d3d6597"
   },
   "outputs": [
    {
     "output_type": "display_data",
     "metadata": {
      "application/vnd.databricks.v1+output": {
       "datasetInfos": [],
       "data": "Total distinct HTTP Status Codes: 9\n",
       "removedWidgets": [],
       "addedWidgets": {},
       "metadata": {},
       "type": "ansi",
       "arguments": {}
      }
     },
     "data": {
      "text/plain": [
       "Total distinct HTTP Status Codes: 9\n"
      ]
     }
    }
   ],
   "execution_count": 0
  },
  {
   "cell_type": "code",
   "source": [
    "status_freq_pd_df = status_freq_df.toPandas()\n",
    "status_freq_pd_df"
   ],
   "metadata": {
    "colab_type": "code",
    "id": "SZO7ncjdXvC6",
    "application/vnd.databricks.v1+cell": {
     "showTitle": false,
     "cellMetadata": {},
     "nuid": "f1adf26f-de7e-47b5-b2cf-ebc24b4a1c60",
     "inputWidgets": {},
     "title": ""
    },
    "colab": {},
    "outputId": "0344aef8-367b-476b-fc2c-e6c1346d3da9"
   },
   "outputs": [
    {
     "output_type": "display_data",
     "metadata": {
      "application/vnd.databricks.v1+output": {
       "datasetInfos": [],
       "data": "<div>\n<style scoped>\n    .dataframe tbody tr th:only-of-type {\n        vertical-align: middle;\n    }\n\n    .dataframe tbody tr th {\n        vertical-align: top;\n    }\n\n    .dataframe thead th {\n        text-align: right;\n    }\n</style>\n<table border=\"1\" class=\"dataframe\">\n  <thead>\n    <tr style=\"text-align: right;\">\n      <th></th>\n      <th>status</th>\n      <th>count</th>\n    </tr>\n  </thead>\n  <tbody>\n    <tr>\n      <th>0</th>\n      <td></td>\n      <td>1</td>\n    </tr>\n    <tr>\n      <th>1</th>\n      <td>200</td>\n      <td>3100524</td>\n    </tr>\n    <tr>\n      <th>2</th>\n      <td>302</td>\n      <td>73070</td>\n    </tr>\n    <tr>\n      <th>3</th>\n      <td>304</td>\n      <td>266773</td>\n    </tr>\n    <tr>\n      <th>4</th>\n      <td>400</td>\n      <td>15</td>\n    </tr>\n    <tr>\n      <th>5</th>\n      <td>403</td>\n      <td>225</td>\n    </tr>\n    <tr>\n      <th>6</th>\n      <td>404</td>\n      <td>20899</td>\n    </tr>\n    <tr>\n      <th>7</th>\n      <td>500</td>\n      <td>65</td>\n    </tr>\n    <tr>\n      <th>8</th>\n      <td>501</td>\n      <td>41</td>\n    </tr>\n  </tbody>\n</table>\n</div>",
       "textData": null,
       "removedWidgets": [],
       "addedWidgets": {},
       "metadata": {},
       "type": "htmlSandbox",
       "arguments": {}
      }
     },
     "data": {
      "text/html": [
       "<div>\n<style scoped>\n    .dataframe tbody tr th:only-of-type {\n        vertical-align: middle;\n    }\n\n    .dataframe tbody tr th {\n        vertical-align: top;\n    }\n\n    .dataframe thead th {\n        text-align: right;\n    }\n</style>\n<table border=\"1\" class=\"dataframe\">\n  <thead>\n    <tr style=\"text-align: right;\">\n      <th></th>\n      <th>status</th>\n      <th>count</th>\n    </tr>\n  </thead>\n  <tbody>\n    <tr>\n      <th>0</th>\n      <td></td>\n      <td>1</td>\n    </tr>\n    <tr>\n      <th>1</th>\n      <td>200</td>\n      <td>3100524</td>\n    </tr>\n    <tr>\n      <th>2</th>\n      <td>302</td>\n      <td>73070</td>\n    </tr>\n    <tr>\n      <th>3</th>\n      <td>304</td>\n      <td>266773</td>\n    </tr>\n    <tr>\n      <th>4</th>\n      <td>400</td>\n      <td>15</td>\n    </tr>\n    <tr>\n      <th>5</th>\n      <td>403</td>\n      <td>225</td>\n    </tr>\n    <tr>\n      <th>6</th>\n      <td>404</td>\n      <td>20899</td>\n    </tr>\n    <tr>\n      <th>7</th>\n      <td>500</td>\n      <td>65</td>\n    </tr>\n    <tr>\n      <th>8</th>\n      <td>501</td>\n      <td>41</td>\n    </tr>\n  </tbody>\n</table>\n</div>"
      ]
     }
    }
   ],
   "execution_count": 0
  },
  {
   "cell_type": "code",
   "source": [
    "import matplotlib.pyplot as plt\n",
    "%matplotlib inline\n",
    "\n",
    "status_freq_pd_df.plot(x='status', y='count', kind='bar')"
   ],
   "metadata": {
    "colab": {},
    "colab_type": "code",
    "id": "KXkKQA-WXvC8",
    "application/vnd.databricks.v1+cell": {
     "showTitle": false,
     "cellMetadata": {},
     "nuid": "83e0ea24-813b-40ae-a9de-65865f78eb7e",
     "inputWidgets": {},
     "title": ""
    }
   },
   "outputs": [
    {
     "output_type": "display_data",
     "metadata": {
      "application/vnd.databricks.v1+output": {
       "datasetInfos": [],
       "data": "Out[46]: <AxesSubplot:xlabel='status'>",
       "removedWidgets": [],
       "addedWidgets": {},
       "metadata": {},
       "type": "ansi",
       "arguments": {}
      }
     },
     "data": {
      "text/plain": [
       "Out[46]: <AxesSubplot:xlabel='status'>"
      ]
     }
    },
    {
     "output_type": "display_data",
     "metadata": {
      "application/vnd.databricks.v1+output": {
       "datasetInfos": [],
       "data": "data:image/png;base64,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\n",
       "removedWidgets": [],
       "addedWidgets": {},
       "metadata": {},
       "type": "image",
       "arguments": {}
      }
     },
     "data": {
      "image/png": "[encoded data removed]"
     }
    }
   ],
   "execution_count": 0
  },
  {
   "cell_type": "code",
   "source": [
    "log_freq_df = status_freq_df.withColumn('log(count)', F.log(status_freq_df['count']))\n",
    "log_freq_df.show()"
   ],
   "metadata": {
    "colab_type": "code",
    "id": "iabid8S6XvC_",
    "application/vnd.databricks.v1+cell": {
     "showTitle": false,
     "cellMetadata": {},
     "nuid": "3e33dac9-e00b-482a-9186-a06885827d82",
     "inputWidgets": {},
     "title": ""
    },
    "colab": {},
    "outputId": "31df7ac0-35f9-4f9e-f059-c4267865c9b6"
   },
   "outputs": [
    {
     "output_type": "display_data",
     "metadata": {
      "application/vnd.databricks.v1+output": {
       "datasetInfos": [],
       "data": "+------+-------+------------------+\n|status|  count|        log(count)|\n+------+-------+------------------+\n|      |      1|               0.0|\n|   200|3100524|14.947081687429097|\n|   302|  73070|11.199173164785263|\n|   304| 266773|12.494153388502301|\n|   400|     15|  2.70805020110221|\n|   403|    225|  5.41610040220442|\n|   404|  20899| 9.947456589918252|\n|   500|     65| 4.174387269895637|\n|   501|     41| 3.713572066704308|\n+------+-------+------------------+\n\n",
       "removedWidgets": [],
       "addedWidgets": {},
       "metadata": {},
       "type": "ansi",
       "arguments": {}
      }
     },
     "data": {
      "text/plain": [
       "+------+-------+------------------+\n|status|  count|        log(count)|\n+------+-------+------------------+\n|      |      1|               0.0|\n|   200|3100524|14.947081687429097|\n|   302|  73070|11.199173164785263|\n|   304| 266773|12.494153388502301|\n|   400|     15|  2.70805020110221|\n|   403|    225|  5.41610040220442|\n|   404|  20899| 9.947456589918252|\n|   500|     65| 4.174387269895637|\n|   501|     41| 3.713572066704308|\n+------+-------+------------------+\n\n"
      ]
     }
    }
   ],
   "execution_count": 0
  },
  {
   "cell_type": "markdown",
   "source": [
    "#### Q5: Your Turn: Convert the log\\_freq\\_df to a pandas DataFrame and plot a bar chart displaying counts of each HTTP Status Code"
   ],
   "metadata": {
    "colab_type": "text",
    "id": "CWcfTjlUXvDC",
    "application/vnd.databricks.v1+cell": {
     "showTitle": false,
     "cellMetadata": {},
     "nuid": "76e5b1d3-b3d6-4299-acce-47e95d41ba5e",
     "inputWidgets": {},
     "title": ""
    }
   }
  },
  {
   "cell_type": "code",
   "source": [
    "# TODO: Replace <FILL IN> with appropriate code\n",
    "log_freq_pd_df = log_freq_df.toPandas()\n",
    "log_freq_pd_df.plot(x='status', y='log(count)', kind='bar')"
   ],
   "metadata": {
    "colab": {},
    "colab_type": "code",
    "id": "RWWwF5NcXvDD",
    "application/vnd.databricks.v1+cell": {
     "showTitle": false,
     "cellMetadata": {},
     "nuid": "3d474df8-58d2-4b38-a426-142c8a674d0f",
     "inputWidgets": {},
     "title": ""
    }
   },
   "outputs": [
    {
     "output_type": "display_data",
     "metadata": {
      "application/vnd.databricks.v1+output": {
       "datasetInfos": [],
       "data": "Out[49]: <AxesSubplot:xlabel='status'>",
       "removedWidgets": [],
       "addedWidgets": {},
       "metadata": {},
       "type": "ansi",
       "arguments": {}
      }
     },
     "data": {
      "text/plain": [
       "Out[49]: <AxesSubplot:xlabel='status'>"
      ]
     }
    },
    {
     "output_type": "display_data",
     "metadata": {
      "application/vnd.databricks.v1+output": {
       "datasetInfos": [],
       "data": "data:image/png;base64,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\n",
       "removedWidgets": [],
       "addedWidgets": {},
       "metadata": {},
       "type": "image",
       "arguments": {}
      }
     },
     "data": {
      "image/png": "[encoded data removed]"
     }
    }
   ],
   "execution_count": 0
  },
  {
   "cell_type": "markdown",
   "source": [
    "## Your Turn: Q6: Analyzing Frequent Hosts\n",
    "\n",
    "Let's look at hosts that have accessed the server frequently. Try to get the count of total accesses by each `host` and then sort by the counts and display only the top ten most frequent hosts.\n",
    "\n",
    "__Hints:__\n",
    "\n",
    "- Your Spark DataFrame has a `host` column\n",
    "- Get the counts per `host` which would make a `count` column\n",
    "- Sort by the counts. Please check [__the documentation__](https://spark.apache.org/docs/latest/api/python/pyspark.sql.html#pyspark.sql.DataFrame.sort) to see how to sort in reverse\n",
    "- Remember only to get the top 10 rows from the aggregated dataframe and show them"
   ],
   "metadata": {
    "colab_type": "text",
    "id": "k5oXMLxSXvDH",
    "application/vnd.databricks.v1+cell": {
     "showTitle": false,
     "cellMetadata": {},
     "nuid": "ca63ddd9-bec1-483d-93b3-fe7b711bc694",
     "inputWidgets": {},
     "title": ""
    }
   }
  },
  {
   "cell_type": "code",
   "source": [
    "# TODO: Replace <FILL IN> with appropriate code\n",
    "\n",
    "host_sum_df =(logs_df\n",
    "                .groupBy('host')\n",
    "                .count()\n",
    "                .sort(col('count').desc())\n",
    "                .cache())\n",
    "\n",
    "host_sum_df.show(10, truncate=False)"
   ],
   "metadata": {
    "colab_type": "code",
    "id": "eBBayokUXvDM",
    "application/vnd.databricks.v1+cell": {
     "showTitle": false,
     "cellMetadata": {},
     "nuid": "3f9cf6d0-edd3-47da-8a1c-b4f06f839678",
     "inputWidgets": {},
     "title": ""
    },
    "colab": {},
    "outputId": "83a26ad7-21c2-4b15-b527-5de9ac5b8c5c"
   },
   "outputs": [
    {
     "output_type": "display_data",
     "metadata": {
      "application/vnd.databricks.v1+output": {
       "datasetInfos": [],
       "data": "+--------------------+-----+\n|host                |count|\n+--------------------+-----+\n|piweba3y.prodigy.com|21988|\n|piweba4y.prodigy.com|16437|\n|piweba1y.prodigy.com|12825|\n|edams.ksc.nasa.gov  |11964|\n|163.206.89.4        |9697 |\n|news.ti.com         |8161 |\n|www-d1.proxy.aol.com|8047 |\n|alyssa.prodigy.com  |8037 |\n|                    |7661 |\n|siltb10.orl.mmc.com |7573 |\n+--------------------+-----+\nonly showing top 10 rows\n\n",
       "removedWidgets": [],
       "addedWidgets": {},
       "metadata": {},
       "type": "ansi",
       "arguments": {}
      }
     },
     "data": {
      "text/plain": [
       "+--------------------+-----+\n|host                |count|\n+--------------------+-----+\n|piweba3y.prodigy.com|21988|\n|piweba4y.prodigy.com|16437|\n|piweba1y.prodigy.com|12825|\n|edams.ksc.nasa.gov  |11964|\n|163.206.89.4        |9697 |\n|news.ti.com         |8161 |\n|www-d1.proxy.aol.com|8047 |\n|alyssa.prodigy.com  |8037 |\n|                    |7661 |\n|siltb10.orl.mmc.com |7573 |\n+--------------------+-----+\nonly showing top 10 rows\n\n"
      ]
     }
    }
   ],
   "execution_count": 0
  },
  {
   "cell_type": "code",
   "source": [
    "host_sum_pd_df = host_sum_df.toPandas()\n",
    "host_sum_pd_df.iloc[8]['host']"
   ],
   "metadata": {
    "colab_type": "code",
    "id": "1dv8Ny3iXvDQ",
    "application/vnd.databricks.v1+cell": {
     "showTitle": false,
     "cellMetadata": {},
     "nuid": "7961a9ce-f080-43c9-9ff0-bc2f54e4efb9",
     "inputWidgets": {},
     "title": ""
    },
    "colab": {},
    "outputId": "ea532f95-2ff4-4e36-abc5-36297902d8e6"
   },
   "outputs": [
    {
     "output_type": "display_data",
     "metadata": {
      "application/vnd.databricks.v1+output": {
       "datasetInfos": [],
       "data": "Out[56]: ''",
       "removedWidgets": [],
       "addedWidgets": {},
       "metadata": {},
       "type": "ansi",
       "arguments": {}
      }
     },
     "data": {
      "text/plain": [
       "Out[56]: ''"
      ]
     }
    }
   ],
   "execution_count": 0
  },
  {
   "cell_type": "markdown",
   "source": [
    "Looks like we have some empty strings as one of the top host names! This teaches us a valuable lesson to not just check for nulls but also potentially empty strings when data wrangling."
   ],
   "metadata": {
    "colab_type": "text",
    "id": "qJNpJU2VXvDT",
    "application/vnd.databricks.v1+cell": {
     "showTitle": false,
     "cellMetadata": {},
     "nuid": "f85ce65d-3864-4b03-a057-c02136e8db74",
     "inputWidgets": {},
     "title": ""
    }
   }
  },
  {
   "cell_type": "markdown",
   "source": [
    "## Your Turn: Q7: Display the Top 20 Frequent EndPoints\n",
    "\n",
    "Now, let's visualize the number of hits to endpoints (URIs) in the log. To perform this task, start with our `logs_df` and group by the `endpoint` column, aggregate by count, and sort in descending order like the previous question. Also remember to show only the top 20 most frequently accessed endpoints"
   ],
   "metadata": {
    "colab_type": "text",
    "id": "Pq5jiBtIXvDU",
    "application/vnd.databricks.v1+cell": {
     "showTitle": false,
     "cellMetadata": {},
     "nuid": "991c81d5-592b-4e71-9bf0-89f766e45ff6",
     "inputWidgets": {},
     "title": ""
    }
   }
  },
  {
   "cell_type": "code",
   "source": [
    "# TODO: Replace <FILL IN> with appropriate code\n",
    "\n",
    "paths_df = (logs_df\n",
    "                .groupBy('endpoint')\n",
    "                .count()\n",
    "                .sort(col('count').desc())\n",
    "                .limit(20))"
   ],
   "metadata": {
    "colab_type": "code",
    "id": "oxZRXX-AXvDU",
    "application/vnd.databricks.v1+cell": {
     "showTitle": false,
     "cellMetadata": {},
     "nuid": "0f9c0ca7-af1c-4c1c-8d5e-27d263e22442",
     "inputWidgets": {},
     "title": ""
    },
    "colab": {},
    "outputId": "bae76bd6-6f67-478c-ea46-928f545cf4bc"
   },
   "outputs": [],
   "execution_count": 0
  },
  {
   "cell_type": "code",
   "source": [
    "paths_pd_df = paths_df.toPandas()\n",
    "paths_pd_df"
   ],
   "metadata": {
    "colab_type": "code",
    "id": "DwfjJG2jXvDX",
    "application/vnd.databricks.v1+cell": {
     "showTitle": false,
     "cellMetadata": {},
     "nuid": "8f3e6022-a623-4ea3-a73a-154055182f82",
     "inputWidgets": {},
     "title": ""
    },
    "colab": {},
    "outputId": "d44c9385-5a6b-4157-83bc-d4d6832cc6a6"
   },
   "outputs": [
    {
     "output_type": "display_data",
     "metadata": {
      "application/vnd.databricks.v1+output": {
       "datasetInfos": [],
       "data": "<div>\n<style scoped>\n    .dataframe tbody tr th:only-of-type {\n        vertical-align: middle;\n    }\n\n    .dataframe tbody tr th {\n        vertical-align: top;\n    }\n\n    .dataframe thead th {\n        text-align: right;\n    }\n</style>\n<table border=\"1\" class=\"dataframe\">\n  <thead>\n    <tr style=\"text-align: right;\">\n      <th></th>\n      <th>endpoint</th>\n      <th>count</th>\n    </tr>\n  </thead>\n  <tbody>\n    <tr>\n      <th>0</th>\n      <td>/images/NASA-logosmall.gif</td>\n      <td>208714</td>\n    </tr>\n    <tr>\n      <th>1</th>\n      <td>/images/KSC-logosmall.gif</td>\n      <td>164970</td>\n    </tr>\n    <tr>\n      <th>2</th>\n      <td>/images/MOSAIC-logosmall.gif</td>\n      <td>127908</td>\n    </tr>\n    <tr>\n      <th>3</th>\n      <td>/images/USA-logosmall.gif</td>\n      <td>127074</td>\n    </tr>\n    <tr>\n      <th>4</th>\n      <td>/images/WORLD-logosmall.gif</td>\n      <td>125925</td>\n    </tr>\n    <tr>\n      <th>5</th>\n      <td>/images/ksclogo-medium.gif</td>\n      <td>121572</td>\n    </tr>\n    <tr>\n      <th>6</th>\n      <td>/ksc.html</td>\n      <td>83909</td>\n    </tr>\n    <tr>\n      <th>7</th>\n      <td>/images/launch-logo.gif</td>\n      <td>76006</td>\n    </tr>\n    <tr>\n      <th>8</th>\n      <td>/history/apollo/images/apollo-logo1.gif</td>\n      <td>68896</td>\n    </tr>\n    <tr>\n      <th>9</th>\n      <td>/shuttle/countdown/</td>\n      <td>64736</td>\n    </tr>\n    <tr>\n      <th>10</th>\n      <td>/</td>\n      <td>63171</td>\n    </tr>\n    <tr>\n      <th>11</th>\n      <td>/images/ksclogosmall.gif</td>\n      <td>61393</td>\n    </tr>\n    <tr>\n      <th>12</th>\n      <td>/shuttle/missions/missions.html</td>\n      <td>47315</td>\n    </tr>\n    <tr>\n      <th>13</th>\n      <td>/images/launchmedium.gif</td>\n      <td>40687</td>\n    </tr>\n    <tr>\n      <th>14</th>\n      <td>/htbin/cdt_main.pl</td>\n      <td>39871</td>\n    </tr>\n    <tr>\n      <th>15</th>\n      <td>/shuttle/missions/sts-69/mission-sts-69.html</td>\n      <td>31574</td>\n    </tr>\n    <tr>\n      <th>16</th>\n      <td>/shuttle/countdown/liftoff.html</td>\n      <td>29865</td>\n    </tr>\n    <tr>\n      <th>17</th>\n      <td>/icons/menu.xbm</td>\n      <td>29190</td>\n    </tr>\n    <tr>\n      <th>18</th>\n      <td>/shuttle/missions/sts-69/sts-69-patch-small.gif</td>\n      <td>29118</td>\n    </tr>\n    <tr>\n      <th>19</th>\n      <td>/icons/blank.xbm</td>\n      <td>28852</td>\n    </tr>\n  </tbody>\n</table>\n</div>",
       "textData": null,
       "removedWidgets": [],
       "addedWidgets": {},
       "metadata": {},
       "type": "htmlSandbox",
       "arguments": {}
      }
     },
     "data": {
      "text/html": [
       "<div>\n<style scoped>\n    .dataframe tbody tr th:only-of-type {\n        vertical-align: middle;\n    }\n\n    .dataframe tbody tr th {\n        vertical-align: top;\n    }\n\n    .dataframe thead th {\n        text-align: right;\n    }\n</style>\n<table border=\"1\" class=\"dataframe\">\n  <thead>\n    <tr style=\"text-align: right;\">\n      <th></th>\n      <th>endpoint</th>\n      <th>count</th>\n    </tr>\n  </thead>\n  <tbody>\n    <tr>\n      <th>0</th>\n      <td>/images/NASA-logosmall.gif</td>\n      <td>208714</td>\n    </tr>\n    <tr>\n      <th>1</th>\n      <td>/images/KSC-logosmall.gif</td>\n      <td>164970</td>\n    </tr>\n    <tr>\n      <th>2</th>\n      <td>/images/MOSAIC-logosmall.gif</td>\n      <td>127908</td>\n    </tr>\n    <tr>\n      <th>3</th>\n      <td>/images/USA-logosmall.gif</td>\n      <td>127074</td>\n    </tr>\n    <tr>\n      <th>4</th>\n      <td>/images/WORLD-logosmall.gif</td>\n      <td>125925</td>\n    </tr>\n    <tr>\n      <th>5</th>\n      <td>/images/ksclogo-medium.gif</td>\n      <td>121572</td>\n    </tr>\n    <tr>\n      <th>6</th>\n      <td>/ksc.html</td>\n      <td>83909</td>\n    </tr>\n    <tr>\n      <th>7</th>\n      <td>/images/launch-logo.gif</td>\n      <td>76006</td>\n    </tr>\n    <tr>\n      <th>8</th>\n      <td>/history/apollo/images/apollo-logo1.gif</td>\n      <td>68896</td>\n    </tr>\n    <tr>\n      <th>9</th>\n      <td>/shuttle/countdown/</td>\n      <td>64736</td>\n    </tr>\n    <tr>\n      <th>10</th>\n      <td>/</td>\n      <td>63171</td>\n    </tr>\n    <tr>\n      <th>11</th>\n      <td>/images/ksclogosmall.gif</td>\n      <td>61393</td>\n    </tr>\n    <tr>\n      <th>12</th>\n      <td>/shuttle/missions/missions.html</td>\n      <td>47315</td>\n    </tr>\n    <tr>\n      <th>13</th>\n      <td>/images/launchmedium.gif</td>\n      <td>40687</td>\n    </tr>\n    <tr>\n      <th>14</th>\n      <td>/htbin/cdt_main.pl</td>\n      <td>39871</td>\n    </tr>\n    <tr>\n      <th>15</th>\n      <td>/shuttle/missions/sts-69/mission-sts-69.html</td>\n      <td>31574</td>\n    </tr>\n    <tr>\n      <th>16</th>\n      <td>/shuttle/countdown/liftoff.html</td>\n      <td>29865</td>\n    </tr>\n    <tr>\n      <th>17</th>\n      <td>/icons/menu.xbm</td>\n      <td>29190</td>\n    </tr>\n    <tr>\n      <th>18</th>\n      <td>/shuttle/missions/sts-69/sts-69-patch-small.gif</td>\n      <td>29118</td>\n    </tr>\n    <tr>\n      <th>19</th>\n      <td>/icons/blank.xbm</td>\n      <td>28852</td>\n    </tr>\n  </tbody>\n</table>\n</div>"
      ]
     }
    }
   ],
   "execution_count": 0
  },
  {
   "cell_type": "markdown",
   "source": [
    "## Your Turn: Q8: Top Ten Error Endpoints\n",
    "\n",
    "What are the top ten endpoints requested which did not have return code 200 (HTTP Status OK)? \n",
    "\n",
    "Create a sorted list containing the endpoints and the number of times that they were accessed with a non-200 return code and show the top ten.\n",
    "\n",
    "Think about the steps that you need to perform to determine which endpoints did not have a 200 return code (combination of filtering, grouping, sorting and selecting the top ten aggregated records)"
   ],
   "metadata": {
    "colab_type": "text",
    "id": "LrK4j5aIXvDb",
    "application/vnd.databricks.v1+cell": {
     "showTitle": false,
     "cellMetadata": {},
     "nuid": "3ea4948f-c018-422b-aace-27928ec03e95",
     "inputWidgets": {},
     "title": ""
    }
   }
  },
  {
   "cell_type": "code",
   "source": [
    "# TODO: Replace <FILL IN> with appropriate code\n",
    "\n",
    "not200_df = (logs_df.filter('status<>200'))\n",
    "\n",
    "error_endpoints_freq_df = (not200_df\n",
    "                               .groupBy('endpoint')\n",
    "                               .count()\n",
    "                               .sort(col('count').desc())\n",
    "                               .limit(10)\n",
    "                               .cache()\n",
    "                          )\n",
    "\n",
    "error_endpoints_freq_df.show()"
   ],
   "metadata": {
    "colab_type": "code",
    "id": "s57_3ODMXvDc",
    "application/vnd.databricks.v1+cell": {
     "showTitle": false,
     "cellMetadata": {},
     "nuid": "fd2327ee-d564-4a82-a706-29a110edde2f",
     "inputWidgets": {},
     "title": ""
    },
    "colab": {},
    "outputId": "d25e0c40-eaff-459a-9fd4-40666e226d28"
   },
   "outputs": [
    {
     "output_type": "display_data",
     "metadata": {
      "application/vnd.databricks.v1+output": {
       "datasetInfos": [],
       "data": "+--------------------+-----+\n|            endpoint|count|\n+--------------------+-----+\n|/images/NASA-logo...|40082|\n|/images/KSC-logos...|23763|\n|/images/MOSAIC-lo...|15245|\n|/images/USA-logos...|15142|\n|/images/WORLD-log...|14773|\n|/images/ksclogo-m...|13559|\n|/images/launch-lo...| 8806|\n|/history/apollo/i...| 7489|\n|                   /| 6296|\n|/images/ksclogosm...| 5669|\n+--------------------+-----+\n\n",
       "removedWidgets": [],
       "addedWidgets": {},
       "metadata": {},
       "type": "ansi",
       "arguments": {}
      }
     },
     "data": {
      "text/plain": [
       "+--------------------+-----+\n|            endpoint|count|\n+--------------------+-----+\n|/images/NASA-logo...|40082|\n|/images/KSC-logos...|23763|\n|/images/MOSAIC-lo...|15245|\n|/images/USA-logos...|15142|\n|/images/WORLD-log...|14773|\n|/images/ksclogo-m...|13559|\n|/images/launch-lo...| 8806|\n|/history/apollo/i...| 7489|\n|                   /| 6296|\n|/images/ksclogosm...| 5669|\n+--------------------+-----+\n\n"
      ]
     }
    }
   ],
   "execution_count": 0
  },
  {
   "cell_type": "code",
   "source": [
    "error_endpoints_freq_df.show(truncate=False)"
   ],
   "metadata": {
    "colab_type": "code",
    "id": "GeAUAEMBXvDh",
    "application/vnd.databricks.v1+cell": {
     "showTitle": false,
     "cellMetadata": {},
     "nuid": "26ad081e-8054-445d-bc12-29df6139ff7a",
     "inputWidgets": {},
     "title": ""
    },
    "colab": {},
    "outputId": "a5bc7840-a464-47ae-f014-9e3108c2b306"
   },
   "outputs": [
    {
     "output_type": "display_data",
     "metadata": {
      "application/vnd.databricks.v1+output": {
       "datasetInfos": [],
       "data": "+---------------------------------------+-----+\n|endpoint                               |count|\n+---------------------------------------+-----+\n|/images/NASA-logosmall.gif             |40082|\n|/images/KSC-logosmall.gif              |23763|\n|/images/MOSAIC-logosmall.gif           |15245|\n|/images/USA-logosmall.gif              |15142|\n|/images/WORLD-logosmall.gif            |14773|\n|/images/ksclogo-medium.gif             |13559|\n|/images/launch-logo.gif                |8806 |\n|/history/apollo/images/apollo-logo1.gif|7489 |\n|/                                      |6296 |\n|/images/ksclogosmall.gif               |5669 |\n+---------------------------------------+-----+\n\n",
       "removedWidgets": [],
       "addedWidgets": {},
       "metadata": {},
       "type": "ansi",
       "arguments": {}
      }
     },
     "data": {
      "text/plain": [
       "+---------------------------------------+-----+\n|endpoint                               |count|\n+---------------------------------------+-----+\n|/images/NASA-logosmall.gif             |40082|\n|/images/KSC-logosmall.gif              |23763|\n|/images/MOSAIC-logosmall.gif           |15245|\n|/images/USA-logosmall.gif              |15142|\n|/images/WORLD-logosmall.gif            |14773|\n|/images/ksclogo-medium.gif             |13559|\n|/images/launch-logo.gif                |8806 |\n|/history/apollo/images/apollo-logo1.gif|7489 |\n|/                                      |6296 |\n|/images/ksclogosmall.gif               |5669 |\n+---------------------------------------+-----+\n\n"
      ]
     }
    }
   ],
   "execution_count": 0
  },
  {
   "cell_type": "markdown",
   "source": [
    "## Example: Number of Unique Daily Hosts\n",
    "\n",
    "For an advanced example, let's look at a way to determine the number of unique hosts in the entire log on a day-by-day basis. This computation will give us counts of the number of unique daily hosts. \n",
    "\n",
    "We'd like a DataFrame sorted by increasing day of the month which includes the day of the month and the associated number of unique hosts for that day. \n",
    "\n",
    "Think about the steps that you need to perform to count the number of different hosts that make requests *each* day.\n",
    "*Since the log only covers a single month, you can ignore the month.*  You may want to use the [`dayofmonth` function](https://spark.apache.org/docs/latest/api/python/pyspark.sql.html#pyspark.sql.functions.dayofmonth) in the `pyspark.sql.functions` module (which we have already imported as __`F`__.\n",
    "\n",
    "\n",
    "**`host_day_df`**\n",
    "\n",
    "A DataFrame with two columns\n",
    "\n",
    "| column | explanation          |\n",
    "| ------ | -------------------- |\n",
    "| `host` | the host name        |\n",
    "| `day`  | the day of the month |\n",
    "\n",
    "There will be one row in this DataFrame for each row in `logs_df`. Essentially, we are just transforming each row of `logs_df`. For example, for this row in `logs_df`:\n",
    "\n",
    "```\n",
    "unicomp6.unicomp.net - - [01/Aug/1995:00:35:41 -0400] \"GET /shuttle/missions/sts-73/news HTTP/1.0\" 302 -\n",
    "```\n",
    "\n",
    "your `host_day_df` should have:\n",
    "\n",
    "```\n",
    "unicomp6.unicomp.net 1\n",
    "```"
   ],
   "metadata": {
    "colab_type": "text",
    "id": "ij1wJnMwXvDm",
    "application/vnd.databricks.v1+cell": {
     "showTitle": false,
     "cellMetadata": {},
     "nuid": "2b779911-ce09-415e-93b5-419b76cc02c3",
     "inputWidgets": {},
     "title": ""
    }
   }
  },
  {
   "cell_type": "code",
   "source": [
    "host_day_df = logs_df.select(logs_df.host, \n",
    "                             F.dayofmonth('time').alias('day'))\n",
    "host_day_df.show(5, truncate=False)"
   ],
   "metadata": {
    "colab_type": "code",
    "id": "c0i7-gm9XvDm",
    "application/vnd.databricks.v1+cell": {
     "showTitle": false,
     "cellMetadata": {},
     "nuid": "50f6f565-eea4-45a0-8566-6f11fc10ef4b",
     "inputWidgets": {},
     "title": ""
    },
    "colab": {},
    "outputId": "ef93f5a2-e15d-4631-cbb7-e390dd0c28f0"
   },
   "outputs": [
    {
     "output_type": "display_data",
     "metadata": {
      "application/vnd.databricks.v1+output": {
       "datasetInfos": [],
       "data": "+-----------------+---+\n|host             |day|\n+-----------------+---+\n|in24.inetnebr.com|1  |\n|uplherc.upl.com  |1  |\n|uplherc.upl.com  |1  |\n|uplherc.upl.com  |1  |\n|uplherc.upl.com  |1  |\n+-----------------+---+\nonly showing top 5 rows\n\n",
       "removedWidgets": [],
       "addedWidgets": {},
       "metadata": {},
       "type": "ansi",
       "arguments": {}
      }
     },
     "data": {
      "text/plain": [
       "+-----------------+---+\n|host             |day|\n+-----------------+---+\n|in24.inetnebr.com|1  |\n|uplherc.upl.com  |1  |\n|uplherc.upl.com  |1  |\n|uplherc.upl.com  |1  |\n|uplherc.upl.com  |1  |\n+-----------------+---+\nonly showing top 5 rows\n\n"
      ]
     }
    }
   ],
   "execution_count": 0
  },
  {
   "cell_type": "markdown",
   "source": [
    "**`host_day_distinct_df`**\n",
    "\n",
    "This DataFrame has the same columns as `host_day_distinct_df`, but with duplicate (`day`, `host`) rows removed."
   ],
   "metadata": {
    "colab_type": "text",
    "id": "HRu_5V4bXvDs",
    "application/vnd.databricks.v1+cell": {
     "showTitle": false,
     "cellMetadata": {},
     "nuid": "65346eb8-84c0-449d-83f8-0addcfb71fe2",
     "inputWidgets": {},
     "title": ""
    }
   }
  },
  {
   "cell_type": "code",
   "source": [
    "host_day_distinct_df = (host_day_df\n",
    "                          .dropDuplicates())\n",
    "host_day_distinct_df.show(5, truncate=False)"
   ],
   "metadata": {
    "colab_type": "code",
    "id": "be9KD86vXvDt",
    "application/vnd.databricks.v1+cell": {
     "showTitle": false,
     "cellMetadata": {},
     "nuid": "39894685-8328-47e6-af48-bab839664a7e",
     "inputWidgets": {},
     "title": ""
    },
    "colab": {},
    "outputId": "013470c7-93ab-4c4a-945a-af4c212c85d7"
   },
   "outputs": [
    {
     "output_type": "display_data",
     "metadata": {
      "application/vnd.databricks.v1+output": {
       "datasetInfos": [],
       "data": "+---------------------------+---+\n|host                       |day|\n+---------------------------+---+\n|in24.inetnebr.com          |1  |\n|slppp6.intermind.net       |1  |\n|piweba4y.prodigy.com       |1  |\n|uplherc.upl.com            |1  |\n|ix-esc-ca2-07.ix.netcom.com|1  |\n+---------------------------+---+\nonly showing top 5 rows\n\n",
       "removedWidgets": [],
       "addedWidgets": {},
       "metadata": {},
       "type": "ansi",
       "arguments": {}
      }
     },
     "data": {
      "text/plain": [
       "+---------------------------+---+\n|host                       |day|\n+---------------------------+---+\n|in24.inetnebr.com          |1  |\n|slppp6.intermind.net       |1  |\n|piweba4y.prodigy.com       |1  |\n|uplherc.upl.com            |1  |\n|ix-esc-ca2-07.ix.netcom.com|1  |\n+---------------------------+---+\nonly showing top 5 rows\n\n"
      ]
     }
    }
   ],
   "execution_count": 0
  },
  {
   "cell_type": "markdown",
   "source": [
    "**`daily_unique_hosts_df`**\n",
    "\n",
    "A DataFrame with two columns:\n",
    "\n",
    "| column  | explanation                                        |\n",
    "| ------- | -------------------------------------------------- |\n",
    "| `day`   | the day of the month                               |\n",
    "| `count` | the number of unique requesting hosts for that day |"
   ],
   "metadata": {
    "colab_type": "text",
    "id": "OlCEA952XvDv",
    "application/vnd.databricks.v1+cell": {
     "showTitle": false,
     "cellMetadata": {},
     "nuid": "404a5282-ac2f-4c53-ab36-3d725cf19b9e",
     "inputWidgets": {},
     "title": ""
    }
   }
  },
  {
   "cell_type": "code",
   "source": [
    "#not running because of pyarrow bug?\n",
    "daily_hosts_df = (host_day_distinct_df\n",
    "                     .groupBy('day')\n",
    "                     .count()\n",
    "                     .sort(\"day\"))\n",
    "\n",
    "daily_hosts_df = daily_hosts_df.toPandas()\n",
    "daily_hosts_df.T"
   ],
   "metadata": {
    "colab_type": "code",
    "id": "TrVQJOKPXvDv",
    "application/vnd.databricks.v1+cell": {
     "showTitle": false,
     "cellMetadata": {},
     "nuid": "6a7830a7-ada3-4381-87b1-6581dfeb6333",
     "inputWidgets": {},
     "title": ""
    },
    "colab": {},
    "outputId": "875f282f-13f6-4f9c-b4ee-a8f867f2955f"
   },
   "outputs": [
    {
     "output_type": "display_data",
     "metadata": {
      "application/vnd.databricks.v1+output": {
       "data": "\u001B[0;31m---------------------------------------------------------------------------\u001B[0m\n\u001B[0;31mPythonException\u001B[0m                           Traceback (most recent call last)\n\u001B[0;32m<command-2272545304682992>\u001B[0m in \u001B[0;36m<module>\u001B[0;34m\u001B[0m\n\u001B[1;32m      5\u001B[0m                      .sort(\"day\"))\n\u001B[1;32m      6\u001B[0m \u001B[0;34m\u001B[0m\u001B[0m\n\u001B[0;32m----> 7\u001B[0;31m \u001B[0mdaily_hosts_df\u001B[0m \u001B[0;34m=\u001B[0m \u001B[0mdaily_hosts_df\u001B[0m\u001B[0;34m.\u001B[0m\u001B[0mtoPandas\u001B[0m\u001B[0;34m(\u001B[0m\u001B[0;34m)\u001B[0m\u001B[0;34m\u001B[0m\u001B[0;34m\u001B[0m\u001B[0m\n\u001B[0m\u001B[1;32m      8\u001B[0m \u001B[0mdaily_hosts_df\u001B[0m\u001B[0;34m.\u001B[0m\u001B[0mT\u001B[0m\u001B[0;34m\u001B[0m\u001B[0;34m\u001B[0m\u001B[0m\n\n\u001B[0;32m/databricks/spark/python/pyspark/databricks/utils/instrumentation.py\u001B[0m in \u001B[0;36mwrapper\u001B[0;34m(self, *args, **kwargs)\u001B[0m\n\u001B[1;32m     40\u001B[0m         \u001B[0;32mtry\u001B[0m\u001B[0;34m:\u001B[0m\u001B[0;34m\u001B[0m\u001B[0;34m\u001B[0m\u001B[0m\n\u001B[1;32m     41\u001B[0m             \u001B[0mstart_time\u001B[0m \u001B[0;34m=\u001B[0m \u001B[0mtime\u001B[0m\u001B[0;34m.\u001B[0m\u001B[0mtime\u001B[0m\u001B[0;34m(\u001B[0m\u001B[0;34m)\u001B[0m\u001B[0;34m\u001B[0m\u001B[0;34m\u001B[0m\u001B[0m\n\u001B[0;32m---> 42\u001B[0;31m             \u001B[0mreturn_val\u001B[0m \u001B[0;34m=\u001B[0m \u001B[0mfunc\u001B[0m\u001B[0;34m(\u001B[0m\u001B[0mself\u001B[0m\u001B[0;34m,\u001B[0m \u001B[0;34m*\u001B[0m\u001B[0margs\u001B[0m\u001B[0;34m,\u001B[0m \u001B[0;34m**\u001B[0m\u001B[0mkwargs\u001B[0m\u001B[0;34m)\u001B[0m\u001B[0;34m\u001B[0m\u001B[0;34m\u001B[0m\u001B[0m\n\u001B[0m\u001B[1;32m     43\u001B[0m         \u001B[0;32mexcept\u001B[0m \u001B[0mException\u001B[0m \u001B[0;32mas\u001B[0m \u001B[0me\u001B[0m\u001B[0;34m:\u001B[0m\u001B[0;34m\u001B[0m\u001B[0;34m\u001B[0m\u001B[0m\n\u001B[1;32m     44\u001B[0m             \u001B[0mduration\u001B[0m \u001B[0;34m=\u001B[0m \u001B[0;34m(\u001B[0m\u001B[0mtime\u001B[0m\u001B[0;34m.\u001B[0m\u001B[0mtime\u001B[0m\u001B[0;34m(\u001B[0m\u001B[0;34m)\u001B[0m \u001B[0;34m-\u001B[0m \u001B[0mstart_time\u001B[0m\u001B[0;34m)\u001B[0m \u001B[0;34m*\u001B[0m \u001B[0;36m1000\u001B[0m\u001B[0;34m\u001B[0m\u001B[0;34m\u001B[0m\u001B[0m\n\n\u001B[0;32m/databricks/spark/python/pyspark/sql/pandas/conversion.py\u001B[0m in \u001B[0;36mtoPandas\u001B[0;34m(self)\u001B[0m\n\u001B[1;32m    163\u001B[0m \u001B[0;34m\u001B[0m\u001B[0m\n\u001B[1;32m    164\u001B[0m         \u001B[0;31m# Below is toPandas without Arrow optimization.\u001B[0m\u001B[0;34m\u001B[0m\u001B[0;34m\u001B[0m\u001B[0;34m\u001B[0m\u001B[0m\n\u001B[0;32m--> 165\u001B[0;31m         \u001B[0mpdf\u001B[0m \u001B[0;34m=\u001B[0m \u001B[0mpd\u001B[0m\u001B[0;34m.\u001B[0m\u001B[0mDataFrame\u001B[0m\u001B[0;34m.\u001B[0m\u001B[0mfrom_records\u001B[0m\u001B[0;34m(\u001B[0m\u001B[0mself\u001B[0m\u001B[0;34m.\u001B[0m\u001B[0mcollect\u001B[0m\u001B[0;34m(\u001B[0m\u001B[0;34m)\u001B[0m\u001B[0;34m,\u001B[0m \u001B[0mcolumns\u001B[0m\u001B[0;34m=\u001B[0m\u001B[0mself\u001B[0m\u001B[0;34m.\u001B[0m\u001B[0mcolumns\u001B[0m\u001B[0;34m)\u001B[0m\u001B[0;34m\u001B[0m\u001B[0;34m\u001B[0m\u001B[0m\n\u001B[0m\u001B[1;32m    166\u001B[0m         \u001B[0mcolumn_counter\u001B[0m \u001B[0;34m=\u001B[0m \u001B[0mCounter\u001B[0m\u001B[0;34m(\u001B[0m\u001B[0mself\u001B[0m\u001B[0;34m.\u001B[0m\u001B[0mcolumns\u001B[0m\u001B[0;34m)\u001B[0m\u001B[0;34m\u001B[0m\u001B[0;34m\u001B[0m\u001B[0m\n\u001B[1;32m    167\u001B[0m \u001B[0;34m\u001B[0m\u001B[0m\n\n\u001B[0;32m/databricks/spark/python/pyspark/sql/dataframe.py\u001B[0m in \u001B[0;36mcollect\u001B[0;34m(self)\u001B[0m\n\u001B[1;32m    713\u001B[0m         \u001B[0;31m# Default path used in OSS Spark / for non-DF-ACL clusters:\u001B[0m\u001B[0;34m\u001B[0m\u001B[0;34m\u001B[0m\u001B[0;34m\u001B[0m\u001B[0m\n\u001B[1;32m    714\u001B[0m         \u001B[0;32mwith\u001B[0m \u001B[0mSCCallSiteSync\u001B[0m\u001B[0;34m(\u001B[0m\u001B[0mself\u001B[0m\u001B[0;34m.\u001B[0m\u001B[0m_sc\u001B[0m\u001B[0;34m)\u001B[0m \u001B[0;32mas\u001B[0m \u001B[0mcss\u001B[0m\u001B[0;34m:\u001B[0m\u001B[0;34m\u001B[0m\u001B[0;34m\u001B[0m\u001B[0m\n\u001B[0;32m--> 715\u001B[0;31m             \u001B[0msock_info\u001B[0m \u001B[0;34m=\u001B[0m \u001B[0mself\u001B[0m\u001B[0;34m.\u001B[0m\u001B[0m_jdf\u001B[0m\u001B[0;34m.\u001B[0m\u001B[0mcollectToPython\u001B[0m\u001B[0;34m(\u001B[0m\u001B[0;34m)\u001B[0m\u001B[0;34m\u001B[0m\u001B[0;34m\u001B[0m\u001B[0m\n\u001B[0m\u001B[1;32m    716\u001B[0m         \u001B[0;32mreturn\u001B[0m \u001B[0mlist\u001B[0m\u001B[0;34m(\u001B[0m\u001B[0m_load_from_socket\u001B[0m\u001B[0;34m(\u001B[0m\u001B[0msock_info\u001B[0m\u001B[0;34m,\u001B[0m \u001B[0mBatchedSerializer\u001B[0m\u001B[0;34m(\u001B[0m\u001B[0mPickleSerializer\u001B[0m\u001B[0;34m(\u001B[0m\u001B[0;34m)\u001B[0m\u001B[0;34m)\u001B[0m\u001B[0;34m)\u001B[0m\u001B[0;34m)\u001B[0m\u001B[0;34m\u001B[0m\u001B[0;34m\u001B[0m\u001B[0m\n\u001B[1;32m    717\u001B[0m \u001B[0;34m\u001B[0m\u001B[0m\n\n\u001B[0;32m/databricks/spark/python/lib/py4j-0.10.9.1-src.zip/py4j/java_gateway.py\u001B[0m in \u001B[0;36m__call__\u001B[0;34m(self, *args)\u001B[0m\n\u001B[1;32m   1302\u001B[0m \u001B[0;34m\u001B[0m\u001B[0m\n\u001B[1;32m   1303\u001B[0m         \u001B[0manswer\u001B[0m \u001B[0;34m=\u001B[0m \u001B[0mself\u001B[0m\u001B[0;34m.\u001B[0m\u001B[0mgateway_client\u001B[0m\u001B[0;34m.\u001B[0m\u001B[0msend_command\u001B[0m\u001B[0;34m(\u001B[0m\u001B[0mcommand\u001B[0m\u001B[0;34m)\u001B[0m\u001B[0;34m\u001B[0m\u001B[0;34m\u001B[0m\u001B[0m\n\u001B[0;32m-> 1304\u001B[0;31m         return_value = get_return_value(\n\u001B[0m\u001B[1;32m   1305\u001B[0m             answer, self.gateway_client, self.target_id, self.name)\n\u001B[1;32m   1306\u001B[0m \u001B[0;34m\u001B[0m\u001B[0m\n\n\u001B[0;32m/databricks/spark/python/pyspark/sql/utils.py\u001B[0m in \u001B[0;36mdeco\u001B[0;34m(*a, **kw)\u001B[0m\n\u001B[1;32m    121\u001B[0m                 \u001B[0;31m# Hide where the exception came from that shows a non-Pythonic\u001B[0m\u001B[0;34m\u001B[0m\u001B[0;34m\u001B[0m\u001B[0;34m\u001B[0m\u001B[0m\n\u001B[1;32m    122\u001B[0m                 \u001B[0;31m# JVM exception message.\u001B[0m\u001B[0;34m\u001B[0m\u001B[0;34m\u001B[0m\u001B[0;34m\u001B[0m\u001B[0m\n\u001B[0;32m--> 123\u001B[0;31m                 \u001B[0;32mraise\u001B[0m \u001B[0mconverted\u001B[0m \u001B[0;32mfrom\u001B[0m \u001B[0;32mNone\u001B[0m\u001B[0;34m\u001B[0m\u001B[0;34m\u001B[0m\u001B[0m\n\u001B[0m\u001B[1;32m    124\u001B[0m             \u001B[0;32melse\u001B[0m\u001B[0;34m:\u001B[0m\u001B[0;34m\u001B[0m\u001B[0;34m\u001B[0m\u001B[0m\n\u001B[1;32m    125\u001B[0m                 \u001B[0;32mraise\u001B[0m\u001B[0;34m\u001B[0m\u001B[0;34m\u001B[0m\u001B[0m\n\n\u001B[0;31mPythonException\u001B[0m: An exception was thrown from a UDF: 'ValueError: invalid literal for int() with base 10: ''', from <command-2272545304682958>, line 17. Full traceback below:\nTraceback (most recent call last):\n  File \"<command-2272545304682958>\", line 17, in parse_clf_time\nValueError: invalid literal for int() with base 10: ''\n",
       "errorSummary": "<span class='ansi-red-fg'>PythonException</span>: An exception was thrown from a UDF: 'ValueError: invalid literal for int() with base 10: ''', from <command-2272545304682958>, line 17. Full traceback below:\nTraceback (most recent call last):\n  File \"<command-2272545304682958>\", line 17, in parse_clf_time\nValueError: invalid literal for int() with base 10: ''\n",
       "metadata": {},
       "errorTraceType": "ansi",
       "type": "ipynbError",
       "arguments": {}
      }
     },
     "data": {
      "text/plain": [
       "\u001B[0;31m---------------------------------------------------------------------------\u001B[0m\n\u001B[0;31mPythonException\u001B[0m                           Traceback (most recent call last)\n\u001B[0;32m<command-2272545304682992>\u001B[0m in \u001B[0;36m<module>\u001B[0;34m\u001B[0m\n\u001B[1;32m      5\u001B[0m                      .sort(\"day\"))\n\u001B[1;32m      6\u001B[0m \u001B[0;34m\u001B[0m\u001B[0m\n\u001B[0;32m----> 7\u001B[0;31m \u001B[0mdaily_hosts_df\u001B[0m \u001B[0;34m=\u001B[0m \u001B[0mdaily_hosts_df\u001B[0m\u001B[0;34m.\u001B[0m\u001B[0mtoPandas\u001B[0m\u001B[0;34m(\u001B[0m\u001B[0;34m)\u001B[0m\u001B[0;34m\u001B[0m\u001B[0;34m\u001B[0m\u001B[0m\n\u001B[0m\u001B[1;32m      8\u001B[0m \u001B[0mdaily_hosts_df\u001B[0m\u001B[0;34m.\u001B[0m\u001B[0mT\u001B[0m\u001B[0;34m\u001B[0m\u001B[0;34m\u001B[0m\u001B[0m\n\n\u001B[0;32m/databricks/spark/python/pyspark/databricks/utils/instrumentation.py\u001B[0m in \u001B[0;36mwrapper\u001B[0;34m(self, *args, **kwargs)\u001B[0m\n\u001B[1;32m     40\u001B[0m         \u001B[0;32mtry\u001B[0m\u001B[0;34m:\u001B[0m\u001B[0;34m\u001B[0m\u001B[0;34m\u001B[0m\u001B[0m\n\u001B[1;32m     41\u001B[0m             \u001B[0mstart_time\u001B[0m \u001B[0;34m=\u001B[0m \u001B[0mtime\u001B[0m\u001B[0;34m.\u001B[0m\u001B[0mtime\u001B[0m\u001B[0;34m(\u001B[0m\u001B[0;34m)\u001B[0m\u001B[0;34m\u001B[0m\u001B[0;34m\u001B[0m\u001B[0m\n\u001B[0;32m---> 42\u001B[0;31m             \u001B[0mreturn_val\u001B[0m \u001B[0;34m=\u001B[0m \u001B[0mfunc\u001B[0m\u001B[0;34m(\u001B[0m\u001B[0mself\u001B[0m\u001B[0;34m,\u001B[0m \u001B[0;34m*\u001B[0m\u001B[0margs\u001B[0m\u001B[0;34m,\u001B[0m \u001B[0;34m**\u001B[0m\u001B[0mkwargs\u001B[0m\u001B[0;34m)\u001B[0m\u001B[0;34m\u001B[0m\u001B[0;34m\u001B[0m\u001B[0m\n\u001B[0m\u001B[1;32m     43\u001B[0m         \u001B[0;32mexcept\u001B[0m \u001B[0mException\u001B[0m \u001B[0;32mas\u001B[0m \u001B[0me\u001B[0m\u001B[0;34m:\u001B[0m\u001B[0;34m\u001B[0m\u001B[0;34m\u001B[0m\u001B[0m\n\u001B[1;32m     44\u001B[0m             \u001B[0mduration\u001B[0m \u001B[0;34m=\u001B[0m \u001B[0;34m(\u001B[0m\u001B[0mtime\u001B[0m\u001B[0;34m.\u001B[0m\u001B[0mtime\u001B[0m\u001B[0;34m(\u001B[0m\u001B[0;34m)\u001B[0m \u001B[0;34m-\u001B[0m \u001B[0mstart_time\u001B[0m\u001B[0;34m)\u001B[0m \u001B[0;34m*\u001B[0m \u001B[0;36m1000\u001B[0m\u001B[0;34m\u001B[0m\u001B[0;34m\u001B[0m\u001B[0m\n\n\u001B[0;32m/databricks/spark/python/pyspark/sql/pandas/conversion.py\u001B[0m in \u001B[0;36mtoPandas\u001B[0;34m(self)\u001B[0m\n\u001B[1;32m    163\u001B[0m \u001B[0;34m\u001B[0m\u001B[0m\n\u001B[1;32m    164\u001B[0m         \u001B[0;31m# Below is toPandas without Arrow optimization.\u001B[0m\u001B[0;34m\u001B[0m\u001B[0;34m\u001B[0m\u001B[0;34m\u001B[0m\u001B[0m\n\u001B[0;32m--> 165\u001B[0;31m         \u001B[0mpdf\u001B[0m \u001B[0;34m=\u001B[0m \u001B[0mpd\u001B[0m\u001B[0;34m.\u001B[0m\u001B[0mDataFrame\u001B[0m\u001B[0;34m.\u001B[0m\u001B[0mfrom_records\u001B[0m\u001B[0;34m(\u001B[0m\u001B[0mself\u001B[0m\u001B[0;34m.\u001B[0m\u001B[0mcollect\u001B[0m\u001B[0;34m(\u001B[0m\u001B[0;34m)\u001B[0m\u001B[0;34m,\u001B[0m \u001B[0mcolumns\u001B[0m\u001B[0;34m=\u001B[0m\u001B[0mself\u001B[0m\u001B[0;34m.\u001B[0m\u001B[0mcolumns\u001B[0m\u001B[0;34m)\u001B[0m\u001B[0;34m\u001B[0m\u001B[0;34m\u001B[0m\u001B[0m\n\u001B[0m\u001B[1;32m    166\u001B[0m         \u001B[0mcolumn_counter\u001B[0m \u001B[0;34m=\u001B[0m \u001B[0mCounter\u001B[0m\u001B[0;34m(\u001B[0m\u001B[0mself\u001B[0m\u001B[0;34m.\u001B[0m\u001B[0mcolumns\u001B[0m\u001B[0;34m)\u001B[0m\u001B[0;34m\u001B[0m\u001B[0;34m\u001B[0m\u001B[0m\n\u001B[1;32m    167\u001B[0m \u001B[0;34m\u001B[0m\u001B[0m\n\n\u001B[0;32m/databricks/spark/python/pyspark/sql/dataframe.py\u001B[0m in \u001B[0;36mcollect\u001B[0;34m(self)\u001B[0m\n\u001B[1;32m    713\u001B[0m         \u001B[0;31m# Default path used in OSS Spark / for non-DF-ACL clusters:\u001B[0m\u001B[0;34m\u001B[0m\u001B[0;34m\u001B[0m\u001B[0;34m\u001B[0m\u001B[0m\n\u001B[1;32m    714\u001B[0m         \u001B[0;32mwith\u001B[0m \u001B[0mSCCallSiteSync\u001B[0m\u001B[0;34m(\u001B[0m\u001B[0mself\u001B[0m\u001B[0;34m.\u001B[0m\u001B[0m_sc\u001B[0m\u001B[0;34m)\u001B[0m \u001B[0;32mas\u001B[0m \u001B[0mcss\u001B[0m\u001B[0;34m:\u001B[0m\u001B[0;34m\u001B[0m\u001B[0;34m\u001B[0m\u001B[0m\n\u001B[0;32m--> 715\u001B[0;31m             \u001B[0msock_info\u001B[0m \u001B[0;34m=\u001B[0m \u001B[0mself\u001B[0m\u001B[0;34m.\u001B[0m\u001B[0m_jdf\u001B[0m\u001B[0;34m.\u001B[0m\u001B[0mcollectToPython\u001B[0m\u001B[0;34m(\u001B[0m\u001B[0;34m)\u001B[0m\u001B[0;34m\u001B[0m\u001B[0;34m\u001B[0m\u001B[0m\n\u001B[0m\u001B[1;32m    716\u001B[0m         \u001B[0;32mreturn\u001B[0m \u001B[0mlist\u001B[0m\u001B[0;34m(\u001B[0m\u001B[0m_load_from_socket\u001B[0m\u001B[0;34m(\u001B[0m\u001B[0msock_info\u001B[0m\u001B[0;34m,\u001B[0m \u001B[0mBatchedSerializer\u001B[0m\u001B[0;34m(\u001B[0m\u001B[0mPickleSerializer\u001B[0m\u001B[0;34m(\u001B[0m\u001B[0;34m)\u001B[0m\u001B[0;34m)\u001B[0m\u001B[0;34m)\u001B[0m\u001B[0;34m)\u001B[0m\u001B[0;34m\u001B[0m\u001B[0;34m\u001B[0m\u001B[0m\n\u001B[1;32m    717\u001B[0m \u001B[0;34m\u001B[0m\u001B[0m\n\n\u001B[0;32m/databricks/spark/python/lib/py4j-0.10.9.1-src.zip/py4j/java_gateway.py\u001B[0m in \u001B[0;36m__call__\u001B[0;34m(self, *args)\u001B[0m\n\u001B[1;32m   1302\u001B[0m \u001B[0;34m\u001B[0m\u001B[0m\n\u001B[1;32m   1303\u001B[0m         \u001B[0manswer\u001B[0m \u001B[0;34m=\u001B[0m \u001B[0mself\u001B[0m\u001B[0;34m.\u001B[0m\u001B[0mgateway_client\u001B[0m\u001B[0;34m.\u001B[0m\u001B[0msend_command\u001B[0m\u001B[0;34m(\u001B[0m\u001B[0mcommand\u001B[0m\u001B[0;34m)\u001B[0m\u001B[0;34m\u001B[0m\u001B[0;34m\u001B[0m\u001B[0m\n\u001B[0;32m-> 1304\u001B[0;31m         return_value = get_return_value(\n\u001B[0m\u001B[1;32m   1305\u001B[0m             answer, self.gateway_client, self.target_id, self.name)\n\u001B[1;32m   1306\u001B[0m \u001B[0;34m\u001B[0m\u001B[0m\n\n\u001B[0;32m/databricks/spark/python/pyspark/sql/utils.py\u001B[0m in \u001B[0;36mdeco\u001B[0;34m(*a, **kw)\u001B[0m\n\u001B[1;32m    121\u001B[0m                 \u001B[0;31m# Hide where the exception came from that shows a non-Pythonic\u001B[0m\u001B[0;34m\u001B[0m\u001B[0;34m\u001B[0m\u001B[0;34m\u001B[0m\u001B[0m\n\u001B[1;32m    122\u001B[0m                 \u001B[0;31m# JVM exception message.\u001B[0m\u001B[0;34m\u001B[0m\u001B[0;34m\u001B[0m\u001B[0;34m\u001B[0m\u001B[0m\n\u001B[0;32m--> 123\u001B[0;31m                 \u001B[0;32mraise\u001B[0m \u001B[0mconverted\u001B[0m \u001B[0;32mfrom\u001B[0m \u001B[0;32mNone\u001B[0m\u001B[0;34m\u001B[0m\u001B[0;34m\u001B[0m\u001B[0m\n\u001B[0m\u001B[1;32m    124\u001B[0m             \u001B[0;32melse\u001B[0m\u001B[0;34m:\u001B[0m\u001B[0;34m\u001B[0m\u001B[0;34m\u001B[0m\u001B[0m\n\u001B[1;32m    125\u001B[0m                 \u001B[0;32mraise\u001B[0m\u001B[0;34m\u001B[0m\u001B[0;34m\u001B[0m\u001B[0m\n\n\u001B[0;31mPythonException\u001B[0m: An exception was thrown from a UDF: 'ValueError: invalid literal for int() with base 10: ''', from <command-2272545304682958>, line 17. Full traceback below:\nTraceback (most recent call last):\n  File \"<command-2272545304682958>\", line 17, in parse_clf_time\nValueError: invalid literal for int() with base 10: ''\n"
      ]
     }
    }
   ],
   "execution_count": 0
  },
  {
   "cell_type": "code",
   "source": [
    "daily_hosts_df.plot(x='day', y='count', kind='line')"
   ],
   "metadata": {
    "colab": {},
    "colab_type": "code",
    "id": "PUdqNQHiXvDz",
    "application/vnd.databricks.v1+cell": {
     "showTitle": false,
     "cellMetadata": {},
     "nuid": "b0a83f1d-50bc-4dd6-9e31-c31125933705",
     "inputWidgets": {},
     "title": ""
    }
   },
   "outputs": [
    {
     "output_type": "display_data",
     "metadata": {
      "application/vnd.databricks.v1+output": {
       "data": "\u001B[0;31m---------------------------------------------------------------------------\u001B[0m\n\u001B[0;31mAttributeError\u001B[0m                            Traceback (most recent call last)\n\u001B[0;32m<command-2272545304682993>\u001B[0m in \u001B[0;36m<module>\u001B[0;34m\u001B[0m\n\u001B[0;32m----> 1\u001B[0;31m \u001B[0mdaily_hosts_df\u001B[0m\u001B[0;34m.\u001B[0m\u001B[0mplot\u001B[0m\u001B[0;34m(\u001B[0m\u001B[0mx\u001B[0m\u001B[0;34m=\u001B[0m\u001B[0;34m'day'\u001B[0m\u001B[0;34m,\u001B[0m \u001B[0my\u001B[0m\u001B[0;34m=\u001B[0m\u001B[0;34m'count'\u001B[0m\u001B[0;34m,\u001B[0m \u001B[0mkind\u001B[0m\u001B[0;34m=\u001B[0m\u001B[0;34m'line'\u001B[0m\u001B[0;34m)\u001B[0m\u001B[0;34m\u001B[0m\u001B[0;34m\u001B[0m\u001B[0m\n\u001B[0m\n\u001B[0;32m/databricks/spark/python/pyspark/sql/dataframe.py\u001B[0m in \u001B[0;36m__getattr__\u001B[0;34m(self, name)\u001B[0m\n\u001B[1;32m   1798\u001B[0m         \"\"\"\n\u001B[1;32m   1799\u001B[0m         \u001B[0;32mif\u001B[0m \u001B[0mname\u001B[0m \u001B[0;32mnot\u001B[0m \u001B[0;32min\u001B[0m \u001B[0mself\u001B[0m\u001B[0;34m.\u001B[0m\u001B[0mcolumns\u001B[0m\u001B[0;34m:\u001B[0m\u001B[0;34m\u001B[0m\u001B[0;34m\u001B[0m\u001B[0m\n\u001B[0;32m-> 1800\u001B[0;31m             raise AttributeError(\n\u001B[0m\u001B[1;32m   1801\u001B[0m                 \"'%s' object has no attribute '%s'\" % (self.__class__.__name__, name))\n\u001B[1;32m   1802\u001B[0m         \u001B[0mjc\u001B[0m \u001B[0;34m=\u001B[0m \u001B[0mself\u001B[0m\u001B[0;34m.\u001B[0m\u001B[0m_jdf\u001B[0m\u001B[0;34m.\u001B[0m\u001B[0mapply\u001B[0m\u001B[0;34m(\u001B[0m\u001B[0mname\u001B[0m\u001B[0;34m)\u001B[0m\u001B[0;34m\u001B[0m\u001B[0;34m\u001B[0m\u001B[0m\n\n\u001B[0;31mAttributeError\u001B[0m: 'DataFrame' object has no attribute 'plot'",
       "errorSummary": "<span class='ansi-red-fg'>AttributeError</span>: 'DataFrame' object has no attribute 'plot'",
       "metadata": {},
       "errorTraceType": "ansi",
       "type": "ipynbError",
       "arguments": {}
      }
     },
     "data": {
      "text/plain": [
       "\u001B[0;31m---------------------------------------------------------------------------\u001B[0m\n\u001B[0;31mAttributeError\u001B[0m                            Traceback (most recent call last)\n\u001B[0;32m<command-2272545304682993>\u001B[0m in \u001B[0;36m<module>\u001B[0;34m\u001B[0m\n\u001B[0;32m----> 1\u001B[0;31m \u001B[0mdaily_hosts_df\u001B[0m\u001B[0;34m.\u001B[0m\u001B[0mplot\u001B[0m\u001B[0;34m(\u001B[0m\u001B[0mx\u001B[0m\u001B[0;34m=\u001B[0m\u001B[0;34m'day'\u001B[0m\u001B[0;34m,\u001B[0m \u001B[0my\u001B[0m\u001B[0;34m=\u001B[0m\u001B[0;34m'count'\u001B[0m\u001B[0;34m,\u001B[0m \u001B[0mkind\u001B[0m\u001B[0;34m=\u001B[0m\u001B[0;34m'line'\u001B[0m\u001B[0;34m)\u001B[0m\u001B[0;34m\u001B[0m\u001B[0;34m\u001B[0m\u001B[0m\n\u001B[0m\n\u001B[0;32m/databricks/spark/python/pyspark/sql/dataframe.py\u001B[0m in \u001B[0;36m__getattr__\u001B[0;34m(self, name)\u001B[0m\n\u001B[1;32m   1798\u001B[0m         \"\"\"\n\u001B[1;32m   1799\u001B[0m         \u001B[0;32mif\u001B[0m \u001B[0mname\u001B[0m \u001B[0;32mnot\u001B[0m \u001B[0;32min\u001B[0m \u001B[0mself\u001B[0m\u001B[0;34m.\u001B[0m\u001B[0mcolumns\u001B[0m\u001B[0;34m:\u001B[0m\u001B[0;34m\u001B[0m\u001B[0;34m\u001B[0m\u001B[0m\n\u001B[0;32m-> 1800\u001B[0;31m             raise AttributeError(\n\u001B[0m\u001B[1;32m   1801\u001B[0m                 \"'%s' object has no attribute '%s'\" % (self.__class__.__name__, name))\n\u001B[1;32m   1802\u001B[0m         \u001B[0mjc\u001B[0m \u001B[0;34m=\u001B[0m \u001B[0mself\u001B[0m\u001B[0;34m.\u001B[0m\u001B[0m_jdf\u001B[0m\u001B[0;34m.\u001B[0m\u001B[0mapply\u001B[0m\u001B[0;34m(\u001B[0m\u001B[0mname\u001B[0m\u001B[0;34m)\u001B[0m\u001B[0;34m\u001B[0m\u001B[0;34m\u001B[0m\u001B[0m\n\n\u001B[0;31mAttributeError\u001B[0m: 'DataFrame' object has no attribute 'plot'"
      ]
     }
    }
   ],
   "execution_count": 0
  },
  {
   "cell_type": "markdown",
   "source": [
    "## Your Turn: Q9: Counting 404 Response Codes\n",
    "\n",
    "Create a DataFrame containing only log records with a 404 status code (Not Found). \n",
    "\n",
    "Make sure you `cache()` the `not_found_df` dataframe as we will use it in the rest of the exercises here.\n",
    "\n",
    "__How many 404 records are in the log?__"
   ],
   "metadata": {
    "colab_type": "text",
    "id": "O5M-HoWHXvD1",
    "application/vnd.databricks.v1+cell": {
     "showTitle": false,
     "cellMetadata": {},
     "nuid": "1da9b494-14a0-4ec8-a12b-b7a9aeb3f6cc",
     "inputWidgets": {},
     "title": ""
    }
   }
  },
  {
   "cell_type": "code",
   "source": [
    "# TODO: Replace <FILL IN> with appropriate code\n",
    "\n",
    "not_found_df = logs_df.filter('status=404').cache()\n",
    "print(('Total 404 responses: {}').format(not_found_df.count()))\n",
    "not_found_df.show(10)"
   ],
   "metadata": {
    "colab_type": "code",
    "id": "XovkxrduXvD2",
    "application/vnd.databricks.v1+cell": {
     "showTitle": false,
     "cellMetadata": {},
     "nuid": "b88c8d51-9eba-4e25-9599-da6cbec6a636",
     "inputWidgets": {},
     "title": ""
    },
    "colab": {},
    "outputId": "662c54ce-9fd3-4d97-dbf5-30a1a77b90f9"
   },
   "outputs": [
    {
     "output_type": "display_data",
     "metadata": {
      "application/vnd.databricks.v1+output": {
       "datasetInfos": [],
       "data": "Total 404 responses: 20899\n+--------------------+------+--------------------+--------+------+------------+-------------------+\n|                host|method|            endpoint|protocol|status|content_size|               time|\n+--------------------+------+--------------------+--------+------+------------+-------------------+\n|js002.cc.utsunomi...|   GET|/shuttle/resource...|HTTP/1.0|   404|            |1995-08-01 00:07:33|\n|     tia1.eskimo.com|   GET|/pub/winvn/releas...|HTTP/1.0|   404|            |1995-08-01 00:28:41|\n|grimnet23.idirect...|   GET|/www/software/win...|HTTP/1.0|   404|            |1995-08-01 00:50:12|\n|miriworld.its.uni...|   GET|/history/history.htm|HTTP/1.0|   404|            |1995-08-01 01:04:54|\n|       ras38.srv.net|   GET|/elv/DELTA/uncons...|HTTP/1.0|   404|            |1995-08-01 01:05:14|\n|  cs1-06.leh.ptd.net|   GET|     /sts-71/launch/|        |   404|            |1995-08-01 01:17:38|\n|dialip-24.athenet...|   GET|/history/apollo/a...|HTTP/1.0|   404|            |1995-08-01 01:33:02|\n|   h96-158.ccnet.com|   GET|/history/apollo/a...|HTTP/1.0|   404|            |1995-08-01 01:35:50|\n|   h96-158.ccnet.com|   GET|/history/apollo/a...|HTTP/1.0|   404|            |1995-08-01 01:36:23|\n|   h96-158.ccnet.com|   GET|/history/apollo/a...|HTTP/1.0|   404|            |1995-08-01 01:36:30|\n+--------------------+------+--------------------+--------+------+------------+-------------------+\nonly showing top 10 rows\n\n",
       "removedWidgets": [],
       "addedWidgets": {},
       "metadata": {},
       "type": "ansi",
       "arguments": {}
      }
     },
     "data": {
      "text/plain": [
       "Total 404 responses: 20899\n+--------------------+------+--------------------+--------+------+------------+-------------------+\n|                host|method|            endpoint|protocol|status|content_size|               time|\n+--------------------+------+--------------------+--------+------+------------+-------------------+\n|js002.cc.utsunomi...|   GET|/shuttle/resource...|HTTP/1.0|   404|            |1995-08-01 00:07:33|\n|     tia1.eskimo.com|   GET|/pub/winvn/releas...|HTTP/1.0|   404|            |1995-08-01 00:28:41|\n|grimnet23.idirect...|   GET|/www/software/win...|HTTP/1.0|   404|            |1995-08-01 00:50:12|\n|miriworld.its.uni...|   GET|/history/history.htm|HTTP/1.0|   404|            |1995-08-01 01:04:54|\n|       ras38.srv.net|   GET|/elv/DELTA/uncons...|HTTP/1.0|   404|            |1995-08-01 01:05:14|\n|  cs1-06.leh.ptd.net|   GET|     /sts-71/launch/|        |   404|            |1995-08-01 01:17:38|\n|dialip-24.athenet...|   GET|/history/apollo/a...|HTTP/1.0|   404|            |1995-08-01 01:33:02|\n|   h96-158.ccnet.com|   GET|/history/apollo/a...|HTTP/1.0|   404|            |1995-08-01 01:35:50|\n|   h96-158.ccnet.com|   GET|/history/apollo/a...|HTTP/1.0|   404|            |1995-08-01 01:36:23|\n|   h96-158.ccnet.com|   GET|/history/apollo/a...|HTTP/1.0|   404|            |1995-08-01 01:36:30|\n+--------------------+------+--------------------+--------+------+------------+-------------------+\nonly showing top 10 rows\n\n"
      ]
     }
    }
   ],
   "execution_count": 0
  },
  {
   "cell_type": "markdown",
   "source": [
    "## Your Turn: Q10: Listing the Top Twenty 404 Response Code Endpoints\n",
    "\n",
    "Using the DataFrame containing only log records with a 404 response code that you cached in Q9, print out a list of the top twenty endpoints that generate the most 404 errors.\n",
    "\n",
    "*Remember, top endpoints should be in sorted order*"
   ],
   "metadata": {
    "colab_type": "text",
    "id": "wdwYDLCnXvD5",
    "application/vnd.databricks.v1+cell": {
     "showTitle": false,
     "cellMetadata": {},
     "nuid": "0cbe82b9-5c59-4884-a7dd-4907c19fbbc9",
     "inputWidgets": {},
     "title": ""
    }
   }
  },
  {
   "cell_type": "code",
   "source": [
    "# TODO: Replace <FILL IN> with appropriate code\n",
    "\n",
    "hosts_404_count_df = (not_found_df\n",
    "                         .groupBy('endpoint')\n",
    "                         .count()\n",
    "                         .sort(col('count').desc())\n",
    "                         .limit(20))\n",
    "\n",
    "hosts_404_count_df.show(truncate=False)"
   ],
   "metadata": {
    "colab_type": "code",
    "id": "Gv3egQAEXvD5",
    "application/vnd.databricks.v1+cell": {
     "showTitle": false,
     "cellMetadata": {},
     "nuid": "b972463a-cfa8-4c77-898e-3c6e6587617a",
     "inputWidgets": {},
     "title": ""
    },
    "colab": {},
    "outputId": "6725f87c-1cd4-4387-f61f-9c7cd58f1f93"
   },
   "outputs": [
    {
     "output_type": "display_data",
     "metadata": {
      "application/vnd.databricks.v1+output": {
       "datasetInfos": [],
       "data": "+-----------------------------------------------------------------+-----+\n|endpoint                                                         |count|\n+-----------------------------------------------------------------+-----+\n|/pub/winvn/readme.txt                                            |2004 |\n|/pub/winvn/release.txt                                           |1732 |\n|/shuttle/missions/STS-69/mission-STS-69.html                     |683  |\n|/shuttle/missions/sts-68/ksc-upclose.gif                         |428  |\n|/history/apollo/a-001/a-001-patch-small.gif                      |384  |\n|/history/apollo/sa-1/sa-1-patch-small.gif                        |383  |\n|/://spacelink.msfc.nasa.gov                                      |381  |\n|/images/crawlerway-logo.gif                                      |374  |\n|/elv/DELTA/uncons.htm                                            |372  |\n|/history/apollo/pad-abort-test-1/pad-abort-test-1-patch-small.gif|359  |\n|/images/nasa-logo.gif                                            |319  |\n|/shuttle/resources/orbiters/atlantis.gif                         |314  |\n|/history/apollo/apollo-13.html                                   |304  |\n|/shuttle/resources/orbiters/discovery.gif                        |263  |\n|/shuttle/missions/sts-71/images/KSC-95EC-0916.txt                |190  |\n|/shuttle/resources/orbiters/challenger.gif                       |170  |\n|/shuttle/missions/technology/sts-newsref/stsref-toc.html         |158  |\n|/history/apollo/images/little-joe.jpg                            |150  |\n|/images/lf-logo.gif                                              |143  |\n|/history/apollo/publications/sp-350/sp-350.txt~                  |140  |\n+-----------------------------------------------------------------+-----+\n\n",
       "removedWidgets": [],
       "addedWidgets": {},
       "metadata": {},
       "type": "ansi",
       "arguments": {}
      }
     },
     "data": {
      "text/plain": [
       "+-----------------------------------------------------------------+-----+\n|endpoint                                                         |count|\n+-----------------------------------------------------------------+-----+\n|/pub/winvn/readme.txt                                            |2004 |\n|/pub/winvn/release.txt                                           |1732 |\n|/shuttle/missions/STS-69/mission-STS-69.html                     |683  |\n|/shuttle/missions/sts-68/ksc-upclose.gif                         |428  |\n|/history/apollo/a-001/a-001-patch-small.gif                      |384  |\n|/history/apollo/sa-1/sa-1-patch-small.gif                        |383  |\n|/://spacelink.msfc.nasa.gov                                      |381  |\n|/images/crawlerway-logo.gif                                      |374  |\n|/elv/DELTA/uncons.htm                                            |372  |\n|/history/apollo/pad-abort-test-1/pad-abort-test-1-patch-small.gif|359  |\n|/images/nasa-logo.gif                                            |319  |\n|/shuttle/resources/orbiters/atlantis.gif                         |314  |\n|/history/apollo/apollo-13.html                                   |304  |\n|/shuttle/resources/orbiters/discovery.gif                        |263  |\n|/shuttle/missions/sts-71/images/KSC-95EC-0916.txt                |190  |\n|/shuttle/resources/orbiters/challenger.gif                       |170  |\n|/shuttle/missions/technology/sts-newsref/stsref-toc.html         |158  |\n|/history/apollo/images/little-joe.jpg                            |150  |\n|/images/lf-logo.gif                                              |143  |\n|/history/apollo/publications/sp-350/sp-350.txt~                  |140  |\n+-----------------------------------------------------------------+-----+\n\n"
      ]
     }
    }
   ],
   "execution_count": 0
  },
  {
   "cell_type": "markdown",
   "source": [
    "## Your Turn: Q11: Visualizing 404 Errors per Day\n",
    "\n",
    "Let's explore the 404 records temporally now. Similar to the example showing the number of unique daily hosts, break down the 404 requests by day and get the daily counts sorted by day in `errors_by_date_sorted_df`.\n",
    "\n",
    "- Display the results as a pandas dataframe \n",
    "- Also visualize the same dataframe then as a line chart"
   ],
   "metadata": {
    "colab_type": "text",
    "id": "UpQl8xaPXvD8",
    "application/vnd.databricks.v1+cell": {
     "showTitle": false,
     "cellMetadata": {},
     "nuid": "3b282699-329f-4392-8400-2e43c9e84f53",
     "inputWidgets": {},
     "title": ""
    }
   }
  },
  {
   "cell_type": "code",
   "source": [
    "# TODO: Replace <FILL IN> with appropriate code\n",
    "\n",
    "errors_by_date_sorted_df = (not_found_df.select(F.dayofmonth('time').alias('day'))\n",
    "                               .groupBy('day')\n",
    "                               .count()\n",
    "                               .sort('day'))\n",
    "\n",
    "errors_by_date_sorted_df = errors_by_date_sorted_df.toPandas()\n",
    "errors_by_date_sorted_df.T"
   ],
   "metadata": {
    "colab_type": "code",
    "id": "69N8tHpzXvD9",
    "application/vnd.databricks.v1+cell": {
     "showTitle": false,
     "cellMetadata": {},
     "nuid": "c03fe81e-e952-4166-a36e-9e533eae94fa",
     "inputWidgets": {},
     "title": ""
    },
    "colab": {},
    "outputId": "1746aabb-b068-43c0-bbe6-580c3fce7639"
   },
   "outputs": [
    {
     "output_type": "display_data",
     "metadata": {
      "application/vnd.databricks.v1+output": {
       "datasetInfos": [],
       "data": "<div>\n<style scoped>\n    .dataframe tbody tr th:only-of-type {\n        vertical-align: middle;\n    }\n\n    .dataframe tbody tr th {\n        vertical-align: top;\n    }\n\n    .dataframe thead th {\n        text-align: right;\n    }\n</style>\n<table border=\"1\" class=\"dataframe\">\n  <thead>\n    <tr style=\"text-align: right;\">\n      <th></th>\n      <th>0</th>\n      <th>1</th>\n      <th>2</th>\n      <th>3</th>\n      <th>4</th>\n      <th>5</th>\n      <th>6</th>\n      <th>7</th>\n      <th>8</th>\n      <th>9</th>\n      <th>...</th>\n      <th>21</th>\n      <th>22</th>\n      <th>23</th>\n      <th>24</th>\n      <th>25</th>\n      <th>26</th>\n      <th>27</th>\n      <th>28</th>\n      <th>29</th>\n      <th>30</th>\n    </tr>\n  </thead>\n  <tbody>\n    <tr>\n      <th>day</th>\n      <td>1</td>\n      <td>2</td>\n      <td>3</td>\n      <td>4</td>\n      <td>5</td>\n      <td>6</td>\n      <td>7</td>\n      <td>8</td>\n      <td>9</td>\n      <td>10</td>\n      <td>...</td>\n      <td>22</td>\n      <td>23</td>\n      <td>24</td>\n      <td>25</td>\n      <td>26</td>\n      <td>27</td>\n      <td>28</td>\n      <td>29</td>\n      <td>30</td>\n      <td>31</td>\n    </tr>\n    <tr>\n      <th>count</th>\n      <td>559</td>\n      <td>291</td>\n      <td>778</td>\n      <td>705</td>\n      <td>733</td>\n      <td>1013</td>\n      <td>1107</td>\n      <td>691</td>\n      <td>627</td>\n      <td>713</td>\n      <td>...</td>\n      <td>480</td>\n      <td>578</td>\n      <td>748</td>\n      <td>876</td>\n      <td>702</td>\n      <td>706</td>\n      <td>504</td>\n      <td>420</td>\n      <td>571</td>\n      <td>526</td>\n    </tr>\n  </tbody>\n</table>\n<p>2 rows × 31 columns</p>\n</div>",
       "textData": null,
       "removedWidgets": [],
       "addedWidgets": {},
       "metadata": {},
       "type": "htmlSandbox",
       "arguments": {}
      }
     },
     "data": {
      "text/html": [
       "<div>\n<style scoped>\n    .dataframe tbody tr th:only-of-type {\n        vertical-align: middle;\n    }\n\n    .dataframe tbody tr th {\n        vertical-align: top;\n    }\n\n    .dataframe thead th {\n        text-align: right;\n    }\n</style>\n<table border=\"1\" class=\"dataframe\">\n  <thead>\n    <tr style=\"text-align: right;\">\n      <th></th>\n      <th>0</th>\n      <th>1</th>\n      <th>2</th>\n      <th>3</th>\n      <th>4</th>\n      <th>5</th>\n      <th>6</th>\n      <th>7</th>\n      <th>8</th>\n      <th>9</th>\n      <th>...</th>\n      <th>21</th>\n      <th>22</th>\n      <th>23</th>\n      <th>24</th>\n      <th>25</th>\n      <th>26</th>\n      <th>27</th>\n      <th>28</th>\n      <th>29</th>\n      <th>30</th>\n    </tr>\n  </thead>\n  <tbody>\n    <tr>\n      <th>day</th>\n      <td>1</td>\n      <td>2</td>\n      <td>3</td>\n      <td>4</td>\n      <td>5</td>\n      <td>6</td>\n      <td>7</td>\n      <td>8</td>\n      <td>9</td>\n      <td>10</td>\n      <td>...</td>\n      <td>22</td>\n      <td>23</td>\n      <td>24</td>\n      <td>25</td>\n      <td>26</td>\n      <td>27</td>\n      <td>28</td>\n      <td>29</td>\n      <td>30</td>\n      <td>31</td>\n    </tr>\n    <tr>\n      <th>count</th>\n      <td>559</td>\n      <td>291</td>\n      <td>778</td>\n      <td>705</td>\n      <td>733</td>\n      <td>1013</td>\n      <td>1107</td>\n      <td>691</td>\n      <td>627</td>\n      <td>713</td>\n      <td>...</td>\n      <td>480</td>\n      <td>578</td>\n      <td>748</td>\n      <td>876</td>\n      <td>702</td>\n      <td>706</td>\n      <td>504</td>\n      <td>420</td>\n      <td>571</td>\n      <td>526</td>\n    </tr>\n  </tbody>\n</table>\n<p>2 rows × 31 columns</p>\n</div>"
      ]
     }
    }
   ],
   "execution_count": 0
  },
  {
   "cell_type": "code",
   "source": [
    "errors_by_date_sorted_df.plot(x='day', y='count', kind='line')"
   ],
   "metadata": {
    "colab": {},
    "colab_type": "code",
    "id": "y-pFX8dJXvD_",
    "application/vnd.databricks.v1+cell": {
     "showTitle": false,
     "cellMetadata": {},
     "nuid": "18c06b18-8dd8-41d5-9dfe-f425b37da0eb",
     "inputWidgets": {},
     "title": ""
    }
   },
   "outputs": [
    {
     "output_type": "display_data",
     "metadata": {
      "application/vnd.databricks.v1+output": {
       "datasetInfos": [],
       "data": "Out[104]: <AxesSubplot:xlabel='day'>",
       "removedWidgets": [],
       "addedWidgets": {},
       "metadata": {},
       "type": "ansi",
       "arguments": {}
      }
     },
     "data": {
      "text/plain": [
       "Out[104]: <AxesSubplot:xlabel='day'>"
      ]
     }
    },
    {
     "output_type": "display_data",
     "metadata": {
      "application/vnd.databricks.v1+output": {
       "datasetInfos": [],
       "data": "data:image/png;base64,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\n",
       "removedWidgets": [],
       "addedWidgets": {},
       "metadata": {},
       "type": "image",
       "arguments": {}
      }
     },
     "data": {
      "image/png": "[encoded data removed]"
     }
    }
   ],
   "execution_count": 0
  },
  {
   "cell_type": "markdown",
   "source": [
    "## Your Turn: Q12: Visualizing Hourly 404 Errors\n",
    "\n",
    "Using the DataFrame `not_found_df` you cached in the Q10, group and sort by hour of the day in increasing order, to create a DataFrame containing the total number of 404 responses for HTTP requests for each hour of the day (midnight starts at 0). \n",
    "\n",
    "- Remember to check out the [__hour__](https://spark.apache.org/docs/latest/api/python/pyspark.sql.html#pyspark.sql.functions.hour) function and use it (we have already imported __`pyspark.sql.functions`__ as __`F`__ earlier\n",
    "- Output should be a bar graph displaying the total number of 404 errors per hour"
   ],
   "metadata": {
    "colab_type": "text",
    "id": "lRY2RYHeXvED",
    "application/vnd.databricks.v1+cell": {
     "showTitle": false,
     "cellMetadata": {},
     "nuid": "e9bb057d-f41b-4a62-8925-663dd954b100",
     "inputWidgets": {},
     "title": ""
    }
   }
  },
  {
   "cell_type": "code",
   "source": [
    "# TODO: Replace <FILL IN> with appropriate code\n",
    "\n",
    "hourly_avg_errors_sorted_df = (not_found_df.select(F.hour('time').alias('hour'))\n",
    "                               .groupBy('hour')\n",
    "                               .count()\n",
    "                               .sort('hour'))\n",
    "hourly_avg_errors_sorted_df = hourly_avg_errors_sorted_df.toPandas()\n",
    "hourly_avg_errors_sorted_df.T"
   ],
   "metadata": {
    "colab_type": "code",
    "id": "T7Y0Dbz3XvEF",
    "application/vnd.databricks.v1+cell": {
     "showTitle": false,
     "cellMetadata": {},
     "nuid": "5590d9bb-7d29-41cf-a04b-d4eab7b372fe",
     "inputWidgets": {},
     "title": ""
    },
    "colab": {},
    "outputId": "873d829e-6b6d-4dc1-b894-0796ef91aec1"
   },
   "outputs": [
    {
     "output_type": "display_data",
     "metadata": {
      "application/vnd.databricks.v1+output": {
       "datasetInfos": [],
       "data": "<div>\n<style scoped>\n    .dataframe tbody tr th:only-of-type {\n        vertical-align: middle;\n    }\n\n    .dataframe tbody tr th {\n        vertical-align: top;\n    }\n\n    .dataframe thead th {\n        text-align: right;\n    }\n</style>\n<table border=\"1\" class=\"dataframe\">\n  <thead>\n    <tr style=\"text-align: right;\">\n      <th></th>\n      <th>0</th>\n      <th>1</th>\n      <th>2</th>\n      <th>3</th>\n      <th>4</th>\n      <th>5</th>\n      <th>6</th>\n      <th>7</th>\n      <th>8</th>\n      <th>9</th>\n      <th>...</th>\n      <th>14</th>\n      <th>15</th>\n      <th>16</th>\n      <th>17</th>\n      <th>18</th>\n      <th>19</th>\n      <th>20</th>\n      <th>21</th>\n      <th>22</th>\n      <th>23</th>\n    </tr>\n  </thead>\n  <tbody>\n    <tr>\n      <th>hour</th>\n      <td>0</td>\n      <td>1</td>\n      <td>2</td>\n      <td>3</td>\n      <td>4</td>\n      <td>5</td>\n      <td>6</td>\n      <td>7</td>\n      <td>8</td>\n      <td>9</td>\n      <td>...</td>\n      <td>14</td>\n      <td>15</td>\n      <td>16</td>\n      <td>17</td>\n      <td>18</td>\n      <td>19</td>\n      <td>20</td>\n      <td>21</td>\n      <td>22</td>\n      <td>23</td>\n    </tr>\n    <tr>\n      <th>count</th>\n      <td>774</td>\n      <td>648</td>\n      <td>868</td>\n      <td>603</td>\n      <td>351</td>\n      <td>307</td>\n      <td>269</td>\n      <td>458</td>\n      <td>705</td>\n      <td>840</td>\n      <td>...</td>\n      <td>1274</td>\n      <td>1382</td>\n      <td>1181</td>\n      <td>1203</td>\n      <td>930</td>\n      <td>852</td>\n      <td>815</td>\n      <td>879</td>\n      <td>915</td>\n      <td>939</td>\n    </tr>\n  </tbody>\n</table>\n<p>2 rows × 24 columns</p>\n</div>",
       "textData": null,
       "removedWidgets": [],
       "addedWidgets": {},
       "metadata": {},
       "type": "htmlSandbox",
       "arguments": {}
      }
     },
     "data": {
      "text/html": [
       "<div>\n<style scoped>\n    .dataframe tbody tr th:only-of-type {\n        vertical-align: middle;\n    }\n\n    .dataframe tbody tr th {\n        vertical-align: top;\n    }\n\n    .dataframe thead th {\n        text-align: right;\n    }\n</style>\n<table border=\"1\" class=\"dataframe\">\n  <thead>\n    <tr style=\"text-align: right;\">\n      <th></th>\n      <th>0</th>\n      <th>1</th>\n      <th>2</th>\n      <th>3</th>\n      <th>4</th>\n      <th>5</th>\n      <th>6</th>\n      <th>7</th>\n      <th>8</th>\n      <th>9</th>\n      <th>...</th>\n      <th>14</th>\n      <th>15</th>\n      <th>16</th>\n      <th>17</th>\n      <th>18</th>\n      <th>19</th>\n      <th>20</th>\n      <th>21</th>\n      <th>22</th>\n      <th>23</th>\n    </tr>\n  </thead>\n  <tbody>\n    <tr>\n      <th>hour</th>\n      <td>0</td>\n      <td>1</td>\n      <td>2</td>\n      <td>3</td>\n      <td>4</td>\n      <td>5</td>\n      <td>6</td>\n      <td>7</td>\n      <td>8</td>\n      <td>9</td>\n      <td>...</td>\n      <td>14</td>\n      <td>15</td>\n      <td>16</td>\n      <td>17</td>\n      <td>18</td>\n      <td>19</td>\n      <td>20</td>\n      <td>21</td>\n      <td>22</td>\n      <td>23</td>\n    </tr>\n    <tr>\n      <th>count</th>\n      <td>774</td>\n      <td>648</td>\n      <td>868</td>\n      <td>603</td>\n      <td>351</td>\n      <td>307</td>\n      <td>269</td>\n      <td>458</td>\n      <td>705</td>\n      <td>840</td>\n      <td>...</td>\n      <td>1274</td>\n      <td>1382</td>\n      <td>1181</td>\n      <td>1203</td>\n      <td>930</td>\n      <td>852</td>\n      <td>815</td>\n      <td>879</td>\n      <td>915</td>\n      <td>939</td>\n    </tr>\n  </tbody>\n</table>\n<p>2 rows × 24 columns</p>\n</div>"
      ]
     }
    }
   ],
   "execution_count": 0
  },
  {
   "cell_type": "code",
   "source": [
    "hourly_avg_errors_sorted_df.plot(x='hour', y='count', kind='line')"
   ],
   "metadata": {
    "colab": {},
    "colab_type": "code",
    "id": "R1vsAPs1XvEJ",
    "application/vnd.databricks.v1+cell": {
     "showTitle": false,
     "cellMetadata": {},
     "nuid": "a417c4dd-e1c9-4cbb-84b4-d9122b76dad5",
     "inputWidgets": {},
     "title": ""
    }
   },
   "outputs": [
    {
     "output_type": "display_data",
     "metadata": {
      "application/vnd.databricks.v1+output": {
       "datasetInfos": [],
       "data": "Out[110]: <AxesSubplot:xlabel='hour'>",
       "removedWidgets": [],
       "addedWidgets": {},
       "metadata": {},
       "type": "ansi",
       "arguments": {}
      }
     },
     "data": {
      "text/plain": [
       "Out[110]: <AxesSubplot:xlabel='hour'>"
      ]
     }
    },
    {
     "output_type": "display_data",
     "metadata": {
      "application/vnd.databricks.v1+output": {
       "datasetInfos": [],
       "data": "data:image/png;base64,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\n",
       "removedWidgets": [],
       "addedWidgets": {},
       "metadata": {},
       "type": "image",
       "arguments": {}
      }
     },
     "data": {
      "image/png": "[encoded data removed]"
     }
    }
   ],
   "execution_count": 0
  },
  {
   "cell_type": "markdown",
   "source": [
    "# Load Data"
   ],
   "metadata": {
    "colab_type": "text",
    "id": "GYWAsa8mY425",
    "application/vnd.databricks.v1+cell": {
     "showTitle": false,
     "cellMetadata": {},
     "nuid": "b4009356-ae9f-4c2e-816b-406b384a162c",
     "inputWidgets": {},
     "title": ""
    }
   }
  },
  {
   "cell_type": "markdown",
   "source": [
    "Up till now, you have completed data extraction, data transformation, and some exploratory data analysis. In the end of this project, we will complete the last step of ETL process: data loading, so the data after  your processing, wrangling, cleaning, can be used by either yourself or other colleagues later. Since we have gone through a few iteration of data processing and data wrangling, it is a good idea to make sure which one is the current dataframe you want to store and load."
   ],
   "metadata": {
    "colab_type": "text",
    "id": "woEUWlYCY9h0",
    "application/vnd.databricks.v1+cell": {
     "showTitle": false,
     "cellMetadata": {},
     "nuid": "ab826d5b-dca5-41dd-be95-e2052bbf73fe",
     "inputWidgets": {},
     "title": ""
    }
   }
  },
  {
   "cell_type": "markdown",
   "source": [
    "## Your Turn: Q13: Check data integrity before loading"
   ],
   "metadata": {
    "colab_type": "text",
    "id": "gde50KFwZCyR",
    "application/vnd.databricks.v1+cell": {
     "showTitle": false,
     "cellMetadata": {},
     "nuid": "fbf4e691-0c5e-4d6f-939d-6c607a263cc7",
     "inputWidgets": {},
     "title": ""
    }
   }
  },
  {
   "cell_type": "code",
   "source": [
    "# TODO: Review the data frame you will like to store and load. Replace <FILL IN> with appropriate code\n",
    "\n",
    "print(logs_df.count())\n",
    "print(logs_df.columns)"
   ],
   "metadata": {
    "colab_type": "code",
    "id": "Jp9HtJDZZDgm",
    "application/vnd.databricks.v1+cell": {
     "showTitle": false,
     "cellMetadata": {},
     "nuid": "97f908f3-b950-485d-bad9-6e6f88cd8a70",
     "inputWidgets": {},
     "title": ""
    },
    "colab": {},
    "outputId": "d94fda2f-0e91-401a-eb33-dfa58e5b8f0d"
   },
   "outputs": [
    {
     "output_type": "display_data",
     "metadata": {
      "application/vnd.databricks.v1+output": {
       "datasetInfos": [],
       "data": "3461613\n['host', 'method', 'endpoint', 'protocol', 'status', 'content_size', 'time']\n",
       "removedWidgets": [],
       "addedWidgets": {},
       "metadata": {},
       "type": "ansi",
       "arguments": {}
      }
     },
     "data": {
      "text/plain": [
       "3461613\n['host', 'method', 'endpoint', 'protocol', 'status', 'content_size', 'time']\n"
      ]
     }
    }
   ],
   "execution_count": 0
  },
  {
   "cell_type": "markdown",
   "source": [
    "To save your dataframe in CSV file format, you call simply replace the name of the dataframe and assign file name in the following:"
   ],
   "metadata": {
    "colab_type": "text",
    "id": "6KT_ajIJZFsi",
    "application/vnd.databricks.v1+cell": {
     "showTitle": false,
     "cellMetadata": {},
     "nuid": "78c62109-ee23-4600-bebd-3bca925b4fe9",
     "inputWidgets": {},
     "title": ""
    }
   }
  },
  {
   "cell_type": "markdown",
   "source": [
    "## Your Turn: Q14: Save your data as a CSV file"
   ],
   "metadata": {
    "colab_type": "text",
    "id": "GuiBAZEqZJT1",
    "application/vnd.databricks.v1+cell": {
     "showTitle": false,
     "cellMetadata": {},
     "nuid": "45ba6a62-0dd6-4f4e-887c-29fadb9b337e",
     "inputWidgets": {},
     "title": ""
    }
   }
  },
  {
   "cell_type": "code",
   "source": [
    "# TODO: Review the data frame you will like to store and load. Replace <FILL IN> with appropriate code\n",
    "\n",
    "# new CSV write syntax\n",
    "#logs_df.write.save('logs_df.csv', format = 'csv')\n",
    "logs_df.write.mode('overwrite').csv('logs_df.csv')"
   ],
   "metadata": {
    "colab": {},
    "colab_type": "code",
    "id": "DHLpKGA7ZP8P",
    "application/vnd.databricks.v1+cell": {
     "showTitle": false,
     "cellMetadata": {},
     "nuid": "d97cfce5-ddfd-4a91-8e64-bf09a4e871c3",
     "inputWidgets": {},
     "title": ""
    }
   },
   "outputs": [
    {
     "output_type": "display_data",
     "metadata": {
      "application/vnd.databricks.v1+output": {
       "data": "\u001B[0;31m---------------------------------------------------------------------------\u001B[0m\n\u001B[0;31mPy4JJavaError\u001B[0m                             Traceback (most recent call last)\n\u001B[0;32m<command-2272545304683010>\u001B[0m in \u001B[0;36m<module>\u001B[0;34m\u001B[0m\n\u001B[1;32m      3\u001B[0m \u001B[0;31m# new CSV write syntax\u001B[0m\u001B[0;34m\u001B[0m\u001B[0;34m\u001B[0m\u001B[0;34m\u001B[0m\u001B[0m\n\u001B[1;32m      4\u001B[0m \u001B[0;31m#logs_df.write.save('logs_df.csv', format = 'csv')\u001B[0m\u001B[0;34m\u001B[0m\u001B[0;34m\u001B[0m\u001B[0;34m\u001B[0m\u001B[0m\n\u001B[0;32m----> 5\u001B[0;31m \u001B[0mlogs_df\u001B[0m\u001B[0;34m.\u001B[0m\u001B[0mwrite\u001B[0m\u001B[0;34m.\u001B[0m\u001B[0mmode\u001B[0m\u001B[0;34m(\u001B[0m\u001B[0;34m\"overwrite\"\u001B[0m\u001B[0;34m)\u001B[0m\u001B[0;34m.\u001B[0m\u001B[0mcsv\u001B[0m\u001B[0;34m(\u001B[0m\u001B[0;34m\"logs_df.csv\"\u001B[0m\u001B[0;34m)\u001B[0m\u001B[0;34m\u001B[0m\u001B[0;34m\u001B[0m\u001B[0m\n\u001B[0m\n\u001B[0;32m/databricks/spark/python/pyspark/sql/readwriter.py\u001B[0m in \u001B[0;36mcsv\u001B[0;34m(self, path, mode, compression, sep, quote, escape, header, nullValue, escapeQuotes, quoteAll, dateFormat, timestampFormat, ignoreLeadingWhiteSpace, ignoreTrailingWhiteSpace, charToEscapeQuoteEscaping, encoding, emptyValue, lineSep)\u001B[0m\n\u001B[1;32m    953\u001B[0m                        \u001B[0mcharToEscapeQuoteEscaping\u001B[0m\u001B[0;34m=\u001B[0m\u001B[0mcharToEscapeQuoteEscaping\u001B[0m\u001B[0;34m,\u001B[0m\u001B[0;34m\u001B[0m\u001B[0;34m\u001B[0m\u001B[0m\n\u001B[1;32m    954\u001B[0m                        encoding=encoding, emptyValue=emptyValue, lineSep=lineSep)\n\u001B[0;32m--> 955\u001B[0;31m         \u001B[0mself\u001B[0m\u001B[0;34m.\u001B[0m\u001B[0m_jwrite\u001B[0m\u001B[0;34m.\u001B[0m\u001B[0mcsv\u001B[0m\u001B[0;34m(\u001B[0m\u001B[0mpath\u001B[0m\u001B[0;34m)\u001B[0m\u001B[0;34m\u001B[0m\u001B[0;34m\u001B[0m\u001B[0m\n\u001B[0m\u001B[1;32m    956\u001B[0m \u001B[0;34m\u001B[0m\u001B[0m\n\u001B[1;32m    957\u001B[0m     \u001B[0;32mdef\u001B[0m \u001B[0morc\u001B[0m\u001B[0;34m(\u001B[0m\u001B[0mself\u001B[0m\u001B[0;34m,\u001B[0m \u001B[0mpath\u001B[0m\u001B[0;34m,\u001B[0m \u001B[0mmode\u001B[0m\u001B[0;34m=\u001B[0m\u001B[0;32mNone\u001B[0m\u001B[0;34m,\u001B[0m \u001B[0mpartitionBy\u001B[0m\u001B[0;34m=\u001B[0m\u001B[0;32mNone\u001B[0m\u001B[0;34m,\u001B[0m \u001B[0mcompression\u001B[0m\u001B[0;34m=\u001B[0m\u001B[0;32mNone\u001B[0m\u001B[0;34m)\u001B[0m\u001B[0;34m:\u001B[0m\u001B[0;34m\u001B[0m\u001B[0;34m\u001B[0m\u001B[0m\n\n\u001B[0;32m/databricks/spark/python/lib/py4j-0.10.9.1-src.zip/py4j/java_gateway.py\u001B[0m in \u001B[0;36m__call__\u001B[0;34m(self, *args)\u001B[0m\n\u001B[1;32m   1302\u001B[0m \u001B[0;34m\u001B[0m\u001B[0m\n\u001B[1;32m   1303\u001B[0m         \u001B[0manswer\u001B[0m \u001B[0;34m=\u001B[0m \u001B[0mself\u001B[0m\u001B[0;34m.\u001B[0m\u001B[0mgateway_client\u001B[0m\u001B[0;34m.\u001B[0m\u001B[0msend_command\u001B[0m\u001B[0;34m(\u001B[0m\u001B[0mcommand\u001B[0m\u001B[0;34m)\u001B[0m\u001B[0;34m\u001B[0m\u001B[0;34m\u001B[0m\u001B[0m\n\u001B[0;32m-> 1304\u001B[0;31m         return_value = get_return_value(\n\u001B[0m\u001B[1;32m   1305\u001B[0m             answer, self.gateway_client, self.target_id, self.name)\n\u001B[1;32m   1306\u001B[0m \u001B[0;34m\u001B[0m\u001B[0m\n\n\u001B[0;32m/databricks/spark/python/pyspark/sql/utils.py\u001B[0m in \u001B[0;36mdeco\u001B[0;34m(*a, **kw)\u001B[0m\n\u001B[1;32m    115\u001B[0m     \u001B[0;32mdef\u001B[0m \u001B[0mdeco\u001B[0m\u001B[0;34m(\u001B[0m\u001B[0;34m*\u001B[0m\u001B[0ma\u001B[0m\u001B[0;34m,\u001B[0m \u001B[0;34m**\u001B[0m\u001B[0mkw\u001B[0m\u001B[0;34m)\u001B[0m\u001B[0;34m:\u001B[0m\u001B[0;34m\u001B[0m\u001B[0;34m\u001B[0m\u001B[0m\n\u001B[1;32m    116\u001B[0m         \u001B[0;32mtry\u001B[0m\u001B[0;34m:\u001B[0m\u001B[0;34m\u001B[0m\u001B[0;34m\u001B[0m\u001B[0m\n\u001B[0;32m--> 117\u001B[0;31m             \u001B[0;32mreturn\u001B[0m \u001B[0mf\u001B[0m\u001B[0;34m(\u001B[0m\u001B[0;34m*\u001B[0m\u001B[0ma\u001B[0m\u001B[0;34m,\u001B[0m \u001B[0;34m**\u001B[0m\u001B[0mkw\u001B[0m\u001B[0;34m)\u001B[0m\u001B[0;34m\u001B[0m\u001B[0;34m\u001B[0m\u001B[0m\n\u001B[0m\u001B[1;32m    118\u001B[0m         \u001B[0;32mexcept\u001B[0m \u001B[0mpy4j\u001B[0m\u001B[0;34m.\u001B[0m\u001B[0mprotocol\u001B[0m\u001B[0;34m.\u001B[0m\u001B[0mPy4JJavaError\u001B[0m \u001B[0;32mas\u001B[0m \u001B[0me\u001B[0m\u001B[0;34m:\u001B[0m\u001B[0;34m\u001B[0m\u001B[0;34m\u001B[0m\u001B[0m\n\u001B[1;32m    119\u001B[0m             \u001B[0mconverted\u001B[0m \u001B[0;34m=\u001B[0m \u001B[0mconvert_exception\u001B[0m\u001B[0;34m(\u001B[0m\u001B[0me\u001B[0m\u001B[0;34m.\u001B[0m\u001B[0mjava_exception\u001B[0m\u001B[0;34m)\u001B[0m\u001B[0;34m\u001B[0m\u001B[0;34m\u001B[0m\u001B[0m\n\n\u001B[0;32m/databricks/spark/python/lib/py4j-0.10.9.1-src.zip/py4j/protocol.py\u001B[0m in \u001B[0;36mget_return_value\u001B[0;34m(answer, gateway_client, target_id, name)\u001B[0m\n\u001B[1;32m    324\u001B[0m             \u001B[0mvalue\u001B[0m \u001B[0;34m=\u001B[0m \u001B[0mOUTPUT_CONVERTER\u001B[0m\u001B[0;34m[\u001B[0m\u001B[0mtype\u001B[0m\u001B[0;34m]\u001B[0m\u001B[0;34m(\u001B[0m\u001B[0manswer\u001B[0m\u001B[0;34m[\u001B[0m\u001B[0;36m2\u001B[0m\u001B[0;34m:\u001B[0m\u001B[0;34m]\u001B[0m\u001B[0;34m,\u001B[0m \u001B[0mgateway_client\u001B[0m\u001B[0;34m)\u001B[0m\u001B[0;34m\u001B[0m\u001B[0;34m\u001B[0m\u001B[0m\n\u001B[1;32m    325\u001B[0m             \u001B[0;32mif\u001B[0m \u001B[0manswer\u001B[0m\u001B[0;34m[\u001B[0m\u001B[0;36m1\u001B[0m\u001B[0;34m]\u001B[0m \u001B[0;34m==\u001B[0m \u001B[0mREFERENCE_TYPE\u001B[0m\u001B[0;34m:\u001B[0m\u001B[0;34m\u001B[0m\u001B[0;34m\u001B[0m\u001B[0m\n\u001B[0;32m--> 326\u001B[0;31m                 raise Py4JJavaError(\n\u001B[0m\u001B[1;32m    327\u001B[0m                     \u001B[0;34m\"An error occurred while calling {0}{1}{2}.\\n\"\u001B[0m\u001B[0;34m.\u001B[0m\u001B[0;34m\u001B[0m\u001B[0;34m\u001B[0m\u001B[0m\n\u001B[1;32m    328\u001B[0m                     format(target_id, \".\", name), value)\n\n\u001B[0;31mPy4JJavaError\u001B[0m: An error occurred while calling o6395.csv.\n: org.apache.spark.SparkException: Job aborted.\n\tat org.apache.spark.sql.errors.QueryExecutionErrors$.jobAbortedError(QueryExecutionErrors.scala:606)\n\tat org.apache.spark.sql.execution.datasources.FileFormatWriter$.write(FileFormatWriter.scala:360)\n\tat org.apache.spark.sql.execution.datasources.InsertIntoHadoopFsRelationCommand.run(InsertIntoHadoopFsRelationCommand.scala:198)\n\tat org.apache.spark.sql.execution.command.DataWritingCommandExec.sideEffectResult$lzycompute(commands.scala:126)\n\tat org.apache.spark.sql.execution.command.DataWritingCommandExec.sideEffectResult(commands.scala:124)\n\tat org.apache.spark.sql.execution.command.DataWritingCommandExec.executeCollect(commands.scala:138)\n\tat org.apache.spark.sql.execution.QueryExecution$$anonfun$$nestedInanonfun$eagerlyExecuteCommands$1$1.$anonfun$applyOrElse$1(QueryExecution.scala:160)\n\tat org.apache.spark.sql.execution.SQLExecution$.$anonfun$withCustomExecutionEnv$8(SQLExecution.scala:239)\n\tat org.apache.spark.sql.execution.SQLExecution$.withSQLConfPropagated(SQLExecution.scala:386)\n\tat org.apache.spark.sql.execution.SQLExecution$.$anonfun$withCustomExecutionEnv$1(SQLExecution.scala:186)\n\tat org.apache.spark.sql.SparkSession.withActive(SparkSession.scala:968)\n\tat org.apache.spark.sql.execution.SQLExecution$.withCustomExecutionEnv(SQLExecution.scala:141)\n\tat org.apache.spark.sql.execution.SQLExecution$.withNewExecutionId(SQLExecution.scala:336)\n\tat org.apache.spark.sql.execution.QueryExecution$$anonfun$$nestedInanonfun$eagerlyExecuteCommands$1$1.applyOrElse(QueryExecution.scala:160)\n\tat org.apache.spark.sql.execution.QueryExecution$$anonfun$$nestedInanonfun$eagerlyExecuteCommands$1$1.applyOrElse(QueryExecution.scala:156)\n\tat org.apache.spark.sql.catalyst.trees.TreeNode.$anonfun$transformDownWithPruning$1(TreeNode.scala:575)\n\tat org.apache.spark.sql.catalyst.trees.CurrentOrigin$.withOrigin(TreeNode.scala:167)\n\tat org.apache.spark.sql.catalyst.trees.TreeNode.transformDownWithPruning(TreeNode.scala:575)\n\tat org.apache.spark.sql.catalyst.plans.logical.LogicalPlan.org$apache$spark$sql$catalyst$plans$logical$AnalysisHelper$$super$transformDownWithPruning(LogicalPlan.scala:30)\n\tat org.apache.spark.sql.catalyst.plans.logical.AnalysisHelper.transformDownWithPruning(AnalysisHelper.scala:268)\n\tat org.apache.spark.sql.catalyst.plans.logical.AnalysisHelper.transformDownWithPruning$(AnalysisHelper.scala:264)\n\tat org.apache.spark.sql.catalyst.plans.logical.LogicalPlan.transformDownWithPruning(LogicalPlan.scala:30)\n\tat org.apache.spark.sql.catalyst.plans.logical.LogicalPlan.transformDownWithPruning(LogicalPlan.scala:30)\n\tat org.apache.spark.sql.catalyst.trees.TreeNode.transformDown(TreeNode.scala:551)\n\tat org.apache.spark.sql.execution.QueryExecution.$anonfun$eagerlyExecuteCommands$1(QueryExecution.scala:156)\n\tat org.apache.spark.sql.catalyst.plans.logical.AnalysisHelper$.allowInvokingTransformsInAnalyzer(AnalysisHelper.scala:324)\n\tat org.apache.spark.sql.execution.QueryExecution.eagerlyExecuteCommands(QueryExecution.scala:156)\n\tat org.apache.spark.sql.execution.QueryExecution.commandExecuted$lzycompute(QueryExecution.scala:141)\n\tat org.apache.spark.sql.execution.QueryExecution.commandExecuted(QueryExecution.scala:132)\n\tat org.apache.spark.sql.execution.QueryExecution.assertCommandExecuted(QueryExecution.scala:186)\n\tat org.apache.spark.sql.DataFrameWriter.runCommand(DataFrameWriter.scala:959)\n\tat org.apache.spark.sql.DataFrameWriter.saveToV1Source(DataFrameWriter.scala:427)\n\tat org.apache.spark.sql.DataFrameWriter.saveInternal(DataFrameWriter.scala:396)\n\tat org.apache.spark.sql.DataFrameWriter.save(DataFrameWriter.scala:250)\n\tat org.apache.spark.sql.DataFrameWriter.csv(DataFrameWriter.scala:950)\n\tat sun.reflect.NativeMethodAccessorImpl.invoke0(Native Method)\n\tat sun.reflect.NativeMethodAccessorImpl.invoke(NativeMethodAccessorImpl.java:62)\n\tat sun.reflect.DelegatingMethodAccessorImpl.invoke(DelegatingMethodAccessorImpl.java:43)\n\tat java.lang.reflect.Method.invoke(Method.java:498)\n\tat py4j.reflection.MethodInvoker.invoke(MethodInvoker.java:244)\n\tat py4j.reflection.ReflectionEngine.invoke(ReflectionEngine.java:380)\n\tat py4j.Gateway.invoke(Gateway.java:295)\n\tat py4j.commands.AbstractCommand.invokeMethod(AbstractCommand.java:132)\n\tat py4j.commands.CallCommand.execute(CallCommand.java:79)\n\tat py4j.GatewayConnection.run(GatewayConnection.java:251)\n\tat java.lang.Thread.run(Thread.java:748)\nCaused by: org.apache.spark.SparkException: Job aborted due to stage failure: Task 7 in stage 201.0 failed 1 times, most recent failure: Lost task 7.0 in stage 201.0 (TID 2437) (ip-10-172-242-42.us-west-2.compute.internal executor driver): org.apache.spark.SparkException: Task failed while writing rows.\n\tat org.apache.spark.sql.errors.QueryExecutionErrors$.taskFailedWhileWritingRowsError(QueryExecutionErrors.scala:610)\n\tat org.apache.spark.sql.execution.datasources.FileFormatWriter$.executeTask(FileFormatWriter.scala:457)\n\tat org.apache.spark.sql.execution.datasources.FileFormatWriter$.$anonfun$write$20(FileFormatWriter.scala:336)\n\tat org.apache.spark.scheduler.ResultTask.$anonfun$runTask$3(ResultTask.scala:75)\n\tat com.databricks.spark.util.ExecutorFrameProfiler$.record(ExecutorFrameProfiler.scala:110)\n\tat org.apache.spark.scheduler.ResultTask.$anonfun$runTask$1(ResultTask.scala:75)\n\tat com.databricks.spark.util.ExecutorFrameProfiler$.record(ExecutorFrameProfiler.scala:110)\n\tat org.apache.spark.scheduler.ResultTask.runTask(ResultTask.scala:55)\n\tat org.apache.spark.scheduler.Task.doRunTask(Task.scala:156)\n\tat org.apache.spark.scheduler.Task.$anonfun$run$1(Task.scala:125)\n\tat com.databricks.spark.util.ExecutorFrameProfiler$.record(ExecutorFrameProfiler.scala:110)\n\tat org.apache.spark.scheduler.Task.run(Task.scala:95)\n\tat org.apache.spark.executor.Executor$TaskRunner.$anonfun$run$13(Executor.scala:832)\n\tat org.apache.spark.util.Utils$.tryWithSafeFinally(Utils.scala:1681)\n\tat org.apache.spark.executor.Executor$TaskRunner.$anonfun$run$4(Executor.scala:835)\n\tat scala.runtime.java8.JFunction0$mcV$sp.apply(JFunction0$mcV$sp.java:23)\n\tat com.databricks.spark.util.ExecutorFrameProfiler$.record(ExecutorFrameProfiler.scala:110)\n\tat org.apache.spark.executor.Executor$TaskRunner.run(Executor.scala:690)\n\tat java.util.concurrent.ThreadPoolExecutor.runWorker(ThreadPoolExecutor.java:1149)\n\tat java.util.concurrent.ThreadPoolExecutor$Worker.run(ThreadPoolExecutor.java:624)\n\tat java.lang.Thread.run(Thread.java:748)\nCaused by: org.apache.spark.api.python.PythonException: 'ValueError: invalid literal for int() with base 10: ''', from <command-2272545304682958>, line 17. Full traceback below:\nTraceback (most recent call last):\n  File \"<command-2272545304682958>\", line 17, in parse_clf_time\nValueError: invalid literal for int() with base 10: ''\n\n\tat org.apache.spark.api.python.BasePythonRunner$ReaderIterator.handlePythonException(PythonRunner.scala:694)\n\tat org.apache.spark.sql.execution.python.PythonUDFRunner$$anon$2.read(PythonUDFRunner.scala:86)\n\tat org.apache.spark.sql.execution.python.PythonUDFRunner$$anon$2.read(PythonUDFRunner.scala:68)\n\tat org.apache.spark.api.python.BasePythonRunner$ReaderIterator.hasNext(PythonRunner.scala:647)\n\tat org.apache.spark.InterruptibleIterator.hasNext(InterruptibleIterator.scala:37)\n\tat scala.collection.Iterator$$anon$11.hasNext(Iterator.scala:491)\n\tat scala.collection.Iterator$$anon$10.hasNext(Iterator.scala:460)\n\tat scala.collection.Iterator$$anon$10.hasNext(Iterator.scala:460)\n\tat org.apache.spark.sql.catalyst.expressions.GeneratedClass$GeneratedIteratorForCodegenStage2.processNext(Unknown Source)\n\tat org.apache.spark.sql.execution.BufferedRowIterator.hasNext(BufferedRowIterator.java:43)\n\tat org.apache.spark.sql.execution.WholeStageCodegenExec$$anon$1.hasNext(WholeStageCodegenExec.scala:759)\n\tat org.apache.spark.sql.execution.datasources.FileFormatDataWriter.writeWithIterator(FileFormatDataWriter.scala:90)\n\tat org.apache.spark.sql.execution.datasources.FileFormatWriter$.$anonfun$executeTask$2(FileFormatWriter.scala:437)\n\tat org.apache.spark.util.Utils$.tryWithSafeFinallyAndFailureCallbacks(Utils.scala:1715)\n\tat org.apache.spark.sql.execution.datasources.FileFormatWriter$.executeTask(FileFormatWriter.scala:444)\n\t... 19 more\n\nDriver stacktrace:\n\tat org.apache.spark.scheduler.DAGScheduler.failJobAndIndependentStages(DAGScheduler.scala:3029)\n\tat org.apache.spark.scheduler.DAGScheduler.$anonfun$abortStage$2(DAGScheduler.scala:2976)\n\tat org.apache.spark.scheduler.DAGScheduler.$anonfun$abortStage$2$adapted(DAGScheduler.scala:2970)\n\tat scala.collection.mutable.ResizableArray.foreach(ResizableArray.scala:62)\n\tat scala.collection.mutable.ResizableArray.foreach$(ResizableArray.scala:55)\n\tat scala.collection.mutable.ArrayBuffer.foreach(ArrayBuffer.scala:49)\n\tat org.apache.spark.scheduler.DAGScheduler.abortStage(DAGScheduler.scala:2970)\n\tat org.apache.spark.scheduler.DAGScheduler.$anonfun$handleTaskSetFailed$1(DAGScheduler.scala:1390)\n\tat org.apache.spark.scheduler.DAGScheduler.$anonfun$handleTaskSetFailed$1$adapted(DAGScheduler.scala:1390)\n\tat scala.Option.foreach(Option.scala:407)\n\tat org.apache.spark.scheduler.DAGScheduler.handleTaskSetFailed(DAGScheduler.scala:1390)\n\tat org.apache.spark.scheduler.DAGSchedulerEventProcessLoop.doOnReceive(DAGScheduler.scala:3238)\n\tat org.apache.spark.scheduler.DAGSchedulerEventProcessLoop.onReceive(DAGScheduler.scala:3179)\n\tat org.apache.spark.scheduler.DAGSchedulerEventProcessLoop.onReceive(DAGScheduler.scala:3167)\n\tat org.apache.spark.util.EventLoop$$anon$1.run(EventLoop.scala:49)\n\tat org.apache.spark.scheduler.DAGScheduler.runJob(DAGScheduler.scala:1152)\n\tat org.apache.spark.SparkContext.runJobInternal(SparkContext.scala:2657)\n\tat org.apache.spark.SparkContext.runJob(SparkContext.scala:2640)\n\tat org.apache.spark.sql.execution.datasources.FileFormatWriter$.write(FileFormatWriter.scala:325)\n\t... 44 more\nCaused by: org.apache.spark.SparkException: Task failed while writing rows.\n\tat org.apache.spark.sql.errors.QueryExecutionErrors$.taskFailedWhileWritingRowsError(QueryExecutionErrors.scala:610)\n\tat org.apache.spark.sql.execution.datasources.FileFormatWriter$.executeTask(FileFormatWriter.scala:457)\n\tat org.apache.spark.sql.execution.datasources.FileFormatWriter$.$anonfun$write$20(FileFormatWriter.scala:336)\n\tat org.apache.spark.scheduler.ResultTask.$anonfun$runTask$3(ResultTask.scala:75)\n\tat com.databricks.spark.util.ExecutorFrameProfiler$.record(ExecutorFrameProfiler.scala:110)\n\tat org.apache.spark.scheduler.ResultTask.$anonfun$runTask$1(ResultTask.scala:75)\n\tat com.databricks.spark.util.ExecutorFrameProfiler$.record(ExecutorFrameProfiler.scala:110)\n\tat org.apache.spark.scheduler.ResultTask.runTask(ResultTask.scala:55)\n\tat org.apache.spark.scheduler.Task.doRunTask(Task.scala:156)\n\tat org.apache.spark.scheduler.Task.$anonfun$run$1(Task.scala:125)\n\tat com.databricks.spark.util.ExecutorFrameProfiler$.record(ExecutorFrameProfiler.scala:110)\n\tat org.apache.spark.scheduler.Task.run(Task.scala:95)\n\tat org.apache.spark.executor.Executor$TaskRunner.$anonfun$run$13(Executor.scala:832)\n\tat org.apache.spark.util.Utils$.tryWithSafeFinally(Utils.scala:1681)\n\tat org.apache.spark.executor.Executor$TaskRunner.$anonfun$run$4(Executor.scala:835)\n\tat scala.runtime.java8.JFunction0$mcV$sp.apply(JFunction0$mcV$sp.java:23)\n\tat com.databricks.spark.util.ExecutorFrameProfiler$.record(ExecutorFrameProfiler.scala:110)\n\tat org.apache.spark.executor.Executor$TaskRunner.run(Executor.scala:690)\n\tat java.util.concurrent.ThreadPoolExecutor.runWorker(ThreadPoolExecutor.java:1149)\n\tat java.util.concurrent.ThreadPoolExecutor$Worker.run(ThreadPoolExecutor.java:624)\n\t... 1 more\nCaused by: org.apache.spark.api.python.PythonException: 'ValueError: invalid literal for int() with base 10: ''', from <command-2272545304682958>, line 17. Full traceback below:\nTraceback (most recent call last):\n  File \"<command-2272545304682958>\", line 17, in parse_clf_time\nValueError: invalid literal for int() with base 10: ''\n\n\tat org.apache.spark.api.python.BasePythonRunner$ReaderIterator.handlePythonException(PythonRunner.scala:694)\n\tat org.apache.spark.sql.execution.python.PythonUDFRunner$$anon$2.read(PythonUDFRunner.scala:86)\n\tat org.apache.spark.sql.execution.python.PythonUDFRunner$$anon$2.read(PythonUDFRunner.scala:68)\n\tat org.apache.spark.api.python.BasePythonRunner$ReaderIterator.hasNext(PythonRunner.scala:647)\n\tat org.apache.spark.InterruptibleIterator.hasNext(InterruptibleIterator.scala:37)\n\tat scala.collection.Iterator$$anon$11.hasNext(Iterator.scala:491)\n\tat scala.collection.Iterator$$anon$10.hasNext(Iterator.scala:460)\n\tat scala.collection.Iterator$$anon$10.hasNext(Iterator.scala:460)\n\tat org.apache.spark.sql.catalyst.expressions.GeneratedClass$GeneratedIteratorForCodegenStage2.processNext(Unknown Source)\n\tat org.apache.spark.sql.execution.BufferedRowIterator.hasNext(BufferedRowIterator.java:43)\n\tat org.apache.spark.sql.execution.WholeStageCodegenExec$$anon$1.hasNext(WholeStageCodegenExec.scala:759)\n\tat org.apache.spark.sql.execution.datasources.FileFormatDataWriter.writeWithIterator(FileFormatDataWriter.scala:90)\n\tat org.apache.spark.sql.execution.datasources.FileFormatWriter$.$anonfun$executeTask$2(FileFormatWriter.scala:437)\n\tat org.apache.spark.util.Utils$.tryWithSafeFinallyAndFailureCallbacks(Utils.scala:1715)\n\tat org.apache.spark.sql.execution.datasources.FileFormatWriter$.executeTask(FileFormatWriter.scala:444)\n\t... 19 more\n",
       "errorSummary": "org.apache.spark.SparkException: Job aborted.",
       "metadata": {},
       "errorTraceType": "ansi",
       "type": "ipynbError",
       "arguments": {}
      }
     },
     "data": {
      "text/plain": [
       "\u001B[0;31m---------------------------------------------------------------------------\u001B[0m\n\u001B[0;31mPy4JJavaError\u001B[0m                             Traceback (most recent call last)\n\u001B[0;32m<command-2272545304683010>\u001B[0m in \u001B[0;36m<module>\u001B[0;34m\u001B[0m\n\u001B[1;32m      3\u001B[0m \u001B[0;31m# new CSV write syntax\u001B[0m\u001B[0;34m\u001B[0m\u001B[0;34m\u001B[0m\u001B[0;34m\u001B[0m\u001B[0m\n\u001B[1;32m      4\u001B[0m \u001B[0;31m#logs_df.write.save('logs_df.csv', format = 'csv')\u001B[0m\u001B[0;34m\u001B[0m\u001B[0;34m\u001B[0m\u001B[0;34m\u001B[0m\u001B[0m\n\u001B[0;32m----> 5\u001B[0;31m \u001B[0mlogs_df\u001B[0m\u001B[0;34m.\u001B[0m\u001B[0mwrite\u001B[0m\u001B[0;34m.\u001B[0m\u001B[0mmode\u001B[0m\u001B[0;34m(\u001B[0m\u001B[0;34m\"overwrite\"\u001B[0m\u001B[0;34m)\u001B[0m\u001B[0;34m.\u001B[0m\u001B[0mcsv\u001B[0m\u001B[0;34m(\u001B[0m\u001B[0;34m\"logs_df.csv\"\u001B[0m\u001B[0;34m)\u001B[0m\u001B[0;34m\u001B[0m\u001B[0;34m\u001B[0m\u001B[0m\n\u001B[0m\n\u001B[0;32m/databricks/spark/python/pyspark/sql/readwriter.py\u001B[0m in \u001B[0;36mcsv\u001B[0;34m(self, path, mode, compression, sep, quote, escape, header, nullValue, escapeQuotes, quoteAll, dateFormat, timestampFormat, ignoreLeadingWhiteSpace, ignoreTrailingWhiteSpace, charToEscapeQuoteEscaping, encoding, emptyValue, lineSep)\u001B[0m\n\u001B[1;32m    953\u001B[0m                        \u001B[0mcharToEscapeQuoteEscaping\u001B[0m\u001B[0;34m=\u001B[0m\u001B[0mcharToEscapeQuoteEscaping\u001B[0m\u001B[0;34m,\u001B[0m\u001B[0;34m\u001B[0m\u001B[0;34m\u001B[0m\u001B[0m\n\u001B[1;32m    954\u001B[0m                        encoding=encoding, emptyValue=emptyValue, lineSep=lineSep)\n\u001B[0;32m--> 955\u001B[0;31m         \u001B[0mself\u001B[0m\u001B[0;34m.\u001B[0m\u001B[0m_jwrite\u001B[0m\u001B[0;34m.\u001B[0m\u001B[0mcsv\u001B[0m\u001B[0;34m(\u001B[0m\u001B[0mpath\u001B[0m\u001B[0;34m)\u001B[0m\u001B[0;34m\u001B[0m\u001B[0;34m\u001B[0m\u001B[0m\n\u001B[0m\u001B[1;32m    956\u001B[0m \u001B[0;34m\u001B[0m\u001B[0m\n\u001B[1;32m    957\u001B[0m     \u001B[0;32mdef\u001B[0m \u001B[0morc\u001B[0m\u001B[0;34m(\u001B[0m\u001B[0mself\u001B[0m\u001B[0;34m,\u001B[0m \u001B[0mpath\u001B[0m\u001B[0;34m,\u001B[0m \u001B[0mmode\u001B[0m\u001B[0;34m=\u001B[0m\u001B[0;32mNone\u001B[0m\u001B[0;34m,\u001B[0m \u001B[0mpartitionBy\u001B[0m\u001B[0;34m=\u001B[0m\u001B[0;32mNone\u001B[0m\u001B[0;34m,\u001B[0m \u001B[0mcompression\u001B[0m\u001B[0;34m=\u001B[0m\u001B[0;32mNone\u001B[0m\u001B[0;34m)\u001B[0m\u001B[0;34m:\u001B[0m\u001B[0;34m\u001B[0m\u001B[0;34m\u001B[0m\u001B[0m\n\n\u001B[0;32m/databricks/spark/python/lib/py4j-0.10.9.1-src.zip/py4j/java_gateway.py\u001B[0m in \u001B[0;36m__call__\u001B[0;34m(self, *args)\u001B[0m\n\u001B[1;32m   1302\u001B[0m \u001B[0;34m\u001B[0m\u001B[0m\n\u001B[1;32m   1303\u001B[0m         \u001B[0manswer\u001B[0m \u001B[0;34m=\u001B[0m \u001B[0mself\u001B[0m\u001B[0;34m.\u001B[0m\u001B[0mgateway_client\u001B[0m\u001B[0;34m.\u001B[0m\u001B[0msend_command\u001B[0m\u001B[0;34m(\u001B[0m\u001B[0mcommand\u001B[0m\u001B[0;34m)\u001B[0m\u001B[0;34m\u001B[0m\u001B[0;34m\u001B[0m\u001B[0m\n\u001B[0;32m-> 1304\u001B[0;31m         return_value = get_return_value(\n\u001B[0m\u001B[1;32m   1305\u001B[0m             answer, self.gateway_client, self.target_id, self.name)\n\u001B[1;32m   1306\u001B[0m \u001B[0;34m\u001B[0m\u001B[0m\n\n\u001B[0;32m/databricks/spark/python/pyspark/sql/utils.py\u001B[0m in \u001B[0;36mdeco\u001B[0;34m(*a, **kw)\u001B[0m\n\u001B[1;32m    115\u001B[0m     \u001B[0;32mdef\u001B[0m \u001B[0mdeco\u001B[0m\u001B[0;34m(\u001B[0m\u001B[0;34m*\u001B[0m\u001B[0ma\u001B[0m\u001B[0;34m,\u001B[0m \u001B[0;34m**\u001B[0m\u001B[0mkw\u001B[0m\u001B[0;34m)\u001B[0m\u001B[0;34m:\u001B[0m\u001B[0;34m\u001B[0m\u001B[0;34m\u001B[0m\u001B[0m\n\u001B[1;32m    116\u001B[0m         \u001B[0;32mtry\u001B[0m\u001B[0;34m:\u001B[0m\u001B[0;34m\u001B[0m\u001B[0;34m\u001B[0m\u001B[0m\n\u001B[0;32m--> 117\u001B[0;31m             \u001B[0;32mreturn\u001B[0m \u001B[0mf\u001B[0m\u001B[0;34m(\u001B[0m\u001B[0;34m*\u001B[0m\u001B[0ma\u001B[0m\u001B[0;34m,\u001B[0m \u001B[0;34m**\u001B[0m\u001B[0mkw\u001B[0m\u001B[0;34m)\u001B[0m\u001B[0;34m\u001B[0m\u001B[0;34m\u001B[0m\u001B[0m\n\u001B[0m\u001B[1;32m    118\u001B[0m         \u001B[0;32mexcept\u001B[0m \u001B[0mpy4j\u001B[0m\u001B[0;34m.\u001B[0m\u001B[0mprotocol\u001B[0m\u001B[0;34m.\u001B[0m\u001B[0mPy4JJavaError\u001B[0m \u001B[0;32mas\u001B[0m \u001B[0me\u001B[0m\u001B[0;34m:\u001B[0m\u001B[0;34m\u001B[0m\u001B[0;34m\u001B[0m\u001B[0m\n\u001B[1;32m    119\u001B[0m             \u001B[0mconverted\u001B[0m \u001B[0;34m=\u001B[0m \u001B[0mconvert_exception\u001B[0m\u001B[0;34m(\u001B[0m\u001B[0me\u001B[0m\u001B[0;34m.\u001B[0m\u001B[0mjava_exception\u001B[0m\u001B[0;34m)\u001B[0m\u001B[0;34m\u001B[0m\u001B[0;34m\u001B[0m\u001B[0m\n\n\u001B[0;32m/databricks/spark/python/lib/py4j-0.10.9.1-src.zip/py4j/protocol.py\u001B[0m in \u001B[0;36mget_return_value\u001B[0;34m(answer, gateway_client, target_id, name)\u001B[0m\n\u001B[1;32m    324\u001B[0m             \u001B[0mvalue\u001B[0m \u001B[0;34m=\u001B[0m \u001B[0mOUTPUT_CONVERTER\u001B[0m\u001B[0;34m[\u001B[0m\u001B[0mtype\u001B[0m\u001B[0;34m]\u001B[0m\u001B[0;34m(\u001B[0m\u001B[0manswer\u001B[0m\u001B[0;34m[\u001B[0m\u001B[0;36m2\u001B[0m\u001B[0;34m:\u001B[0m\u001B[0;34m]\u001B[0m\u001B[0;34m,\u001B[0m \u001B[0mgateway_client\u001B[0m\u001B[0;34m)\u001B[0m\u001B[0;34m\u001B[0m\u001B[0;34m\u001B[0m\u001B[0m\n\u001B[1;32m    325\u001B[0m             \u001B[0;32mif\u001B[0m \u001B[0manswer\u001B[0m\u001B[0;34m[\u001B[0m\u001B[0;36m1\u001B[0m\u001B[0;34m]\u001B[0m \u001B[0;34m==\u001B[0m \u001B[0mREFERENCE_TYPE\u001B[0m\u001B[0;34m:\u001B[0m\u001B[0;34m\u001B[0m\u001B[0;34m\u001B[0m\u001B[0m\n\u001B[0;32m--> 326\u001B[0;31m                 raise Py4JJavaError(\n\u001B[0m\u001B[1;32m    327\u001B[0m                     \u001B[0;34m\"An error occurred while calling {0}{1}{2}.\\n\"\u001B[0m\u001B[0;34m.\u001B[0m\u001B[0;34m\u001B[0m\u001B[0;34m\u001B[0m\u001B[0m\n\u001B[1;32m    328\u001B[0m                     format(target_id, \".\", name), value)\n\n\u001B[0;31mPy4JJavaError\u001B[0m: An error occurred while calling o6395.csv.\n: org.apache.spark.SparkException: Job aborted.\n\tat org.apache.spark.sql.errors.QueryExecutionErrors$.jobAbortedError(QueryExecutionErrors.scala:606)\n\tat org.apache.spark.sql.execution.datasources.FileFormatWriter$.write(FileFormatWriter.scala:360)\n\tat org.apache.spark.sql.execution.datasources.InsertIntoHadoopFsRelationCommand.run(InsertIntoHadoopFsRelationCommand.scala:198)\n\tat org.apache.spark.sql.execution.command.DataWritingCommandExec.sideEffectResult$lzycompute(commands.scala:126)\n\tat org.apache.spark.sql.execution.command.DataWritingCommandExec.sideEffectResult(commands.scala:124)\n\tat org.apache.spark.sql.execution.command.DataWritingCommandExec.executeCollect(commands.scala:138)\n\tat org.apache.spark.sql.execution.QueryExecution$$anonfun$$nestedInanonfun$eagerlyExecuteCommands$1$1.$anonfun$applyOrElse$1(QueryExecution.scala:160)\n\tat org.apache.spark.sql.execution.SQLExecution$.$anonfun$withCustomExecutionEnv$8(SQLExecution.scala:239)\n\tat org.apache.spark.sql.execution.SQLExecution$.withSQLConfPropagated(SQLExecution.scala:386)\n\tat org.apache.spark.sql.execution.SQLExecution$.$anonfun$withCustomExecutionEnv$1(SQLExecution.scala:186)\n\tat org.apache.spark.sql.SparkSession.withActive(SparkSession.scala:968)\n\tat org.apache.spark.sql.execution.SQLExecution$.withCustomExecutionEnv(SQLExecution.scala:141)\n\tat org.apache.spark.sql.execution.SQLExecution$.withNewExecutionId(SQLExecution.scala:336)\n\tat org.apache.spark.sql.execution.QueryExecution$$anonfun$$nestedInanonfun$eagerlyExecuteCommands$1$1.applyOrElse(QueryExecution.scala:160)\n\tat org.apache.spark.sql.execution.QueryExecution$$anonfun$$nestedInanonfun$eagerlyExecuteCommands$1$1.applyOrElse(QueryExecution.scala:156)\n\tat org.apache.spark.sql.catalyst.trees.TreeNode.$anonfun$transformDownWithPruning$1(TreeNode.scala:575)\n\tat org.apache.spark.sql.catalyst.trees.CurrentOrigin$.withOrigin(TreeNode.scala:167)\n\tat org.apache.spark.sql.catalyst.trees.TreeNode.transformDownWithPruning(TreeNode.scala:575)\n\tat org.apache.spark.sql.catalyst.plans.logical.LogicalPlan.org$apache$spark$sql$catalyst$plans$logical$AnalysisHelper$$super$transformDownWithPruning(LogicalPlan.scala:30)\n\tat org.apache.spark.sql.catalyst.plans.logical.AnalysisHelper.transformDownWithPruning(AnalysisHelper.scala:268)\n\tat org.apache.spark.sql.catalyst.plans.logical.AnalysisHelper.transformDownWithPruning$(AnalysisHelper.scala:264)\n\tat org.apache.spark.sql.catalyst.plans.logical.LogicalPlan.transformDownWithPruning(LogicalPlan.scala:30)\n\tat org.apache.spark.sql.catalyst.plans.logical.LogicalPlan.transformDownWithPruning(LogicalPlan.scala:30)\n\tat org.apache.spark.sql.catalyst.trees.TreeNode.transformDown(TreeNode.scala:551)\n\tat org.apache.spark.sql.execution.QueryExecution.$anonfun$eagerlyExecuteCommands$1(QueryExecution.scala:156)\n\tat org.apache.spark.sql.catalyst.plans.logical.AnalysisHelper$.allowInvokingTransformsInAnalyzer(AnalysisHelper.scala:324)\n\tat org.apache.spark.sql.execution.QueryExecution.eagerlyExecuteCommands(QueryExecution.scala:156)\n\tat org.apache.spark.sql.execution.QueryExecution.commandExecuted$lzycompute(QueryExecution.scala:141)\n\tat org.apache.spark.sql.execution.QueryExecution.commandExecuted(QueryExecution.scala:132)\n\tat org.apache.spark.sql.execution.QueryExecution.assertCommandExecuted(QueryExecution.scala:186)\n\tat org.apache.spark.sql.DataFrameWriter.runCommand(DataFrameWriter.scala:959)\n\tat org.apache.spark.sql.DataFrameWriter.saveToV1Source(DataFrameWriter.scala:427)\n\tat org.apache.spark.sql.DataFrameWriter.saveInternal(DataFrameWriter.scala:396)\n\tat org.apache.spark.sql.DataFrameWriter.save(DataFrameWriter.scala:250)\n\tat org.apache.spark.sql.DataFrameWriter.csv(DataFrameWriter.scala:950)\n\tat sun.reflect.NativeMethodAccessorImpl.invoke0(Native Method)\n\tat sun.reflect.NativeMethodAccessorImpl.invoke(NativeMethodAccessorImpl.java:62)\n\tat sun.reflect.DelegatingMethodAccessorImpl.invoke(DelegatingMethodAccessorImpl.java:43)\n\tat java.lang.reflect.Method.invoke(Method.java:498)\n\tat py4j.reflection.MethodInvoker.invoke(MethodInvoker.java:244)\n\tat py4j.reflection.ReflectionEngine.invoke(ReflectionEngine.java:380)\n\tat py4j.Gateway.invoke(Gateway.java:295)\n\tat py4j.commands.AbstractCommand.invokeMethod(AbstractCommand.java:132)\n\tat py4j.commands.CallCommand.execute(CallCommand.java:79)\n\tat py4j.GatewayConnection.run(GatewayConnection.java:251)\n\tat java.lang.Thread.run(Thread.java:748)\nCaused by: org.apache.spark.SparkException: Job aborted due to stage failure: Task 7 in stage 201.0 failed 1 times, most recent failure: Lost task 7.0 in stage 201.0 (TID 2437) (ip-10-172-242-42.us-west-2.compute.internal executor driver): org.apache.spark.SparkException: Task failed while writing rows.\n\tat org.apache.spark.sql.errors.QueryExecutionErrors$.taskFailedWhileWritingRowsError(QueryExecutionErrors.scala:610)\n\tat org.apache.spark.sql.execution.datasources.FileFormatWriter$.executeTask(FileFormatWriter.scala:457)\n\tat org.apache.spark.sql.execution.datasources.FileFormatWriter$.$anonfun$write$20(FileFormatWriter.scala:336)\n\tat org.apache.spark.scheduler.ResultTask.$anonfun$runTask$3(ResultTask.scala:75)\n\tat com.databricks.spark.util.ExecutorFrameProfiler$.record(ExecutorFrameProfiler.scala:110)\n\tat org.apache.spark.scheduler.ResultTask.$anonfun$runTask$1(ResultTask.scala:75)\n\tat com.databricks.spark.util.ExecutorFrameProfiler$.record(ExecutorFrameProfiler.scala:110)\n\tat org.apache.spark.scheduler.ResultTask.runTask(ResultTask.scala:55)\n\tat org.apache.spark.scheduler.Task.doRunTask(Task.scala:156)\n\tat org.apache.spark.scheduler.Task.$anonfun$run$1(Task.scala:125)\n\tat com.databricks.spark.util.ExecutorFrameProfiler$.record(ExecutorFrameProfiler.scala:110)\n\tat org.apache.spark.scheduler.Task.run(Task.scala:95)\n\tat org.apache.spark.executor.Executor$TaskRunner.$anonfun$run$13(Executor.scala:832)\n\tat org.apache.spark.util.Utils$.tryWithSafeFinally(Utils.scala:1681)\n\tat org.apache.spark.executor.Executor$TaskRunner.$anonfun$run$4(Executor.scala:835)\n\tat scala.runtime.java8.JFunction0$mcV$sp.apply(JFunction0$mcV$sp.java:23)\n\tat com.databricks.spark.util.ExecutorFrameProfiler$.record(ExecutorFrameProfiler.scala:110)\n\tat org.apache.spark.executor.Executor$TaskRunner.run(Executor.scala:690)\n\tat java.util.concurrent.ThreadPoolExecutor.runWorker(ThreadPoolExecutor.java:1149)\n\tat java.util.concurrent.ThreadPoolExecutor$Worker.run(ThreadPoolExecutor.java:624)\n\tat java.lang.Thread.run(Thread.java:748)\nCaused by: org.apache.spark.api.python.PythonException: 'ValueError: invalid literal for int() with base 10: ''', from <command-2272545304682958>, line 17. Full traceback below:\nTraceback (most recent call last):\n  File \"<command-2272545304682958>\", line 17, in parse_clf_time\nValueError: invalid literal for int() with base 10: ''\n\n\tat org.apache.spark.api.python.BasePythonRunner$ReaderIterator.handlePythonException(PythonRunner.scala:694)\n\tat org.apache.spark.sql.execution.python.PythonUDFRunner$$anon$2.read(PythonUDFRunner.scala:86)\n\tat org.apache.spark.sql.execution.python.PythonUDFRunner$$anon$2.read(PythonUDFRunner.scala:68)\n\tat org.apache.spark.api.python.BasePythonRunner$ReaderIterator.hasNext(PythonRunner.scala:647)\n\tat org.apache.spark.InterruptibleIterator.hasNext(InterruptibleIterator.scala:37)\n\tat scala.collection.Iterator$$anon$11.hasNext(Iterator.scala:491)\n\tat scala.collection.Iterator$$anon$10.hasNext(Iterator.scala:460)\n\tat scala.collection.Iterator$$anon$10.hasNext(Iterator.scala:460)\n\tat org.apache.spark.sql.catalyst.expressions.GeneratedClass$GeneratedIteratorForCodegenStage2.processNext(Unknown Source)\n\tat org.apache.spark.sql.execution.BufferedRowIterator.hasNext(BufferedRowIterator.java:43)\n\tat org.apache.spark.sql.execution.WholeStageCodegenExec$$anon$1.hasNext(WholeStageCodegenExec.scala:759)\n\tat org.apache.spark.sql.execution.datasources.FileFormatDataWriter.writeWithIterator(FileFormatDataWriter.scala:90)\n\tat org.apache.spark.sql.execution.datasources.FileFormatWriter$.$anonfun$executeTask$2(FileFormatWriter.scala:437)\n\tat org.apache.spark.util.Utils$.tryWithSafeFinallyAndFailureCallbacks(Utils.scala:1715)\n\tat org.apache.spark.sql.execution.datasources.FileFormatWriter$.executeTask(FileFormatWriter.scala:444)\n\t... 19 more\n\nDriver stacktrace:\n\tat org.apache.spark.scheduler.DAGScheduler.failJobAndIndependentStages(DAGScheduler.scala:3029)\n\tat org.apache.spark.scheduler.DAGScheduler.$anonfun$abortStage$2(DAGScheduler.scala:2976)\n\tat org.apache.spark.scheduler.DAGScheduler.$anonfun$abortStage$2$adapted(DAGScheduler.scala:2970)\n\tat scala.collection.mutable.ResizableArray.foreach(ResizableArray.scala:62)\n\tat scala.collection.mutable.ResizableArray.foreach$(ResizableArray.scala:55)\n\tat scala.collection.mutable.ArrayBuffer.foreach(ArrayBuffer.scala:49)\n\tat org.apache.spark.scheduler.DAGScheduler.abortStage(DAGScheduler.scala:2970)\n\tat org.apache.spark.scheduler.DAGScheduler.$anonfun$handleTaskSetFailed$1(DAGScheduler.scala:1390)\n\tat org.apache.spark.scheduler.DAGScheduler.$anonfun$handleTaskSetFailed$1$adapted(DAGScheduler.scala:1390)\n\tat scala.Option.foreach(Option.scala:407)\n\tat org.apache.spark.scheduler.DAGScheduler.handleTaskSetFailed(DAGScheduler.scala:1390)\n\tat org.apache.spark.scheduler.DAGSchedulerEventProcessLoop.doOnReceive(DAGScheduler.scala:3238)\n\tat org.apache.spark.scheduler.DAGSchedulerEventProcessLoop.onReceive(DAGScheduler.scala:3179)\n\tat org.apache.spark.scheduler.DAGSchedulerEventProcessLoop.onReceive(DAGScheduler.scala:3167)\n\tat org.apache.spark.util.EventLoop$$anon$1.run(EventLoop.scala:49)\n\tat org.apache.spark.scheduler.DAGScheduler.runJob(DAGScheduler.scala:1152)\n\tat org.apache.spark.SparkContext.runJobInternal(SparkContext.scala:2657)\n\tat org.apache.spark.SparkContext.runJob(SparkContext.scala:2640)\n\tat org.apache.spark.sql.execution.datasources.FileFormatWriter$.write(FileFormatWriter.scala:325)\n\t... 44 more\nCaused by: org.apache.spark.SparkException: Task failed while writing rows.\n\tat org.apache.spark.sql.errors.QueryExecutionErrors$.taskFailedWhileWritingRowsError(QueryExecutionErrors.scala:610)\n\tat org.apache.spark.sql.execution.datasources.FileFormatWriter$.executeTask(FileFormatWriter.scala:457)\n\tat org.apache.spark.sql.execution.datasources.FileFormatWriter$.$anonfun$write$20(FileFormatWriter.scala:336)\n\tat org.apache.spark.scheduler.ResultTask.$anonfun$runTask$3(ResultTask.scala:75)\n\tat com.databricks.spark.util.ExecutorFrameProfiler$.record(ExecutorFrameProfiler.scala:110)\n\tat org.apache.spark.scheduler.ResultTask.$anonfun$runTask$1(ResultTask.scala:75)\n\tat com.databricks.spark.util.ExecutorFrameProfiler$.record(ExecutorFrameProfiler.scala:110)\n\tat org.apache.spark.scheduler.ResultTask.runTask(ResultTask.scala:55)\n\tat org.apache.spark.scheduler.Task.doRunTask(Task.scala:156)\n\tat org.apache.spark.scheduler.Task.$anonfun$run$1(Task.scala:125)\n\tat com.databricks.spark.util.ExecutorFrameProfiler$.record(ExecutorFrameProfiler.scala:110)\n\tat org.apache.spark.scheduler.Task.run(Task.scala:95)\n\tat org.apache.spark.executor.Executor$TaskRunner.$anonfun$run$13(Executor.scala:832)\n\tat org.apache.spark.util.Utils$.tryWithSafeFinally(Utils.scala:1681)\n\tat org.apache.spark.executor.Executor$TaskRunner.$anonfun$run$4(Executor.scala:835)\n\tat scala.runtime.java8.JFunction0$mcV$sp.apply(JFunction0$mcV$sp.java:23)\n\tat com.databricks.spark.util.ExecutorFrameProfiler$.record(ExecutorFrameProfiler.scala:110)\n\tat org.apache.spark.executor.Executor$TaskRunner.run(Executor.scala:690)\n\tat java.util.concurrent.ThreadPoolExecutor.runWorker(ThreadPoolExecutor.java:1149)\n\tat java.util.concurrent.ThreadPoolExecutor$Worker.run(ThreadPoolExecutor.java:624)\n\t... 1 more\nCaused by: org.apache.spark.api.python.PythonException: 'ValueError: invalid literal for int() with base 10: ''', from <command-2272545304682958>, line 17. Full traceback below:\nTraceback (most recent call last):\n  File \"<command-2272545304682958>\", line 17, in parse_clf_time\nValueError: invalid literal for int() with base 10: ''\n\n\tat org.apache.spark.api.python.BasePythonRunner$ReaderIterator.handlePythonException(PythonRunner.scala:694)\n\tat org.apache.spark.sql.execution.python.PythonUDFRunner$$anon$2.read(PythonUDFRunner.scala:86)\n\tat org.apache.spark.sql.execution.python.PythonUDFRunner$$anon$2.read(PythonUDFRunner.scala:68)\n\tat org.apache.spark.api.python.BasePythonRunner$ReaderIterator.hasNext(PythonRunner.scala:647)\n\tat org.apache.spark.InterruptibleIterator.hasNext(InterruptibleIterator.scala:37)\n\tat scala.collection.Iterator$$anon$11.hasNext(Iterator.scala:491)\n\tat scala.collection.Iterator$$anon$10.hasNext(Iterator.scala:460)\n\tat scala.collection.Iterator$$anon$10.hasNext(Iterator.scala:460)\n\tat org.apache.spark.sql.catalyst.expressions.GeneratedClass$GeneratedIteratorForCodegenStage2.processNext(Unknown Source)\n\tat org.apache.spark.sql.execution.BufferedRowIterator.hasNext(BufferedRowIterator.java:43)\n\tat org.apache.spark.sql.execution.WholeStageCodegenExec$$anon$1.hasNext(WholeStageCodegenExec.scala:759)\n\tat org.apache.spark.sql.execution.datasources.FileFormatDataWriter.writeWithIterator(FileFormatDataWriter.scala:90)\n\tat org.apache.spark.sql.execution.datasources.FileFormatWriter$.$anonfun$executeTask$2(FileFormatWriter.scala:437)\n\tat org.apache.spark.util.Utils$.tryWithSafeFinallyAndFailureCallbacks(Utils.scala:1715)\n\tat org.apache.spark.sql.execution.datasources.FileFormatWriter$.executeTask(FileFormatWriter.scala:444)\n\t... 19 more\n"
      ]
     }
    }
   ],
   "execution_count": 0
  },
  {
   "cell_type": "code",
   "source": [
    "# TODO: Check to see if you have stored and loaded the CSV file successfully by checking the first 5 rows. Replace <FILL IN> with appropriate code\n",
    "\n",
    "# fixed spark_session\n",
    "#spark_session\\\n",
    "spark\\\n",
    "\t.sparkContext\\\n",
    "\t.textFile('logs_df.csv')\\\n",
    "\t.take(5)"
   ],
   "metadata": {
    "colab": {},
    "colab_type": "code",
    "id": "EJN6Xy76ZTkW",
    "application/vnd.databricks.v1+cell": {
     "showTitle": false,
     "cellMetadata": {},
     "nuid": "07d254a2-aaa1-4d3a-bc4b-d9dafd623f94",
     "inputWidgets": {},
     "title": ""
    }
   },
   "outputs": [
    {
     "output_type": "display_data",
     "metadata": {
      "application/vnd.databricks.v1+output": {
       "datasetInfos": [],
       "data": "Out[131]: []",
       "removedWidgets": [],
       "addedWidgets": {},
       "metadata": {},
       "type": "ansi",
       "arguments": {}
      }
     },
     "data": {
      "text/plain": [
       "Out[131]: []"
      ]
     }
    }
   ],
   "execution_count": 0
  },
  {
   "cell_type": "markdown",
   "source": [
    "Similarly, you can also store and load your dataframe as a JSON file by completing the following:"
   ],
   "metadata": {
    "colab_type": "text",
    "id": "nkz9rKU3ZV7S",
    "application/vnd.databricks.v1+cell": {
     "showTitle": false,
     "cellMetadata": {},
     "nuid": "b258c32a-5193-4695-a299-a98f9e39edb7",
     "inputWidgets": {},
     "title": ""
    }
   }
  },
  {
   "cell_type": "markdown",
   "source": [
    "## Your Turn: Q15: Save your data as a JSON file"
   ],
   "metadata": {
    "colab_type": "text",
    "id": "l6N5oSjgZaiX",
    "application/vnd.databricks.v1+cell": {
     "showTitle": false,
     "cellMetadata": {},
     "nuid": "57181ff6-a95a-448e-bbdf-c9f71c98fcf4",
     "inputWidgets": {},
     "title": ""
    }
   }
  },
  {
   "cell_type": "code",
   "source": [
    "# TODO: Review the data frame you will like to store and load. Replace <FILL IN> with appropriate code\n",
    "\n",
    "# new JSON write syntax\n",
    "#logs_df.write.save('logs_df.json', format = 'json')\n",
    "logs_df.write.mode('overwrite').json('logs_df.json')"
   ],
   "metadata": {
    "colab": {},
    "colab_type": "code",
    "id": "nPp5cHZeZZCQ",
    "application/vnd.databricks.v1+cell": {
     "showTitle": false,
     "cellMetadata": {},
     "nuid": "7eb457c7-d187-44a9-ad3d-29726817ea3e",
     "inputWidgets": {},
     "title": ""
    }
   },
   "outputs": [],
   "execution_count": 0
  },
  {
   "cell_type": "code",
   "source": [
    "# TODO: Similarly, check the first 5 rows in the JSON file. Replace <FILL IN> with appropriate code\n",
    "\n",
    "# fixed spark_session\n",
    "#spark_session\\\n",
    "spark\\\n",
    "\t.sparkContext\\\n",
    "\t.textFile('logs_df.json')\\'\n",
    "\t.take(5)"
   ],
   "metadata": {
    "colab": {},
    "colab_type": "code",
    "id": "56w3oyaOZgiE",
    "application/vnd.databricks.v1+cell": {
     "showTitle": false,
     "cellMetadata": {},
     "nuid": "70971d72-a119-494b-b358-351f172d7e7e",
     "inputWidgets": {},
     "title": ""
    }
   },
   "outputs": [],
   "execution_count": 0
  },
  {
   "cell_type": "markdown",
   "source": [
    "There is a lot more you can do about data storing and loading in terms of data formats and settings. Check out more about these options [__here__](https://spark.apache.org/docs/latest/sql-data-sources-load-save-functions.html)."
   ],
   "metadata": {
    "colab_type": "text",
    "id": "P9zYYUIcZjUU",
    "application/vnd.databricks.v1+cell": {
     "showTitle": false,
     "cellMetadata": {},
     "nuid": "8edea265-f4b4-4067-9b32-d634938632c2",
     "inputWidgets": {},
     "title": ""
    }
   }
  },
  {
   "cell_type": "markdown",
   "source": [
    "### Congratulations! You have finished the mini-project for this unit!"
   ],
   "metadata": {
    "colab_type": "text",
    "id": "lLXpioWzZlug",
    "application/vnd.databricks.v1+cell": {
     "showTitle": false,
     "cellMetadata": {},
     "nuid": "a1045276-78b0-4ffb-9aa6-18ee289ff292",
     "inputWidgets": {},
     "title": ""
    }
   }
  }
 ],
 "metadata": {
  "language_info": {
   "mimetype": "text/x-python",
   "name": "python",
   "pygments_lexer": "ipython3",
   "codemirror_mode": {
    "name": "ipython",
    "version": 3
   },
   "version": "3.7.6",
   "nbconvert_exporter": "python",
   "file_extension": ".py"
  },
  "name": "Mini_Project_Data_Wrangling_at_Scale_with_Spark_Solutions_checkpoint",
  "notebookId": 3935650049725854,
  "kernelspec": {
   "display_name": "Python 3",
   "language": "python",
   "name": "python3"
  },
  "application/vnd.databricks.v1+notebook": {
   "notebookName": "Mini_Project_Data_Wrangling_at_Scale_with_Spark",
   "dashboards": [],
   "notebookMetadata": {
    "pythonIndentUnit": 4
   },
   "language": "python",
   "widgets": {},
   "notebookOrigID": 2272545304682888
  },
  "colab": {
   "name": "Mini_Project_Data_Wrangling_at_Scale_with_Spark_checkpoint.ipynb",
   "provenance": []
  }
 },
 "nbformat": 4,
 "nbformat_minor": 0
}
