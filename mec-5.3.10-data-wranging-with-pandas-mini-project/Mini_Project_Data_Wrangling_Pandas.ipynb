{
 "cells": [
  {
   "cell_type": "markdown",
   "metadata": {
    "pycharm": {
     "name": "#%% md\n"
    }
   },
   "source": [
    "# Mini-Project: Data Wrangling and Transformation with Pandas\n",
    "\n",
    "Working with tabular data is a necessity for anyone with enterprises having a majority of their data in relational databases and flat files. This mini-project is adopted from the excellent tutorial on pandas by Brandon Rhodes which you have watched earlier in the Data Wrangling Unit. In this mini-project, we will be looking at some interesting data based on movie data from the IMDB.\n",
    "\n",
    "This assignment should help you reinforce the concepts you learnt in the curriculum for Data Wrangling and sharpen your skills in using Pandas. Good Luck!"
   ]
  },
  {
   "cell_type": "markdown",
   "metadata": {
    "pycharm": {
     "name": "#%% md\n"
    }
   },
   "source": [
    "### Please make sure you have one of the more recent versions of Pandas"
   ]
  },
  {
   "cell_type": "code",
   "execution_count": 239,
   "metadata": {
    "pycharm": {
     "name": "#%%\n"
    }
   },
   "outputs": [],
   "source": [
    "import pandas as pd\n",
    "import matplotlib.pyplot as plt\n",
    "\n",
    "%matplotlib inline"
   ]
  },
  {
   "cell_type": "code",
   "execution_count": 240,
   "metadata": {
    "pycharm": {
     "name": "#%%\n"
    }
   },
   "outputs": [
    {
     "data": {
      "text/plain": "'1.0.1'"
     },
     "execution_count": 240,
     "metadata": {},
     "output_type": "execute_result"
    }
   ],
   "source": [
    "pd.__version__"
   ]
  },
  {
   "cell_type": "markdown",
   "metadata": {
    "pycharm": {
     "name": "#%% md\n"
    }
   },
   "source": [
    "## Taking a look at the Movies dataset\n",
    "This data shows the movies based on their title and the year of release"
   ]
  },
  {
   "cell_type": "code",
   "execution_count": 241,
   "metadata": {
    "pycharm": {
     "name": "#%%\n"
    }
   },
   "outputs": [
    {
     "name": "stdout",
     "output_type": "stream",
     "text": [
      "<class 'pandas.core.frame.DataFrame'>\n",
      "RangeIndex: 244914 entries, 0 to 244913\n",
      "Data columns (total 2 columns):\n",
      " #   Column  Non-Null Count   Dtype \n",
      "---  ------  --------------   ----- \n",
      " 0   title   244914 non-null  object\n",
      " 1   year    244914 non-null  int64 \n",
      "dtypes: int64(1), object(1)\n",
      "memory usage: 3.7+ MB\n"
     ]
    }
   ],
   "source": [
    "movies = pd.read_csv('titles.csv')\n",
    "movies.info()"
   ]
  },
  {
   "cell_type": "code",
   "execution_count": 242,
   "metadata": {
    "pycharm": {
     "name": "#%%\n"
    }
   },
   "outputs": [
    {
     "data": {
      "text/plain": "                                          title  year\n0                        The Ticket to the Life  2009\n1  Parallel Worlds: A New Rock Music Experience  2016\n2                     Morita - La hija de Jesus  2008\n3                                           Gun  2017\n4                        Love or Nothing at All  2014",
      "text/html": "<div>\n<style scoped>\n    .dataframe tbody tr th:only-of-type {\n        vertical-align: middle;\n    }\n\n    .dataframe tbody tr th {\n        vertical-align: top;\n    }\n\n    .dataframe thead th {\n        text-align: right;\n    }\n</style>\n<table border=\"1\" class=\"dataframe\">\n  <thead>\n    <tr style=\"text-align: right;\">\n      <th></th>\n      <th>title</th>\n      <th>year</th>\n    </tr>\n  </thead>\n  <tbody>\n    <tr>\n      <th>0</th>\n      <td>The Ticket to the Life</td>\n      <td>2009</td>\n    </tr>\n    <tr>\n      <th>1</th>\n      <td>Parallel Worlds: A New Rock Music Experience</td>\n      <td>2016</td>\n    </tr>\n    <tr>\n      <th>2</th>\n      <td>Morita - La hija de Jesus</td>\n      <td>2008</td>\n    </tr>\n    <tr>\n      <th>3</th>\n      <td>Gun</td>\n      <td>2017</td>\n    </tr>\n    <tr>\n      <th>4</th>\n      <td>Love or Nothing at All</td>\n      <td>2014</td>\n    </tr>\n  </tbody>\n</table>\n</div>"
     },
     "execution_count": 242,
     "metadata": {},
     "output_type": "execute_result"
    }
   ],
   "source": [
    "movies.head()"
   ]
  },
  {
   "cell_type": "markdown",
   "metadata": {
    "pycharm": {
     "name": "#%% md\n"
    }
   },
   "source": [
    "## Taking a look at the Cast dataset\n",
    "\n",
    "This data shows the cast (actors, actresses, supporting roles) for each movie\n",
    "\n",
    "- The attribute `n` basically tells the importance of the cast role, lower the number, more important the role.\n",
    "- Supporting cast usually don't have any value for `n`"
   ]
  },
  {
   "cell_type": "code",
   "execution_count": 243,
   "metadata": {
    "pycharm": {
     "name": "#%%\n"
    }
   },
   "outputs": [
    {
     "name": "stdout",
     "output_type": "stream",
     "text": [
      "<class 'pandas.core.frame.DataFrame'>\n",
      "RangeIndex: 3786176 entries, 0 to 3786175\n",
      "Data columns (total 6 columns):\n",
      " #   Column     Dtype  \n",
      "---  ------     -----  \n",
      " 0   title      object \n",
      " 1   year       int64  \n",
      " 2   name       object \n",
      " 3   type       object \n",
      " 4   character  object \n",
      " 5   n          float64\n",
      "dtypes: float64(1), int64(1), object(4)\n",
      "memory usage: 173.3+ MB\n"
     ]
    }
   ],
   "source": [
    "cast = pd.read_csv('cast.csv.zip')\n",
    "cast.info()"
   ]
  },
  {
   "cell_type": "code",
   "execution_count": 244,
   "metadata": {
    "pycharm": {
     "name": "#%%\n"
    }
   },
   "outputs": [
    {
     "data": {
      "text/plain": "                                               title  year  \\\n0                                     Closet Monster  2015   \n1                                    Suuri illusioni  1985   \n2                                Battle of the Sexes  2017   \n3                               Secret in Their Eyes  2015   \n4                                         Steve Jobs  2015   \n5                             Straight Outta Compton  2015   \n6                             Straight Outta Compton  2015   \n7                                     For Thy Love 2  2009   \n8  Lapis, Ballpen at Diploma, a True to Life Journey  2014   \n9                                       Desire (III)  2014   \n\n                        name   type                               character  \\\n0                   Buffy #1  actor                                 Buffy 4   \n1                     Homo $  actor                                  Guests   \n2                    $hutter  actor                         Bobby Riggs Fan   \n3                    $hutter  actor                         2002 Dodger Fan   \n4                    $hutter  actor                 1988 Opera House Patron   \n5                    $hutter  actor                             Club Patron   \n6                    $hutter  actor                                 Dopeman   \n7               Bee Moe $lim  actor                                  Thug 1   \n8  Jori ' Danilo' Jurado Jr.  actor                           Jaime (young)   \n9           Syaiful 'Ariffin  actor  Actor Playing Eteocles from 'Antigone'   \n\n      n  \n0  31.0  \n1  22.0  \n2  10.0  \n3   NaN  \n4   NaN  \n5   NaN  \n6   NaN  \n7   NaN  \n8   9.0  \n9   NaN  ",
      "text/html": "<div>\n<style scoped>\n    .dataframe tbody tr th:only-of-type {\n        vertical-align: middle;\n    }\n\n    .dataframe tbody tr th {\n        vertical-align: top;\n    }\n\n    .dataframe thead th {\n        text-align: right;\n    }\n</style>\n<table border=\"1\" class=\"dataframe\">\n  <thead>\n    <tr style=\"text-align: right;\">\n      <th></th>\n      <th>title</th>\n      <th>year</th>\n      <th>name</th>\n      <th>type</th>\n      <th>character</th>\n      <th>n</th>\n    </tr>\n  </thead>\n  <tbody>\n    <tr>\n      <th>0</th>\n      <td>Closet Monster</td>\n      <td>2015</td>\n      <td>Buffy #1</td>\n      <td>actor</td>\n      <td>Buffy 4</td>\n      <td>31.0</td>\n    </tr>\n    <tr>\n      <th>1</th>\n      <td>Suuri illusioni</td>\n      <td>1985</td>\n      <td>Homo $</td>\n      <td>actor</td>\n      <td>Guests</td>\n      <td>22.0</td>\n    </tr>\n    <tr>\n      <th>2</th>\n      <td>Battle of the Sexes</td>\n      <td>2017</td>\n      <td>$hutter</td>\n      <td>actor</td>\n      <td>Bobby Riggs Fan</td>\n      <td>10.0</td>\n    </tr>\n    <tr>\n      <th>3</th>\n      <td>Secret in Their Eyes</td>\n      <td>2015</td>\n      <td>$hutter</td>\n      <td>actor</td>\n      <td>2002 Dodger Fan</td>\n      <td>NaN</td>\n    </tr>\n    <tr>\n      <th>4</th>\n      <td>Steve Jobs</td>\n      <td>2015</td>\n      <td>$hutter</td>\n      <td>actor</td>\n      <td>1988 Opera House Patron</td>\n      <td>NaN</td>\n    </tr>\n    <tr>\n      <th>5</th>\n      <td>Straight Outta Compton</td>\n      <td>2015</td>\n      <td>$hutter</td>\n      <td>actor</td>\n      <td>Club Patron</td>\n      <td>NaN</td>\n    </tr>\n    <tr>\n      <th>6</th>\n      <td>Straight Outta Compton</td>\n      <td>2015</td>\n      <td>$hutter</td>\n      <td>actor</td>\n      <td>Dopeman</td>\n      <td>NaN</td>\n    </tr>\n    <tr>\n      <th>7</th>\n      <td>For Thy Love 2</td>\n      <td>2009</td>\n      <td>Bee Moe $lim</td>\n      <td>actor</td>\n      <td>Thug 1</td>\n      <td>NaN</td>\n    </tr>\n    <tr>\n      <th>8</th>\n      <td>Lapis, Ballpen at Diploma, a True to Life Journey</td>\n      <td>2014</td>\n      <td>Jori ' Danilo' Jurado Jr.</td>\n      <td>actor</td>\n      <td>Jaime (young)</td>\n      <td>9.0</td>\n    </tr>\n    <tr>\n      <th>9</th>\n      <td>Desire (III)</td>\n      <td>2014</td>\n      <td>Syaiful 'Ariffin</td>\n      <td>actor</td>\n      <td>Actor Playing Eteocles from 'Antigone'</td>\n      <td>NaN</td>\n    </tr>\n  </tbody>\n</table>\n</div>"
     },
     "execution_count": 244,
     "metadata": {},
     "output_type": "execute_result"
    }
   ],
   "source": [
    "cast.head(10)"
   ]
  },
  {
   "cell_type": "markdown",
   "metadata": {
    "pycharm": {
     "name": "#%% md\n"
    }
   },
   "source": [
    "## Taking a look at the Release dataset\n",
    "\n",
    "This data shows details of when each movie was release in each country with the release date"
   ]
  },
  {
   "cell_type": "code",
   "execution_count": 245,
   "metadata": {
    "pycharm": {
     "name": "#%%\n"
    }
   },
   "outputs": [
    {
     "name": "stdout",
     "output_type": "stream",
     "text": [
      "<class 'pandas.core.frame.DataFrame'>\n",
      "RangeIndex: 479488 entries, 0 to 479487\n",
      "Data columns (total 4 columns):\n",
      " #   Column   Non-Null Count   Dtype         \n",
      "---  ------   --------------   -----         \n",
      " 0   title    479488 non-null  object        \n",
      " 1   year     479488 non-null  int64         \n",
      " 2   country  479488 non-null  object        \n",
      " 3   date     479488 non-null  datetime64[ns]\n",
      "dtypes: datetime64[ns](1), int64(1), object(2)\n",
      "memory usage: 14.6+ MB\n"
     ]
    }
   ],
   "source": [
    "release_dates = pd.read_csv('release_dates.csv', parse_dates=['date'], infer_datetime_format=True)\n",
    "release_dates.info()"
   ]
  },
  {
   "cell_type": "code",
   "execution_count": 246,
   "metadata": {
    "pycharm": {
     "name": "#%%\n"
    }
   },
   "outputs": [
    {
     "data": {
      "text/plain": "                    title  year      country       date\n0   #73, Shaanthi Nivaasa  2007        India 2007-06-15\n1                   #BKKY  2016     Cambodia 2017-10-12\n2                 #Beings  2015      Romania 2015-01-29\n3               #Captured  2017          USA 2017-09-05\n4  #Ewankosau saranghaeyo  2015  Philippines 2015-01-21",
      "text/html": "<div>\n<style scoped>\n    .dataframe tbody tr th:only-of-type {\n        vertical-align: middle;\n    }\n\n    .dataframe tbody tr th {\n        vertical-align: top;\n    }\n\n    .dataframe thead th {\n        text-align: right;\n    }\n</style>\n<table border=\"1\" class=\"dataframe\">\n  <thead>\n    <tr style=\"text-align: right;\">\n      <th></th>\n      <th>title</th>\n      <th>year</th>\n      <th>country</th>\n      <th>date</th>\n    </tr>\n  </thead>\n  <tbody>\n    <tr>\n      <th>0</th>\n      <td>#73, Shaanthi Nivaasa</td>\n      <td>2007</td>\n      <td>India</td>\n      <td>2007-06-15</td>\n    </tr>\n    <tr>\n      <th>1</th>\n      <td>#BKKY</td>\n      <td>2016</td>\n      <td>Cambodia</td>\n      <td>2017-10-12</td>\n    </tr>\n    <tr>\n      <th>2</th>\n      <td>#Beings</td>\n      <td>2015</td>\n      <td>Romania</td>\n      <td>2015-01-29</td>\n    </tr>\n    <tr>\n      <th>3</th>\n      <td>#Captured</td>\n      <td>2017</td>\n      <td>USA</td>\n      <td>2017-09-05</td>\n    </tr>\n    <tr>\n      <th>4</th>\n      <td>#Ewankosau saranghaeyo</td>\n      <td>2015</td>\n      <td>Philippines</td>\n      <td>2015-01-21</td>\n    </tr>\n  </tbody>\n</table>\n</div>"
     },
     "execution_count": 246,
     "metadata": {},
     "output_type": "execute_result"
    }
   ],
   "source": [
    "release_dates.head()"
   ]
  },
  {
   "cell_type": "markdown",
   "metadata": {
    "pycharm": {
     "name": "#%% md\n"
    }
   },
   "source": [
    "# Section I - Basic Querying, Filtering and Transformations"
   ]
  },
  {
   "cell_type": "markdown",
   "metadata": {
    "pycharm": {
     "name": "#%% md\n"
    }
   },
   "source": [
    "### What is the total number of movies?"
   ]
  },
  {
   "cell_type": "code",
   "execution_count": 247,
   "metadata": {
    "pycharm": {
     "name": "#%%\n"
    }
   },
   "outputs": [
    {
     "data": {
      "text/plain": "244914"
     },
     "execution_count": 247,
     "metadata": {},
     "output_type": "execute_result"
    }
   ],
   "source": [
    "len(movies)"
   ]
  },
  {
   "cell_type": "markdown",
   "metadata": {
    "pycharm": {
     "name": "#%% md\n"
    }
   },
   "source": [
    "### List all Batman movies ever made"
   ]
  },
  {
   "cell_type": "code",
   "execution_count": 248,
   "metadata": {
    "pycharm": {
     "name": "#%%\n"
    }
   },
   "outputs": [
    {
     "name": "stdout",
     "output_type": "stream",
     "text": [
      "Total Batman Movies: 2\n"
     ]
    },
    {
     "data": {
      "text/plain": "         title  year\n52734   Batman  1943\n150621  Batman  1989",
      "text/html": "<div>\n<style scoped>\n    .dataframe tbody tr th:only-of-type {\n        vertical-align: middle;\n    }\n\n    .dataframe tbody tr th {\n        vertical-align: top;\n    }\n\n    .dataframe thead th {\n        text-align: right;\n    }\n</style>\n<table border=\"1\" class=\"dataframe\">\n  <thead>\n    <tr style=\"text-align: right;\">\n      <th></th>\n      <th>title</th>\n      <th>year</th>\n    </tr>\n  </thead>\n  <tbody>\n    <tr>\n      <th>52734</th>\n      <td>Batman</td>\n      <td>1943</td>\n    </tr>\n    <tr>\n      <th>150621</th>\n      <td>Batman</td>\n      <td>1989</td>\n    </tr>\n  </tbody>\n</table>\n</div>"
     },
     "execution_count": 248,
     "metadata": {},
     "output_type": "execute_result"
    }
   ],
   "source": [
    "batman_df = movies[movies.title == 'Batman']\n",
    "print('Total Batman Movies:', len(batman_df))\n",
    "batman_df"
   ]
  },
  {
   "cell_type": "markdown",
   "metadata": {
    "pycharm": {
     "name": "#%% md\n"
    }
   },
   "source": [
    "### List all Batman movies ever made - the right approach"
   ]
  },
  {
   "cell_type": "code",
   "execution_count": 249,
   "metadata": {
    "pycharm": {
     "name": "#%%\n"
    }
   },
   "outputs": [
    {
     "name": "stdout",
     "output_type": "stream",
     "text": [
      "Total Batman Movies: 35\n"
     ]
    },
    {
     "data": {
      "text/plain": "                                             title  year\n16813                              Batman: Anarchy  2016\n30236                               Batman Forever  1995\n31674                                Batman Untold  2010\n31711  Scooby-Doo & Batman: the Brave and the Bold  2018\n41881                  Batman the Rise of Red Hood  2018\n43484        Batman: Return of the Caped Crusaders  2016\n46333                               Batman & Robin  1997\n51811                              Batman Revealed  2012\n52734                                       Batman  1943\n56029                 Batman Beyond: Rising Knight  2014",
      "text/html": "<div>\n<style scoped>\n    .dataframe tbody tr th:only-of-type {\n        vertical-align: middle;\n    }\n\n    .dataframe tbody tr th {\n        vertical-align: top;\n    }\n\n    .dataframe thead th {\n        text-align: right;\n    }\n</style>\n<table border=\"1\" class=\"dataframe\">\n  <thead>\n    <tr style=\"text-align: right;\">\n      <th></th>\n      <th>title</th>\n      <th>year</th>\n    </tr>\n  </thead>\n  <tbody>\n    <tr>\n      <th>16813</th>\n      <td>Batman: Anarchy</td>\n      <td>2016</td>\n    </tr>\n    <tr>\n      <th>30236</th>\n      <td>Batman Forever</td>\n      <td>1995</td>\n    </tr>\n    <tr>\n      <th>31674</th>\n      <td>Batman Untold</td>\n      <td>2010</td>\n    </tr>\n    <tr>\n      <th>31711</th>\n      <td>Scooby-Doo &amp; Batman: the Brave and the Bold</td>\n      <td>2018</td>\n    </tr>\n    <tr>\n      <th>41881</th>\n      <td>Batman the Rise of Red Hood</td>\n      <td>2018</td>\n    </tr>\n    <tr>\n      <th>43484</th>\n      <td>Batman: Return of the Caped Crusaders</td>\n      <td>2016</td>\n    </tr>\n    <tr>\n      <th>46333</th>\n      <td>Batman &amp; Robin</td>\n      <td>1997</td>\n    </tr>\n    <tr>\n      <th>51811</th>\n      <td>Batman Revealed</td>\n      <td>2012</td>\n    </tr>\n    <tr>\n      <th>52734</th>\n      <td>Batman</td>\n      <td>1943</td>\n    </tr>\n    <tr>\n      <th>56029</th>\n      <td>Batman Beyond: Rising Knight</td>\n      <td>2014</td>\n    </tr>\n  </tbody>\n</table>\n</div>"
     },
     "execution_count": 249,
     "metadata": {},
     "output_type": "execute_result"
    }
   ],
   "source": [
    "batman_df = movies[movies.title.str.contains('Batman', case=False)]\n",
    "print('Total Batman Movies:', len(batman_df))\n",
    "batman_df.head(10)"
   ]
  },
  {
   "cell_type": "markdown",
   "metadata": {
    "pycharm": {
     "name": "#%% md\n"
    }
   },
   "source": [
    "### Display the top 15 Batman movies in the order they were released"
   ]
  },
  {
   "cell_type": "code",
   "execution_count": 250,
   "metadata": {
    "pycharm": {
     "name": "#%%\n"
    }
   },
   "outputs": [
    {
     "data": {
      "text/plain": "                               title  year\n52734                         Batman  1943\n100056              Batman and Robin  1949\n161439                Batman Dracula  1964\n84327          Alyas Batman at Robin  1965\n68364                   James Batman  1966\n161527             Batman: The Movie  1966\n56159          Batman Fights Dracula  1967\n168504         Fight! Batman, Fight!  1973\n150621                        Batman  1989\n156239         Alyas Batman en Robin  1991\n156755                Batman Returns  1992\n63366   Batman: Mask of the Phantasm  1993\n30236                 Batman Forever  1995\n46333                 Batman & Robin  1997\n208220                 Batman Begins  2005",
      "text/html": "<div>\n<style scoped>\n    .dataframe tbody tr th:only-of-type {\n        vertical-align: middle;\n    }\n\n    .dataframe tbody tr th {\n        vertical-align: top;\n    }\n\n    .dataframe thead th {\n        text-align: right;\n    }\n</style>\n<table border=\"1\" class=\"dataframe\">\n  <thead>\n    <tr style=\"text-align: right;\">\n      <th></th>\n      <th>title</th>\n      <th>year</th>\n    </tr>\n  </thead>\n  <tbody>\n    <tr>\n      <th>52734</th>\n      <td>Batman</td>\n      <td>1943</td>\n    </tr>\n    <tr>\n      <th>100056</th>\n      <td>Batman and Robin</td>\n      <td>1949</td>\n    </tr>\n    <tr>\n      <th>161439</th>\n      <td>Batman Dracula</td>\n      <td>1964</td>\n    </tr>\n    <tr>\n      <th>84327</th>\n      <td>Alyas Batman at Robin</td>\n      <td>1965</td>\n    </tr>\n    <tr>\n      <th>68364</th>\n      <td>James Batman</td>\n      <td>1966</td>\n    </tr>\n    <tr>\n      <th>161527</th>\n      <td>Batman: The Movie</td>\n      <td>1966</td>\n    </tr>\n    <tr>\n      <th>56159</th>\n      <td>Batman Fights Dracula</td>\n      <td>1967</td>\n    </tr>\n    <tr>\n      <th>168504</th>\n      <td>Fight! Batman, Fight!</td>\n      <td>1973</td>\n    </tr>\n    <tr>\n      <th>150621</th>\n      <td>Batman</td>\n      <td>1989</td>\n    </tr>\n    <tr>\n      <th>156239</th>\n      <td>Alyas Batman en Robin</td>\n      <td>1991</td>\n    </tr>\n    <tr>\n      <th>156755</th>\n      <td>Batman Returns</td>\n      <td>1992</td>\n    </tr>\n    <tr>\n      <th>63366</th>\n      <td>Batman: Mask of the Phantasm</td>\n      <td>1993</td>\n    </tr>\n    <tr>\n      <th>30236</th>\n      <td>Batman Forever</td>\n      <td>1995</td>\n    </tr>\n    <tr>\n      <th>46333</th>\n      <td>Batman &amp; Robin</td>\n      <td>1997</td>\n    </tr>\n    <tr>\n      <th>208220</th>\n      <td>Batman Begins</td>\n      <td>2005</td>\n    </tr>\n  </tbody>\n</table>\n</div>"
     },
     "execution_count": 250,
     "metadata": {},
     "output_type": "execute_result"
    }
   ],
   "source": [
    "batman_df.sort_values(by=['year'], ascending=True).iloc[:15]"
   ]
  },
  {
   "cell_type": "markdown",
   "metadata": {
    "pycharm": {
     "name": "#%% md\n"
    }
   },
   "source": [
    "### Section I - Q1 : List all the 'Harry Potter' movies from the most recent to the earliest"
   ]
  },
  {
   "cell_type": "code",
   "execution_count": 251,
   "metadata": {
    "pycharm": {
     "name": "#%%\n"
    }
   },
   "outputs": [
    {
     "name": "stdout",
     "output_type": "stream",
     "text": [
      "Total Harry Potter Movies: 8\n"
     ]
    },
    {
     "data": {
      "text/plain": "                                               title  year\n143147  Harry Potter and the Deathly Hallows: Part 2  2011\n152831  Harry Potter and the Deathly Hallows: Part 1  2010\n109213        Harry Potter and the Half-Blood Prince  2009\n50581      Harry Potter and the Order of the Phoenix  2007\n187926           Harry Potter and the Goblet of Fire  2005\n61957       Harry Potter and the Prisoner of Azkaban  2004\n82791        Harry Potter and the Chamber of Secrets  2002\n223087         Harry Potter and the Sorcerer's Stone  2001",
      "text/html": "<div>\n<style scoped>\n    .dataframe tbody tr th:only-of-type {\n        vertical-align: middle;\n    }\n\n    .dataframe tbody tr th {\n        vertical-align: top;\n    }\n\n    .dataframe thead th {\n        text-align: right;\n    }\n</style>\n<table border=\"1\" class=\"dataframe\">\n  <thead>\n    <tr style=\"text-align: right;\">\n      <th></th>\n      <th>title</th>\n      <th>year</th>\n    </tr>\n  </thead>\n  <tbody>\n    <tr>\n      <th>143147</th>\n      <td>Harry Potter and the Deathly Hallows: Part 2</td>\n      <td>2011</td>\n    </tr>\n    <tr>\n      <th>152831</th>\n      <td>Harry Potter and the Deathly Hallows: Part 1</td>\n      <td>2010</td>\n    </tr>\n    <tr>\n      <th>109213</th>\n      <td>Harry Potter and the Half-Blood Prince</td>\n      <td>2009</td>\n    </tr>\n    <tr>\n      <th>50581</th>\n      <td>Harry Potter and the Order of the Phoenix</td>\n      <td>2007</td>\n    </tr>\n    <tr>\n      <th>187926</th>\n      <td>Harry Potter and the Goblet of Fire</td>\n      <td>2005</td>\n    </tr>\n    <tr>\n      <th>61957</th>\n      <td>Harry Potter and the Prisoner of Azkaban</td>\n      <td>2004</td>\n    </tr>\n    <tr>\n      <th>82791</th>\n      <td>Harry Potter and the Chamber of Secrets</td>\n      <td>2002</td>\n    </tr>\n    <tr>\n      <th>223087</th>\n      <td>Harry Potter and the Sorcerer's Stone</td>\n      <td>2001</td>\n    </tr>\n  </tbody>\n</table>\n</div>"
     },
     "execution_count": 251,
     "metadata": {},
     "output_type": "execute_result"
    }
   ],
   "source": [
    "hp_df = movies[movies.title.str.contains('Harry Potter', case=False)]\n",
    "print('Total Harry Potter Movies:', len(hp_df))\n",
    "hp_df.sort_values(by='year', ascending=False)"
   ]
  },
  {
   "cell_type": "markdown",
   "metadata": {
    "pycharm": {
     "name": "#%% md\n"
    }
   },
   "source": [
    "### How many movies were made in the year 2017?"
   ]
  },
  {
   "cell_type": "code",
   "execution_count": 252,
   "metadata": {
    "pycharm": {
     "name": "#%%\n"
    }
   },
   "outputs": [
    {
     "data": {
      "text/plain": "11474"
     },
     "execution_count": 252,
     "metadata": {},
     "output_type": "execute_result"
    }
   ],
   "source": [
    "len(movies[movies.year == 2017])"
   ]
  },
  {
   "cell_type": "markdown",
   "metadata": {
    "pycharm": {
     "name": "#%% md\n"
    }
   },
   "source": [
    "### Section I - Q2 : How many movies were made in the year 2015?"
   ]
  },
  {
   "cell_type": "code",
   "execution_count": 253,
   "metadata": {
    "pycharm": {
     "name": "#%%\n"
    }
   },
   "outputs": [
    {
     "data": {
      "text/plain": "8702"
     },
     "execution_count": 253,
     "metadata": {},
     "output_type": "execute_result"
    }
   ],
   "source": [
    "len(movies[movies.year == 2015])"
   ]
  },
  {
   "cell_type": "markdown",
   "metadata": {
    "pycharm": {
     "name": "#%% md\n"
    }
   },
   "source": [
    "### Section I - Q3 : How many movies were made from 2000 till 2018?\n",
    "- You can chain multiple conditions using OR (`|`) as well as AND (`&`) depending on the condition"
   ]
  },
  {
   "cell_type": "code",
   "execution_count": 254,
   "metadata": {
    "pycharm": {
     "name": "#%%\n"
    }
   },
   "outputs": [
    {
     "data": {
      "text/plain": "114070"
     },
     "execution_count": 254,
     "metadata": {},
     "output_type": "execute_result"
    }
   ],
   "source": [
    "len(movies[(movies.year >= 2000) & (movies.year <=2018)])"
   ]
  },
  {
   "cell_type": "markdown",
   "metadata": {
    "pycharm": {
     "name": "#%% md\n"
    }
   },
   "source": [
    "### Section I - Q4: How many movies are titled \"Hamlet\"?"
   ]
  },
  {
   "cell_type": "code",
   "execution_count": 255,
   "metadata": {
    "pycharm": {
     "name": "#%%\n"
    }
   },
   "outputs": [
    {
     "name": "stdout",
     "output_type": "stream",
     "text": [
      "Exact: 20\tContains: 57\n"
     ]
    }
   ],
   "source": [
    "count_hamlet_exact = len(movies[movies.title == 'Hamlet'])\n",
    "count_hamlet_contains = len(movies[movies.title.str.contains('Hamlet', case=False)])\n",
    "print('Exact: %i\\tContains: %i' %(count_hamlet_exact, count_hamlet_contains))"
   ]
  },
  {
   "cell_type": "markdown",
   "metadata": {
    "pycharm": {
     "name": "#%% md\n"
    }
   },
   "source": [
    "### Section I - Q5: List all movies titled \"Hamlet\" \n",
    "- The movies should only have been released on or after the year 2000\n",
    "- Display the movies based on the year they were released (earliest to most recent)"
   ]
  },
  {
   "cell_type": "code",
   "execution_count": 256,
   "metadata": {
    "pycharm": {
     "name": "#%%\n"
    }
   },
   "outputs": [
    {
     "name": "stdout",
     "output_type": "stream",
     "text": [
      "         title  year\n",
      "55639   Hamlet  2000\n",
      "1931    Hamlet  2009\n",
      "227953  Hamlet  2011\n",
      "178290  Hamlet  2014\n",
      "186137  Hamlet  2015\n",
      "191940  Hamlet  2016\n",
      "244747  Hamlet  2017\n"
     ]
    }
   ],
   "source": [
    "df_hamlet_after2000 = movies[(movies.title == 'Hamlet') & (movies.year >= 2000)]\n",
    "print(df_hamlet_after2000.sort_values(by='year', ascending=True))"
   ]
  },
  {
   "cell_type": "markdown",
   "metadata": {
    "pycharm": {
     "name": "#%% md\n"
    }
   },
   "source": [
    "### Section I - Q6: How many roles in the movie \"Inception\" are of the supporting cast (extra credits)\n",
    "- supporting cast are NOT ranked by an \"n\" value (NaN)\n",
    "- check for how to filter based on nulls"
   ]
  },
  {
   "cell_type": "code",
   "execution_count": 257,
   "metadata": {
    "pycharm": {
     "name": "#%%\n"
    }
   },
   "outputs": [
    {
     "name": "stdout",
     "output_type": "stream",
     "text": [
      "Inception Extras Count: 27\n"
     ]
    }
   ],
   "source": [
    "cast.head()\n",
    "inception_cast = cast[cast.title == 'Inception']\n",
    "inception_extras = inception_cast[inception_cast.n.isna()]\n",
    "print('Inception Extras Count: %i' %len(inception_extras))"
   ]
  },
  {
   "cell_type": "markdown",
   "metadata": {
    "pycharm": {
     "name": "#%% md\n"
    }
   },
   "source": [
    "### Section I - Q7: How many roles in the movie \"Inception\" are of the main cast\n",
    "- main cast always have an 'n' value"
   ]
  },
  {
   "cell_type": "code",
   "execution_count": 258,
   "metadata": {
    "pycharm": {
     "name": "#%%\n"
    }
   },
   "outputs": [
    {
     "name": "stdout",
     "output_type": "stream",
     "text": [
      "Inception Main Cast Count: 51\n"
     ]
    }
   ],
   "source": [
    "print('Inception Main Cast Count: %i' %(len(inception_cast) - len(inception_extras)))"
   ]
  },
  {
   "cell_type": "markdown",
   "metadata": {
    "pycharm": {
     "name": "#%% md\n"
    }
   },
   "source": [
    "### Section I - Q8: Show the top ten cast (actors\\actresses) in the movie \"Inception\" \n",
    "- main cast always have an 'n' value\n",
    "- remember to sort!"
   ]
  },
  {
   "cell_type": "code",
   "execution_count": 259,
   "metadata": {
    "pycharm": {
     "name": "#%%\n"
    }
   },
   "outputs": [
    {
     "data": {
      "text/plain": "             title  year                  name     type        character     n\n590576   Inception  2010     Leonardo DiCaprio    actor             Cobb   1.0\n859993   Inception  2010  Joseph Gordon-Levitt    actor           Arthur   2.0\n3387147  Inception  2010            Ellen Page  actress          Ariadne   3.0\n940923   Inception  2010             Tom Hardy    actor            Eames   4.0\n2406531  Inception  2010          Ken Watanabe    actor            Saito   5.0\n1876301  Inception  2010            Dileep Rao    actor            Yusuf   6.0\n1615709  Inception  2010        Cillian Murphy    actor   Robert Fischer   7.0\n183937   Inception  2010          Tom Berenger    actor         Browning   8.0\n2765969  Inception  2010      Marion Cotillard  actress              Mal   9.0\n1826027  Inception  2010    Pete Postlethwaite    actor  Maurice Fischer  10.0",
      "text/html": "<div>\n<style scoped>\n    .dataframe tbody tr th:only-of-type {\n        vertical-align: middle;\n    }\n\n    .dataframe tbody tr th {\n        vertical-align: top;\n    }\n\n    .dataframe thead th {\n        text-align: right;\n    }\n</style>\n<table border=\"1\" class=\"dataframe\">\n  <thead>\n    <tr style=\"text-align: right;\">\n      <th></th>\n      <th>title</th>\n      <th>year</th>\n      <th>name</th>\n      <th>type</th>\n      <th>character</th>\n      <th>n</th>\n    </tr>\n  </thead>\n  <tbody>\n    <tr>\n      <th>590576</th>\n      <td>Inception</td>\n      <td>2010</td>\n      <td>Leonardo DiCaprio</td>\n      <td>actor</td>\n      <td>Cobb</td>\n      <td>1.0</td>\n    </tr>\n    <tr>\n      <th>859993</th>\n      <td>Inception</td>\n      <td>2010</td>\n      <td>Joseph Gordon-Levitt</td>\n      <td>actor</td>\n      <td>Arthur</td>\n      <td>2.0</td>\n    </tr>\n    <tr>\n      <th>3387147</th>\n      <td>Inception</td>\n      <td>2010</td>\n      <td>Ellen Page</td>\n      <td>actress</td>\n      <td>Ariadne</td>\n      <td>3.0</td>\n    </tr>\n    <tr>\n      <th>940923</th>\n      <td>Inception</td>\n      <td>2010</td>\n      <td>Tom Hardy</td>\n      <td>actor</td>\n      <td>Eames</td>\n      <td>4.0</td>\n    </tr>\n    <tr>\n      <th>2406531</th>\n      <td>Inception</td>\n      <td>2010</td>\n      <td>Ken Watanabe</td>\n      <td>actor</td>\n      <td>Saito</td>\n      <td>5.0</td>\n    </tr>\n    <tr>\n      <th>1876301</th>\n      <td>Inception</td>\n      <td>2010</td>\n      <td>Dileep Rao</td>\n      <td>actor</td>\n      <td>Yusuf</td>\n      <td>6.0</td>\n    </tr>\n    <tr>\n      <th>1615709</th>\n      <td>Inception</td>\n      <td>2010</td>\n      <td>Cillian Murphy</td>\n      <td>actor</td>\n      <td>Robert Fischer</td>\n      <td>7.0</td>\n    </tr>\n    <tr>\n      <th>183937</th>\n      <td>Inception</td>\n      <td>2010</td>\n      <td>Tom Berenger</td>\n      <td>actor</td>\n      <td>Browning</td>\n      <td>8.0</td>\n    </tr>\n    <tr>\n      <th>2765969</th>\n      <td>Inception</td>\n      <td>2010</td>\n      <td>Marion Cotillard</td>\n      <td>actress</td>\n      <td>Mal</td>\n      <td>9.0</td>\n    </tr>\n    <tr>\n      <th>1826027</th>\n      <td>Inception</td>\n      <td>2010</td>\n      <td>Pete Postlethwaite</td>\n      <td>actor</td>\n      <td>Maurice Fischer</td>\n      <td>10.0</td>\n    </tr>\n  </tbody>\n</table>\n</div>"
     },
     "execution_count": 259,
     "metadata": {},
     "output_type": "execute_result"
    }
   ],
   "source": [
    "inception_cast.nsmallest(10, 'n')"
   ]
  },
  {
   "cell_type": "markdown",
   "metadata": {
    "pycharm": {
     "name": "#%% md\n"
    }
   },
   "source": [
    "### Section I - Q9:\n",
    "\n",
    "(A) List all movies where there was a character 'Albus Dumbledore' \n",
    "\n",
    "(B) Now modify the above to show only the actors who played the character 'Albus Dumbledore'\n",
    "- For Part (B) remember the same actor might play the same role in multiple movies"
   ]
  },
  {
   "cell_type": "code",
   "execution_count": 260,
   "metadata": {
    "pycharm": {
     "name": "#%%\n"
    }
   },
   "outputs": [
    {
     "name": "stdout",
     "output_type": "stream",
     "text": [
      "                                             title  year                 name  \\\n",
      "704984                                  Epic Movie  2007         Dane Farwell   \n",
      "792421         Harry Potter and the Goblet of Fire  2005       Michael Gambon   \n",
      "792423   Harry Potter and the Order of the Phoenix  2007       Michael Gambon   \n",
      "792424    Harry Potter and the Prisoner of Azkaban  2004       Michael Gambon   \n",
      "947789     Harry Potter and the Chamber of Secrets  2002       Richard Harris   \n",
      "947790       Harry Potter and the Sorcerer's Stone  2001       Richard Harris   \n",
      "1685537                      Ultimate Hero Project  2013  George (X) O'Connor   \n",
      "2248085                                     Potter  2015    Timothy Tedmanson   \n",
      "\n",
      "          type         character     n  \n",
      "704984   actor  Albus Dumbledore  17.0  \n",
      "792421   actor  Albus Dumbledore  37.0  \n",
      "792423   actor  Albus Dumbledore  36.0  \n",
      "792424   actor  Albus Dumbledore  27.0  \n",
      "947789   actor  Albus Dumbledore  32.0  \n",
      "947790   actor  Albus Dumbledore   1.0  \n",
      "1685537  actor  Albus Dumbledore   NaN  \n",
      "2248085  actor  Albus Dumbledore   NaN  \n"
     ]
    }
   ],
   "source": [
    "dumbledore_cast = cast[cast.character == 'Albus Dumbledore']\n",
    "print(dumbledore_cast)"
   ]
  },
  {
   "cell_type": "code",
   "execution_count": 261,
   "metadata": {
    "pycharm": {
     "name": "#%%\n"
    }
   },
   "outputs": [
    {
     "name": "stdout",
     "output_type": "stream",
     "text": [
      "['Dane Farwell' 'Michael Gambon' 'Richard Harris' \"George (X) O'Connor\"\n",
      " 'Timothy Tedmanson']\n"
     ]
    }
   ],
   "source": [
    "print(dumbledore_cast.name.unique())"
   ]
  },
  {
   "cell_type": "markdown",
   "metadata": {
    "pycharm": {
     "name": "#%% md\n"
    }
   },
   "source": [
    "### Section I - Q10:\n",
    "\n",
    "(A) How many roles has 'Keanu Reeves' played throughout his career?\n",
    "\n",
    "(B) List the leading roles that 'Keanu Reeves' played on or after 1999 in order by year."
   ]
  },
  {
   "cell_type": "code",
   "execution_count": 262,
   "metadata": {
    "pycharm": {
     "name": "#%%\n"
    }
   },
   "outputs": [
    {
     "name": "stdout",
     "output_type": "stream",
     "text": [
      "62\n"
     ]
    }
   ],
   "source": [
    "cast_keanu = cast[cast.name == 'Keanu Reeves']\n",
    "# assuming same character in different movies as separate roles\n",
    "print(len(cast_keanu))"
   ]
  },
  {
   "cell_type": "code",
   "execution_count": 263,
   "metadata": {
    "pycharm": {
     "name": "#%%\n"
    }
   },
   "outputs": [
    {
     "name": "stdout",
     "output_type": "stream",
     "text": [
      "                                 title  year   type             character\n",
      "1892390                     The Matrix  1999  actor                   Neo\n",
      "1892397               The Replacements  2000  actor           Shane Falco\n",
      "1892358                      Hard Ball  2001  actor         Conor O'Neill\n",
      "1892383                 Sweet November  2001  actor           Nelson Moss\n",
      "1892348                    Constantine  2005  actor      John Constantine\n",
      "1892388                 The Lake House  2006  actor            Alex Wyler\n",
      "1892382                   Street Kings  2008  actor  Detective Tom Ludlow\n",
      "1892385  The Day the Earth Stood Still  2008  actor                Klaatu\n",
      "1892359                  Henry's Crime  2010  actor           Henry Torne\n",
      "1892342                       47 Ronin  2013  actor                   Kai\n",
      "1892361                      John Wick  2014  actor             John Wick\n",
      "1892366                    Knock Knock  2015  actor                  Evan\n",
      "1892399                The Whole Truth  2016  actor                Ramsey\n",
      "1892362           John Wick: Chapter 2  2017  actor             John Wick\n",
      "1892378                        Siberia  2018  actor            Lucas Hill\n"
     ]
    },
    {
     "name": "stderr",
     "output_type": "stream",
     "text": [
      "/Users/mkhung/opt/anaconda3/envs/mec-miniprojects/lib/python3.7/site-packages/pandas/core/frame.py:3997: SettingWithCopyWarning: \n",
      "A value is trying to be set on a copy of a slice from a DataFrame\n",
      "\n",
      "See the caveats in the documentation: https://pandas.pydata.org/pandas-docs/stable/user_guide/indexing.html#returning-a-view-versus-a-copy\n",
      "  errors=errors,\n"
     ]
    }
   ],
   "source": [
    "# assume leading roles mean n=1\n",
    "cast_keanu_leading_after1999 = cast_keanu[(cast_keanu.year >= 1999) & (cast_keanu.n == 1)]\n",
    "cast_keanu_leading_after1999.drop(['n', 'name'], inplace=True, axis=1)\n",
    "print(cast_keanu_leading_after1999.sort_values('year'))"
   ]
  },
  {
   "cell_type": "markdown",
   "metadata": {
    "pycharm": {
     "name": "#%% md\n"
    }
   },
   "source": [
    "### Section I - Q11: \n",
    "\n",
    "(A) List the total number of actor and actress roles available from 1950 - 1960\n",
    "\n",
    "(B) List the total number of actor and actress roles available from 2007 - 2017"
   ]
  },
  {
   "cell_type": "code",
   "execution_count": 264,
   "metadata": {
    "pycharm": {
     "name": "#%%\n"
    }
   },
   "outputs": [
    {
     "name": "stdout",
     "output_type": "stream",
     "text": [
      "Roles between 1950-1960: 234635\n"
     ]
    }
   ],
   "source": [
    "roles_between_1950_1960 = len(cast[(cast.year >= 1950) & (cast.year<=1960)])\n",
    "print('Roles between 1950-1960: %i' %roles_between_1950_1960)"
   ]
  },
  {
   "cell_type": "code",
   "execution_count": 265,
   "metadata": {
    "pycharm": {
     "name": "#%%\n"
    }
   },
   "outputs": [
    {
     "name": "stdout",
     "output_type": "stream",
     "text": [
      "Roles between 2007-2017: 1452413\n"
     ]
    }
   ],
   "source": [
    "roles_between_2007_2017 = len(cast[(cast.year >= 2007) & (cast.year<=2017)])\n",
    "print('Roles between 2007-2017: %i' %roles_between_2007_2017)"
   ]
  },
  {
   "cell_type": "markdown",
   "metadata": {
    "pycharm": {
     "name": "#%% md\n"
    }
   },
   "source": [
    "### Section I - Q12: \n",
    "\n",
    "(A) List the total number of leading roles available from 2000 to present\n",
    "\n",
    "(B) List the total number of non-leading roles available from 2000 - present (exclude support cast)\n",
    "\n",
    "(C) List the total number of support\\extra-credit roles available from 2000 - present"
   ]
  },
  {
   "cell_type": "code",
   "execution_count": 266,
   "metadata": {
    "pycharm": {
     "name": "#%%\n"
    }
   },
   "outputs": [
    {
     "name": "stdout",
     "output_type": "stream",
     "text": [
      "Leading roles after 2000: 60568\n"
     ]
    }
   ],
   "source": [
    "leading_roles_after_2000 = len(cast[(cast.year >= 2000) & (cast.n == 1)])\n",
    "print('Leading roles after 2000: %i' %leading_roles_after_2000)"
   ]
  },
  {
   "cell_type": "code",
   "execution_count": 267,
   "metadata": {
    "pycharm": {
     "name": "#%%\n"
    }
   },
   "outputs": [
    {
     "name": "stdout",
     "output_type": "stream",
     "text": [
      "Extras roles after 2000: 887484\n"
     ]
    }
   ],
   "source": [
    "# non-leading and not support cast means extras?\n",
    "extras_roles_after_2000 = len(cast[(cast.year >= 2000) & (cast.n.isna())])\n",
    "print('Extras roles after 2000: %i' %extras_roles_after_2000)"
   ]
  },
  {
   "cell_type": "code",
   "execution_count": 268,
   "metadata": {
    "pycharm": {
     "name": "#%%\n"
    }
   },
   "outputs": [
    {
     "name": "stdout",
     "output_type": "stream",
     "text": [
      "Extras + support roles after 2000: 1889194\n"
     ]
    }
   ],
   "source": [
    "# support cast and extras\n",
    "support_roles_after_2000 = len(cast[(cast.year >= 2000) & cast.n.notna() & (cast.n != 1)])\n",
    "print('Extras + support roles after 2000: %i' %(support_roles_after_2000 + extras_roles_after_2000))"
   ]
  },
  {
   "cell_type": "markdown",
   "metadata": {
    "pycharm": {
     "name": "#%% md\n"
    }
   },
   "source": [
    "# Section II - Aggregations, Transformations and Visualizations"
   ]
  },
  {
   "cell_type": "markdown",
   "metadata": {
    "pycharm": {
     "name": "#%% md\n"
    }
   },
   "source": [
    "## What are the top ten most common movie names of all time?\n"
   ]
  },
  {
   "cell_type": "code",
   "execution_count": 269,
   "metadata": {
    "pycharm": {
     "name": "#%%\n"
    }
   },
   "outputs": [
    {
     "data": {
      "text/plain": "Hamlet                  20\nCarmen                  17\nMacbeth                 16\nTemptation              12\nMaya                    12\nThe Outsider            12\nThe Three Musketeers    11\nHoneymoon               11\nOthello                 11\nFreedom                 11\nName: title, dtype: int64"
     },
     "execution_count": 269,
     "metadata": {},
     "output_type": "execute_result"
    }
   ],
   "source": [
    "top_ten = movies.title.value_counts()[:10]\n",
    "top_ten"
   ]
  },
  {
   "cell_type": "markdown",
   "metadata": {
    "pycharm": {
     "name": "#%% md\n"
    }
   },
   "source": [
    "### Plot the top ten common movie names of all time"
   ]
  },
  {
   "cell_type": "code",
   "execution_count": 270,
   "metadata": {
    "pycharm": {
     "name": "#%%\n"
    }
   },
   "outputs": [
    {
     "data": {
      "text/plain": "<matplotlib.axes._subplots.AxesSubplot at 0x7f7dbaf60590>"
     },
     "execution_count": 270,
     "metadata": {},
     "output_type": "execute_result"
    },
    {
     "data": {
      "text/plain": "<Figure size 432x288 with 1 Axes>",
      "image/png": "[encoded data removed]"
     },
     "metadata": {
      "needs_background": "light"
     },
     "output_type": "display_data"
    }
   ],
   "source": [
    "top_ten.plot(kind='barh')"
   ]
  },
  {
   "cell_type": "markdown",
   "metadata": {
    "pycharm": {
     "name": "#%% md\n"
    }
   },
   "source": [
    "### Section II - Q1:  Which years in the 2000s saw the most movies released? (Show top 3)"
   ]
  },
  {
   "cell_type": "code",
   "execution_count": 271,
   "metadata": {
    "pycharm": {
     "name": "#%%\n"
    }
   },
   "outputs": [
    {
     "data": {
      "text/plain": "      title\nyear       \n2009   6125",
      "text/html": "<div>\n<style scoped>\n    .dataframe tbody tr th:only-of-type {\n        vertical-align: middle;\n    }\n\n    .dataframe tbody tr th {\n        vertical-align: top;\n    }\n\n    .dataframe thead th {\n        text-align: right;\n    }\n</style>\n<table border=\"1\" class=\"dataframe\">\n  <thead>\n    <tr style=\"text-align: right;\">\n      <th></th>\n      <th>title</th>\n    </tr>\n    <tr>\n      <th>year</th>\n      <th></th>\n    </tr>\n  </thead>\n  <tbody>\n    <tr>\n      <th>2009</th>\n      <td>6125</td>\n    </tr>\n  </tbody>\n</table>\n</div>"
     },
     "execution_count": 271,
     "metadata": {},
     "output_type": "execute_result"
    }
   ],
   "source": [
    "movies[(movies.year >= 2000) & (movies.year < 2010)].groupby('year').count().sort_values('year', ascending=False).head(1)"
   ]
  },
  {
   "cell_type": "markdown",
   "metadata": {
    "pycharm": {
     "name": "#%% md\n"
    }
   },
   "source": [
    "### Section II - Q2: # Plot the total number of films released per-decade (1890, 1900, 1910,....)\n",
    "- Hint: Dividing the year and multiplying with a number might give you the decade the year falls into!\n",
    "- You might need to sort before plotting"
   ]
  },
  {
   "cell_type": "code",
   "execution_count": 272,
   "metadata": {
    "pycharm": {
     "name": "#%%\n"
    }
   },
   "outputs": [
    {
     "data": {
      "text/plain": "<matplotlib.axes._subplots.AxesSubplot at 0x7f7ed2fa99d0>"
     },
     "execution_count": 272,
     "metadata": {},
     "output_type": "execute_result"
    },
    {
     "data": {
      "text/plain": "<Figure size 432x288 with 1 Axes>",
      "image/png": "[encoded data removed]"
     },
     "metadata": {
      "needs_background": "light"
     },
     "output_type": "display_data"
    }
   ],
   "source": [
    "movies_decade = movies.copy()\n",
    "movies_decade['decade'] = movies_decade.year.map(lambda x: int(x/10)*10)\n",
    "#movies_decade.decade.value_counts().plot(kind='bar')\n",
    "#print(movies_decade.decade.value_counts().sort_index(ascending=True))\n",
    "movies_decade.decade.value_counts().sort_index(ascending=True).plot(kind='bar')"
   ]
  },
  {
   "cell_type": "markdown",
   "metadata": {
    "pycharm": {
     "name": "#%% md\n"
    }
   },
   "source": [
    "### Section II - Q3: \n",
    "\n",
    "(A) What are the top 10 most common character names in movie history?\n",
    "\n",
    "(B) Who are the top 10 people most often credited as \"Herself\" in movie history?\n",
    "\n",
    "(C) Who are the top 10 people most often credited as \"Himself\" in movie history?"
   ]
  },
  {
   "cell_type": "code",
   "execution_count": 273,
   "metadata": {
    "pycharm": {
     "name": "#%%\n"
    }
   },
   "outputs": [
    {
     "name": "stdout",
     "output_type": "stream",
     "text": [
      "character\n",
      "Himself        20746\n",
      "Dancer         12477\n",
      "Extra          11948\n",
      "Reporter        8434\n",
      "Student         7773\n",
      "Doctor          7669\n",
      "Party Guest     7245\n",
      "Policeman       7029\n",
      "Nurse           6999\n",
      "Bartender       6802\n",
      "Name: type, dtype: int64\n"
     ]
    }
   ],
   "source": [
    "cast_characters = cast.groupby('character')['type'].count().sort_values(ascending=False).head(10)\n",
    "print(cast_characters)"
   ]
  },
  {
   "cell_type": "code",
   "execution_count": 274,
   "metadata": {
    "pycharm": {
     "name": "#%%\n"
    }
   },
   "outputs": [
    {
     "name": "stdout",
     "output_type": "stream",
     "text": [
      "name\n",
      "Queen Elizabeth II           12\n",
      "Joyce Brothers                9\n",
      "Luisa Horga                   9\n",
      "Mar?a Luisa (V) Mart?n        9\n",
      "Margaret Thatcher             8\n",
      "Hillary Clinton               8\n",
      "In?s J. Southern              6\n",
      "Mar?a Isabel (III) Mart?n     6\n",
      "Marilyn Monroe                6\n",
      "Rekha                         6\n",
      "Name: title, dtype: int64\n"
     ]
    }
   ],
   "source": [
    "cast_herself = cast[cast.character == 'Herself'].groupby('name')['title'].count().sort_values(ascending=False).head(10)\n",
    "print(cast_herself)"
   ]
  },
  {
   "cell_type": "code",
   "execution_count": 275,
   "metadata": {
    "pycharm": {
     "name": "#%%\n"
    }
   },
   "outputs": [
    {
     "name": "stdout",
     "output_type": "stream",
     "text": [
      "name\n",
      "Adolf Hitler             99\n",
      "Richard Nixon            44\n",
      "Ronald Reagan            41\n",
      "John F. Kennedy          37\n",
      "George W. Bush           25\n",
      "Winston Churchill        24\n",
      "Martin Luther King       23\n",
      "Bill Clinton             22\n",
      "Ron Jeremy               22\n",
      "Franklin D. Roosevelt    21\n",
      "Name: title, dtype: int64\n"
     ]
    }
   ],
   "source": [
    "cast_himself = cast[cast.character == 'Himself'].groupby('name')['title'].count().sort_values(ascending=False).head(10)\n",
    "print(cast_himself)"
   ]
  },
  {
   "cell_type": "markdown",
   "metadata": {
    "pycharm": {
     "name": "#%% md\n"
    }
   },
   "source": [
    "### Section II - Q4: \n",
    "\n",
    "(A) What are the top 10 most frequent roles that start with the word \"Zombie\"?\n",
    "\n",
    "(B) What are the top 10 most frequent roles that start with the word \"Police\"?\n",
    "\n",
    "- Hint: The `startswith()` function might be useful"
   ]
  },
  {
   "cell_type": "code",
   "execution_count": 276,
   "metadata": {
    "pycharm": {
     "name": "#%%\n"
    }
   },
   "outputs": [
    {
     "name": "stdout",
     "output_type": "stream",
     "text": [
      "character\n",
      "Zombie                         6264\n",
      "Zombie Horde                    206\n",
      "Zombie - Protestor - Victim      78\n",
      "Zombie Extra                     70\n",
      "Zombie Dancer                    43\n",
      "Zombie #1                        36\n",
      "Zombie Girl                      36\n",
      "Zombie #2                        31\n",
      "Zombie Vampire                   25\n",
      "Zombie Victim                    22\n",
      "Name: title, dtype: int64\n"
     ]
    }
   ],
   "source": [
    "cast_zombies = cast[cast.character.str.startswith('Zombie')]\n",
    "cast_zombies_grouped = cast_zombies.groupby('character')['title'].count().nlargest(10)\n",
    "print(cast_zombies_grouped)"
   ]
  },
  {
   "cell_type": "code",
   "execution_count": 277,
   "metadata": {
    "pycharm": {
     "name": "#%%\n"
    }
   },
   "outputs": [
    {
     "name": "stdout",
     "output_type": "stream",
     "text": [
      "character\n",
      "Policeman              7029\n",
      "Police Officer         4808\n",
      "Police Inspector        742\n",
      "Police Sergeant         674\n",
      "Police officer          539\n",
      "Police                  456\n",
      "Policewoman             415\n",
      "Police Chief            410\n",
      "Police Captain          387\n",
      "Police Commissioner     337\n",
      "Name: title, dtype: int64\n"
     ]
    }
   ],
   "source": [
    "cast_zombies = cast[cast.character.str.startswith('Police')]\n",
    "cast_zombies_grouped = cast_zombies.groupby('character')['title'].count().nlargest(10)\n",
    "print(cast_zombies_grouped)"
   ]
  },
  {
   "cell_type": "markdown",
   "metadata": {
    "pycharm": {
     "name": "#%% md\n"
    }
   },
   "source": [
    "### Section II - Q5: Plot how many roles 'Keanu Reeves' has played in each year of his career."
   ]
  },
  {
   "cell_type": "code",
   "execution_count": 278,
   "metadata": {
    "pycharm": {
     "name": "#%%\n"
    }
   },
   "outputs": [
    {
     "data": {
      "text/plain": "Text(0.5, 1.0, 'Keanu Reeves Roles per Year')"
     },
     "execution_count": 278,
     "metadata": {},
     "output_type": "execute_result"
    },
    {
     "data": {
      "text/plain": "<Figure size 432x288 with 1 Axes>",
      "image/png": "[encoded data removed]"
     },
     "metadata": {
      "needs_background": "light"
     },
     "output_type": "display_data"
    }
   ],
   "source": [
    "cast_keanu_by_year = cast[cast.name == 'Keanu Reeves'].groupby('year')['title'].count()\n",
    "cast_keanu_by_year.plot()\n",
    "plt.title('Keanu Reeves Roles per Year')"
   ]
  },
  {
   "cell_type": "markdown",
   "metadata": {
    "pycharm": {
     "name": "#%% md\n"
    }
   },
   "source": [
    "### Section II - Q6: Plot the cast positions (n-values) of Keanu Reeve's roles through his career over the years.\n"
   ]
  },
  {
   "cell_type": "code",
   "execution_count": 279,
   "metadata": {
    "pycharm": {
     "name": "#%%\n"
    }
   },
   "outputs": [
    {
     "data": {
      "text/plain": "<Figure size 432x288 with 1 Axes>",
      "image/png": "[encoded data removed]"
     },
     "metadata": {
      "needs_background": "light"
     },
     "output_type": "display_data"
    }
   ],
   "source": [
    "cast_keanu_by_n = cast[cast.name == 'Keanu Reeves'].groupby('n')['title'].count()\n",
    "cast_keanu_by_n.plot(kind='bar')\n",
    "plt.title('Keanu Reeves Roles per Cast Position')\n",
    "plt.show()"
   ]
  },
  {
   "cell_type": "markdown",
   "metadata": {
    "pycharm": {
     "name": "#%% md\n"
    }
   },
   "source": [
    "### Section II - Q7: Plot the number of \"Hamlet\" films made by each decade"
   ]
  },
  {
   "cell_type": "code",
   "execution_count": 280,
   "metadata": {
    "pycharm": {
     "name": "#%%\n"
    }
   },
   "outputs": [
    {
     "data": {
      "text/plain": "<Figure size 432x288 with 1 Axes>",
      "image/png": "[encoded data removed]"
     },
     "metadata": {
      "needs_background": "light"
     },
     "output_type": "display_data"
    }
   ],
   "source": [
    "movies_decade_hamlet = movies_decade[movies_decade.title == 'Hamlet'].groupby('decade')['title'].count()\n",
    "movies_decade_hamlet.plot(kind='barh')\n",
    "plt.title('Hamlet Movies per Decade')\n",
    "plt.show()"
   ]
  },
  {
   "cell_type": "markdown",
   "metadata": {
    "pycharm": {
     "name": "#%% md\n"
    }
   },
   "source": [
    "### Section II - Q8:\n",
    "\n",
    "(A) How many leading roles were available to both actors and actresses, in the 1960s (1960-1969)?\n",
    "\n",
    "(B) How many leading roles were available to both actors and actresses, in the 2000s (2000-2009)?\n",
    "\n",
    "- Hint: A specific value of n might indicate a leading role"
   ]
  },
  {
   "cell_type": "code",
   "execution_count": 281,
   "metadata": {
    "pycharm": {
     "name": "#%%\n"
    }
   },
   "outputs": [
    {
     "name": "stdout",
     "output_type": "stream",
     "text": [
      "type\n",
      "actor      8320\n",
      "actress    3503\n",
      "Name: title, dtype: int64\n"
     ]
    }
   ],
   "source": [
    "cast_leading_roles_1960s = cast[(cast.n == 1) & (cast.year>=1960) & (cast.year <=1969)].groupby('type')['title'].count()\n",
    "print(cast_leading_roles_1960s)"
   ]
  },
  {
   "cell_type": "code",
   "execution_count": 282,
   "metadata": {
    "pycharm": {
     "name": "#%%\n"
    }
   },
   "outputs": [
    {
     "name": "stdout",
     "output_type": "stream",
     "text": [
      "type\n",
      "actor      18557\n",
      "actress     7787\n",
      "Name: title, dtype: int64\n"
     ]
    }
   ],
   "source": [
    "cast_leading_roles_2000s = cast[(cast.n == 1) & (cast.year>=2000) & (cast.year <=2009)].groupby('type')['title'].count()\n",
    "print(cast_leading_roles_2000s)"
   ]
  },
  {
   "cell_type": "markdown",
   "metadata": {
    "pycharm": {
     "name": "#%% md\n"
    }
   },
   "source": [
    "### Section II - Q9: List, in order by year, each of the films in which Frank Oz has played more than 1 role."
   ]
  },
  {
   "cell_type": "code",
   "execution_count": 283,
   "metadata": {
    "pycharm": {
     "name": "#%%\n"
    }
   },
   "outputs": [
    {
     "name": "stdout",
     "output_type": "stream",
     "text": [
      "                                   title  year  nroles\n",
      "24                      The Muppet Movie  1979       8\n",
      "0         An American Werewolf in London  1981       2\n",
      "22                The Great Muppet Caper  1981       6\n",
      "20                      The Dark Crystal  1982       2\n",
      "25            The Muppets Take Manhattan  1984       7\n",
      "2                       Follow That Bird  1985       3\n",
      "23            The Muppet Christmas Carol  1992       7\n",
      "7                 Muppet Treasure Island  1996       4\n",
      "8                     Muppets from Space  1999       4\n",
      "18  The Adventures of Elmo in Grouchland  1999       3\n"
     ]
    }
   ],
   "source": [
    "cast_frank_oz_count = cast[cast.name == 'Frank Oz'].groupby(['title', 'year'])['character'].count()\n",
    "cast_frank_oz_count = cast_frank_oz_count.to_frame().reset_index().rename(columns={'character': 'nroles'})\n",
    "cast_frank_oz_count_gt1 = cast_frank_oz_count[cast_frank_oz_count.nroles > 1].sort_values('year')\n",
    "print(cast_frank_oz_count_gt1)"
   ]
  },
  {
   "cell_type": "markdown",
   "metadata": {
    "pycharm": {
     "name": "#%% md\n"
    }
   },
   "source": [
    "### Section II - Q10: List each of the characters that Frank Oz has portrayed at least twice"
   ]
  },
  {
   "cell_type": "code",
   "execution_count": 284,
   "metadata": {
    "pycharm": {
     "name": "#%%\n"
    }
   },
   "outputs": [
    {
     "name": "stdout",
     "output_type": "stream",
     "text": [
      "         character  repeats\n",
      "0           Animal        6\n",
      "18      Miss Piggy        6\n",
      "34            Yoda        6\n",
      "5   Cookie Monster        5\n",
      "25   Sam the Eagle        5\n",
      "10     Fozzie Bear        4\n",
      "2             Bert        3\n",
      "15          Grover        2\n"
     ]
    }
   ],
   "source": [
    "cast_frank_oz_char_repeats = cast[cast.name == 'Frank Oz'].groupby('character')['title'].count()\n",
    "cast_frank_oz_char_repeats = cast_frank_oz_char_repeats.to_frame().reset_index().rename(columns={'title': 'repeats'})\n",
    "cast_frank_oz_count_gt1 = cast_frank_oz_char_repeats[cast_frank_oz_char_repeats.repeats > 1].sort_values('repeats', ascending=False)\n",
    "print(cast_frank_oz_count_gt1)"
   ]
  },
  {
   "cell_type": "markdown",
   "metadata": {
    "pycharm": {
     "name": "#%% md\n"
    }
   },
   "source": [
    "# Section III - Advanced Merging, Querying and Visualizations"
   ]
  },
  {
   "cell_type": "markdown",
   "metadata": {
    "pycharm": {
     "name": "#%% md\n"
    }
   },
   "source": [
    "## Make a bar plot with the following conditions\n",
    "- Frequency of the number of movies with \"Christmas\" in their title \n",
    "- Movies should be such that they are released in the USA.\n",
    "- Show the frequency plot by month"
   ]
  },
  {
   "cell_type": "code",
   "execution_count": 285,
   "metadata": {
    "pycharm": {
     "name": "#%%\n"
    }
   },
   "outputs": [
    {
     "data": {
      "text/plain": "<matplotlib.axes._subplots.AxesSubplot at 0x7f7db88eb610>"
     },
     "execution_count": 285,
     "metadata": {},
     "output_type": "execute_result"
    },
    {
     "data": {
      "text/plain": "<Figure size 432x288 with 1 Axes>",
      "image/png": "[encoded data removed]"
     },
     "metadata": {
      "needs_background": "light"
     },
     "output_type": "display_data"
    }
   ],
   "source": [
    "christmas = release_dates[(release_dates.title.str.contains('Christmas')) & (release_dates.country == 'USA')]\n",
    "christmas.date.dt.month.value_counts().sort_index().plot(kind='bar')"
   ]
  },
  {
   "cell_type": "markdown",
   "metadata": {
    "pycharm": {
     "name": "#%% md\n"
    }
   },
   "source": [
    "### Section III - Q1: Make a bar plot with the following conditions\n",
    "- Frequency of the number of movies with \"Summer\" in their title \n",
    "- Movies should be such that they are released in the USA.\n",
    "- Show the frequency plot by month"
   ]
  },
  {
   "cell_type": "code",
   "execution_count": 286,
   "metadata": {
    "pycharm": {
     "name": "#%%\n"
    }
   },
   "outputs": [
    {
     "data": {
      "text/plain": "<matplotlib.axes._subplots.AxesSubplot at 0x7f7db8b4dcd0>"
     },
     "execution_count": 286,
     "metadata": {},
     "output_type": "execute_result"
    },
    {
     "data": {
      "text/plain": "<Figure size 432x288 with 1 Axes>",
      "image/png": "[encoded data removed]"
     },
     "metadata": {
      "needs_background": "light"
     },
     "output_type": "display_data"
    }
   ],
   "source": [
    "summer = release_dates[(release_dates.title.str.contains('Summer')) & (release_dates.country == 'USA')]\n",
    "summer.date.dt.month.value_counts().sort_index().plot(kind='bar')"
   ]
  },
  {
   "cell_type": "markdown",
   "metadata": {
    "pycharm": {
     "name": "#%% md\n"
    }
   },
   "source": [
    "### Section III - Q2: Make a bar plot with the following conditions\n",
    "- Frequency of the number of movies with \"Action\" in their title \n",
    "- Movies should be such that they are released in the USA.\n",
    "- Show the frequency plot by week"
   ]
  },
  {
   "cell_type": "code",
   "execution_count": 287,
   "metadata": {
    "pycharm": {
     "name": "#%%\n"
    }
   },
   "outputs": [
    {
     "data": {
      "text/plain": "<matplotlib.axes._subplots.AxesSubplot at 0x7f7db8bcef10>"
     },
     "execution_count": 287,
     "metadata": {},
     "output_type": "execute_result"
    },
    {
     "data": {
      "text/plain": "<Figure size 432x288 with 1 Axes>",
      "image/png": "[encoded data removed]"
     },
     "metadata": {
      "needs_background": "light"
     },
     "output_type": "display_data"
    }
   ],
   "source": [
    "action = release_dates[(release_dates.title.str.contains('Action')) & (release_dates.country == 'USA')]\n",
    "action.date.dt.week.value_counts().sort_index().plot(kind='bar')"
   ]
  },
  {
   "cell_type": "markdown",
   "source": [
    "### Section III - Q3: Show all the movies in which Keanu Reeves has played the lead role along with their   release date in the USA sorted by the date of release\n",
    "- Hint: You might need to join or merge two datasets!"
   ],
   "metadata": {
    "collapsed": false,
    "pycharm": {
     "name": "#%% md\n"
    }
   }
  },
  {
   "cell_type": "code",
   "execution_count": 288,
   "outputs": [
    {
     "name": "stdout",
     "output_type": "stream",
     "text": [
      "                               title  year_cast          name   type  \\\n",
      "17                             Speed       1994  Keanu Reeves  actor   \n",
      "18                             Speed       1994  Keanu Reeves  actor   \n",
      "21                    Sweet November       2001  Keanu Reeves  actor   \n",
      "27                  The Night Before       1988  Keanu Reeves  actor   \n",
      "3   Bill & Ted's Excellent Adventure       1989  Keanu Reeves  actor   \n",
      "2         Bill & Ted's Bogus Journey       1991  Keanu Reeves  actor   \n",
      "14                     Little Buddha       1993  Keanu Reeves  actor   \n",
      "19                             Speed       1994  Keanu Reeves  actor   \n",
      "11                   Johnny Mnemonic       1995  Keanu Reeves  actor   \n",
      "1               A Walk in the Clouds       1995  Keanu Reeves  actor   \n",
      "4                     Chain Reaction       1996  Keanu Reeves  actor   \n",
      "6                  Feeling Minnesota       1996  Keanu Reeves  actor   \n",
      "24              The Devil's Advocate       1997  Keanu Reeves  actor   \n",
      "26                        The Matrix       1999  Keanu Reeves  actor   \n",
      "28                  The Replacements       2000  Keanu Reeves  actor   \n",
      "22                    Sweet November       2001  Keanu Reeves  actor   \n",
      "7                          Hard Ball       2001  Keanu Reeves  actor   \n",
      "5                        Constantine       2005  Keanu Reeves  actor   \n",
      "25                    The Lake House       2006  Keanu Reeves  actor   \n",
      "20                      Street Kings       2008  Keanu Reeves  actor   \n",
      "23     The Day the Earth Stood Still       2008  Keanu Reeves  actor   \n",
      "0                           47 Ronin       2013  Keanu Reeves  actor   \n",
      "9                          John Wick       2014  Keanu Reeves  actor   \n",
      "12                       Knock Knock       2015  Keanu Reeves  actor   \n",
      "10              John Wick: Chapter 2       2017  Keanu Reeves  actor   \n",
      "13                       Knock Knock       2015  Keanu Reeves  actor   \n",
      "8                      Henry's Crime       2010  Keanu Reeves  actor   \n",
      "15                     One Step Away       1985  Keanu Reeves  actor   \n",
      "16                           Siberia       2018  Keanu Reeves  actor   \n",
      "29                   The Whole Truth       2016  Keanu Reeves  actor   \n",
      "\n",
      "               character    n  year_release country       date  \n",
      "17           Jack Traven  1.0        1922.0     USA 1922-10-22  \n",
      "18           Jack Traven  1.0        1936.0     USA 1936-05-08  \n",
      "21           Nelson Moss  1.0        1968.0     USA 1968-02-08  \n",
      "27      Winston Connelly  1.0        1988.0     USA 1988-04-15  \n",
      "3                    Ted  1.0        1989.0     USA 1989-02-17  \n",
      "2                    Ted  1.0        1991.0     USA 1991-07-19  \n",
      "14            Siddhartha  1.0        1993.0     USA 1994-05-25  \n",
      "19           Jack Traven  1.0        1994.0     USA 1994-06-10  \n",
      "11       Johnny Mnemonic  1.0        1995.0     USA 1995-05-26  \n",
      "1            Paul Sutton  1.0        1995.0     USA 1995-08-11  \n",
      "4       Eddie Kasalivich  1.0        1996.0     USA 1996-08-02  \n",
      "6          Jjaks Clayton  1.0        1996.0     USA 1996-09-13  \n",
      "24           Kevin Lomax  1.0        1997.0     USA 1997-10-17  \n",
      "26                   Neo  1.0        1999.0     USA 1999-03-31  \n",
      "28           Shane Falco  1.0        2000.0     USA 2000-08-11  \n",
      "22           Nelson Moss  1.0        2001.0     USA 2001-02-16  \n",
      "7          Conor O'Neill  1.0        2001.0     USA 2001-09-14  \n",
      "5       John Constantine  1.0        2005.0     USA 2005-02-18  \n",
      "25            Alex Wyler  1.0        2006.0     USA 2006-06-16  \n",
      "20  Detective Tom Ludlow  1.0        2008.0     USA 2008-04-11  \n",
      "23                Klaatu  1.0        2008.0     USA 2008-12-12  \n",
      "0                    Kai  1.0        2013.0     USA 2013-12-25  \n",
      "9              John Wick  1.0        2014.0     USA 2014-10-24  \n",
      "12                  Evan  1.0        2015.0     USA 2015-10-09  \n",
      "10             John Wick  1.0        2017.0     USA 2017-02-10  \n",
      "13                  Evan  1.0        2017.0     USA 2017-10-06  \n",
      "8            Henry Torne  1.0           NaN     NaN        NaT  \n",
      "15            Ron Petrie  1.0           NaN     NaN        NaT  \n",
      "16            Lucas Hill  1.0           NaN     NaN        NaT  \n",
      "29                Ramsey  1.0           NaN     NaN        NaT  \n"
     ]
    }
   ],
   "source": [
    "cast_keanu_lead = cast_keanu[cast_keanu.n == 1]\n",
    "release_dates_usa = release_dates[release_dates.country == 'USA']\n",
    "release_dates_keanu_lead_usa = cast_keanu_lead.merge(release_dates_usa, on='title', how='left', suffixes=('_cast','_release')).sort_values('date')\n",
    "print(release_dates_keanu_lead_usa)"
   ],
   "metadata": {
    "collapsed": false,
    "pycharm": {
     "name": "#%%\n"
    }
   }
  },
  {
   "cell_type": "markdown",
   "metadata": {
    "pycharm": {
     "name": "#%% md\n"
    }
   },
   "source": [
    "### Section III - Q4: Make a bar plot showing the months in which movies with Keanu Reeves tend to be released in the USA?"
   ]
  },
  {
   "cell_type": "code",
   "execution_count": 289,
   "metadata": {
    "pycharm": {
     "name": "#%%\n"
    }
   },
   "outputs": [
    {
     "data": {
      "text/plain": "<matplotlib.axes._subplots.AxesSubplot at 0x7f7db9441f10>"
     },
     "execution_count": 289,
     "metadata": {},
     "output_type": "execute_result"
    },
    {
     "data": {
      "text/plain": "<Figure size 432x288 with 1 Axes>",
      "image/png": "[encoded data removed]"
     },
     "metadata": {
      "needs_background": "light"
     },
     "output_type": "display_data"
    }
   ],
   "source": [
    "release_dates_keanu_lead_usa.date.dt.month.value_counts().sort_index().plot(kind='bar')"
   ]
  },
  {
   "cell_type": "markdown",
   "metadata": {
    "pycharm": {
     "name": "#%% md\n"
    }
   },
   "source": [
    "### Section III - Q5: Make a bar plot showing the years in which movies with Ian McKellen tend to be released in the USA?"
   ]
  },
  {
   "cell_type": "code",
   "execution_count": 290,
   "metadata": {
    "pycharm": {
     "name": "#%%\n"
    }
   },
   "outputs": [
    {
     "name": "stdout",
     "output_type": "stream",
     "text": [
      "                    title  year_cast          name   type  \\\n",
      "0         A Touch of Love       1969  Ian McKellen  actor   \n",
      "1        Alfred the Great       1969  Ian McKellen  actor   \n",
      "2         Animal Crackers       2017  Ian McKellen  actor   \n",
      "3         Animal Crackers       2017  Ian McKellen  actor   \n",
      "4               Apt Pupil       1998  Ian McKellen  actor   \n",
      "..                    ...        ...           ...    ...   \n",
      "62  X-Men: The Last Stand       2006  Ian McKellen  actor   \n",
      "63  X-Men: The Last Stand       2006  Ian McKellen  actor   \n",
      "64                     X2       2003  Ian McKellen  actor   \n",
      "65                     X2       2003  Ian McKellen  actor   \n",
      "66                   Zina       1985  Ian McKellen  actor   \n",
      "\n",
      "                character    n  year_release country       date  \n",
      "0                  George  2.0           NaN     NaN        NaT  \n",
      "1                   Roger  5.0           NaN     NaN        NaT  \n",
      "2   Horatio P. Huntington  4.0        1930.0     USA 1930-09-06  \n",
      "3   Horatio P. Huntington  4.0        2017.0     USA 2018-05-04  \n",
      "4          Kurt Dussander  2.0        1998.0     USA 1998-10-23  \n",
      "..                    ...  ...           ...     ...        ...  \n",
      "62         Erik Lehnsherr  3.0        2006.0     USA 2006-05-26  \n",
      "63                Magneto  3.0        2006.0     USA 2006-05-26  \n",
      "64         Eric Lehnsherr  3.0        2003.0     USA 2003-05-02  \n",
      "65                Magneto  3.0        2003.0     USA 2003-05-02  \n",
      "66               Kronfeld  NaN           NaN     NaN        NaT  \n",
      "\n",
      "[67 rows x 9 columns]\n"
     ]
    },
    {
     "data": {
      "text/plain": "<Figure size 432x288 with 1 Axes>",
      "image/png": "[encoded data removed]"
     },
     "metadata": {
      "needs_background": "light"
     },
     "output_type": "display_data"
    }
   ],
   "source": [
    "cast_mckellen = cast[cast.name == 'Ian McKellen']\n",
    "release_dates_usa = release_dates[release_dates.country == 'USA']\n",
    "release_dates_mckellen_usa = cast_mckellen.merge(release_dates_usa, on='title', how='left', suffixes=('_cast','_release'))\n",
    "release_dates_mckellen_usa.date.dt.year.value_counts().sort_index().plot(kind='bar')\n",
    "print(release_dates_mckellen_usa)"
   ]
  }
 ],
 "metadata": {
  "kernelspec": {
   "display_name": "Python 3",
   "language": "python",
   "name": "python3"
  },
  "language_info": {
   "codemirror_mode": {
    "name": "ipython",
    "version": 3
   },
   "file_extension": ".py",
   "mimetype": "text/x-python",
   "name": "python",
   "nbconvert_exporter": "python",
   "pygments_lexer": "ipython3",
   "version": "3.7.6-final"
  }
 },
 "nbformat": 4,
 "nbformat_minor": 2
}